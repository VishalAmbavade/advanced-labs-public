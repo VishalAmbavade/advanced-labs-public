{
 "cells": [
  {
   "cell_type": "markdown",
   "id": "5ba36903-ee71-4a62-9bb8-8e0270fdae64",
   "metadata": {},
   "source": [
    "# Advanced Text Analytics Lab 1"
   ]
  },
  {
   "cell_type": "markdown",
   "id": "1de31fe1-70a5-4357-b9d9-be40038c556c",
   "metadata": {},
   "source": [
    "This notebook is the first of two lab notebooks that you will submit as part of your assessment for the Advanced Data Analytics unit. \n",
    "\n",
    "This notebook is contains three sections:\n",
    "1. **Word embeddings:** This will introduce you to loading and training word embeddings using the Gensim library.\n",
    "2. **Introducing neural text classifiers:** Here we show you how to construct a neural network text classifier for sentiment analysis using Pytorch. \n",
    "3. **Improving neural text classifiers:** This section gives you a chance to improve the classifier from the previous section by applying what we have learned in the lectures.\n",
    "\n",
    "## Learning Outcomes\n",
    "\n",
    "These sections will contain tutorial-like instructions, as you have seen in previous text analytics labs. On completing these sections, the intended learning outcomes are that you will be able to...\n",
    "1. Load pretrained word embeddings models.\n",
    "1. Learn word embeddings from an unlabelled dataset.\n",
    "1. Recognise the steps required to train and test a neural text classifier with Pytorch\n",
    "1. Adapt the architecture of a neural text classifier.\n",
    "\n",
    "## Getting Started -- Python Packages\n",
    "\n",
    "Please see the README.md file for instructions on setting up your Python environment. The readme will instruct you to install the required packages, in addition to those used for Introduction to Data Analytics:\n",
    "\n",
    " * pytorch=1.9.0\n",
    " * scipy=1.8.0\n",
    " * transformers=2.1.1\n",
    "\n",
    "## Your Tasks\n",
    "\n",
    "Inside each of these sections there are several **'To-do's**, which you must complete for your summative assessment. Your marks will be based on your answers to these to-dos. Please make sure to:\n",
    "1. Include the output of your code in the saved notebook. Plots and printed output should be visible without re-running the code. \n",
    "1. Include all code needed to generate your answers.\n",
    "1. Provide sufficient comments to understand how your method works.\n",
    "1. Write text in a cell in markdown format where a written answer is required. You can convert a cell to markdown format by pressing Escape-M. \n",
    "\n",
    "There are also some unmarked 'to-do's that are part of the tutorial to help you learn how to implement and use the methods studied here. These do not contribute to your final marks.\n",
    "\n",
    "## Good Academic Practice\n",
    "\n",
    "Please follow [the guidance on academic integrity provided by the university](http://www.bristol.ac.uk/students/support/academic-advice/academic-integrity/).\n",
    "You are required to write your own answers -- do not share your notebooks or copy someone else's writing. Do not copy text or long blocks of code directly into the notebook from online sources -- always rewrite in your own way. Breaking the rules can lead to strong penalties. \n",
    "\n",
    "## Marking Criteria\n",
    "\n",
    "1. The coursework (both notebooks) is worth 30% of the unit in total. \n",
    "1. There is a total of 100 marks available for both lab notebooks. \n",
    "1. This notebook is worth 50 of those marks.\n",
    "1. The number of marks for each to-do out of 100 is shown alongside each to-do.\n",
    "1. For to-dos that require you to write code, a good solution would meet the following criteria (in order of importance):\n",
    "   1. Solves the task or answers the question asked in the to-do. This means, if the code cells in the notebook are executed in order, we will get the output shown in your notebook.\n",
    "   1. The code is easy to follow and does not contain unnecessary steps.\n",
    "   1. The comments show that you understand how your solution works.\n",
    "   1. A very good answer will also provide code that is computationally efficient but easy to read.\n",
    "1. You can use any suitable publicly available libraries. Unless the task explicitly asks you to implement something from scratch, there is no penalty for using libraries to implement some steps.\n",
    "\n",
    "## Support\n",
    "\n",
    "The main source of support will be during the remaining lab sessions (Fridays 3-6pm) for this unit. \n",
    "\n",
    "The TAs and lecturer will help you with questions about the lectures, the code provided for you in this notebook, and general questions about the topics we cover. For the marked 'to-dos', they can only answer clarifying questions about what you have to do. \n",
    "\n",
    "Office hours: You can book office hours with Edwin on Mondays 3pm-5pm by sending him an email (edwin.simpson@bristol.ac.uk). If those times are not possible for you, please contact him by email to request an alternative. \n",
    "\n",
    "## Deadline\n",
    "\n",
    "The notebook must be submitted along with the second notebook on Blackboard before **Wednesday 24th May at 13.00**. \n",
    "\n",
    "## Submission\n",
    "\n",
    "You will need to zip up this notebook and the next notebook into a single .zip file, which you will submit to Blackboard through the 'assessment, submission and feedback' link on the left sidebar. \n",
    "\n",
    "Please name your files like this:\n",
    "   * Name this notebook ADA1_<student_number>.ipynb\n",
    "   * Name the zip file <student_number>.zip\n",
    "   * Please don't include your name as we want to mark anonymously to ensure fairness. "
   ]
  },
  {
   "cell_type": "markdown",
   "id": "c549d0b9-84d1-4d35-80b1-6341a3ea7ce6",
   "metadata": {},
   "source": [
    "# 1. Word Embeddings (max. 12 marks)"
   ]
  },
  {
   "cell_type": "markdown",
   "id": "df1a8852-b72a-48dd-a266-25a4bb774f6a",
   "metadata": {},
   "source": [
    "In this section we will use both sparse vectors and dense word2vec embeddings to obtain\n",
    "vector representations of words and documents. \n",
    "\n",
    "First, we will load the `tweet eval` sentiment dataset."
   ]
  },
  {
   "cell_type": "code",
   "execution_count": 1,
   "id": "5519c4b9-1cac-4e8a-9e7e-a8a40b389bdf",
   "metadata": {
    "collapsed": false,
    "jupyter": {
     "outputs_hidden": false
    },
    "pycharm": {
     "name": "#%%\n"
    }
   },
   "outputs": [],
   "source": [
    "import numpy as np\n",
    "import torch\n",
    "\n",
    "%load_ext autoreload\n",
    "%autoreload 2"
   ]
  },
  {
   "cell_type": "code",
   "execution_count": 2,
   "id": "e599bf09-ed1a-4e40-a551-2e3a889a3487",
   "metadata": {},
   "outputs": [
    {
     "name": "stderr",
     "output_type": "stream",
     "text": [
      "Found cached dataset tweet_eval (/mnt/d/Data Science MSc/Advanced DA/Week 22/advanced-labs-public/data_cache/tweet_eval/sentiment/1.1.0/12aee5282b8784f3e95459466db4cdf45c6bf49719c25cdb0743d71ed0410343)\n"
     ]
    },
    {
     "name": "stdout",
     "output_type": "stream",
     "text": [
      "Training dataset with 45615 instances loaded\n"
     ]
    },
    {
     "name": "stderr",
     "output_type": "stream",
     "text": [
      "Found cached dataset tweet_eval (/mnt/d/Data Science MSc/Advanced DA/Week 22/advanced-labs-public/data_cache/tweet_eval/sentiment/1.1.0/12aee5282b8784f3e95459466db4cdf45c6bf49719c25cdb0743d71ed0410343)\n"
     ]
    },
    {
     "name": "stdout",
     "output_type": "stream",
     "text": [
      "Development/validation dataset with 2000 instances loaded\n"
     ]
    },
    {
     "name": "stderr",
     "output_type": "stream",
     "text": [
      "Found cached dataset tweet_eval (/mnt/d/Data Science MSc/Advanced DA/Week 22/advanced-labs-public/data_cache/tweet_eval/sentiment/1.1.0/12aee5282b8784f3e95459466db4cdf45c6bf49719c25cdb0743d71ed0410343)\n"
     ]
    },
    {
     "name": "stdout",
     "output_type": "stream",
     "text": [
      "Test dataset with 12284 instances loaded\n"
     ]
    },
    {
     "name": "stderr",
     "output_type": "stream",
     "text": [
      "100%|██████████| 45615/45615 [00:03<00:00, 13343.53it/s]\n"
     ]
    },
    {
     "name": "stdout",
     "output_type": "stream",
     "text": [
      "The vocabulary has 43358 words\n",
      "Index of \"love\" is 22981\n"
     ]
    }
   ],
   "source": [
    "from datasets import load_dataset\n",
    "from tqdm import tqdm\n",
    "from sklearn.feature_extraction.text import CountVectorizer\n",
    "\n",
    "cache_dir = \"./data_cache\"\n",
    "\n",
    "train_dataset = load_dataset(\n",
    "    \"tweet_eval\",\n",
    "    name=\"sentiment\",\n",
    "    split=\"train\",\n",
    "    ignore_verifications=True,\n",
    "    cache_dir=cache_dir,\n",
    ")\n",
    "\n",
    "print(f\"Training dataset with {len(train_dataset)} instances loaded\")\n",
    "\n",
    "\n",
    "dev_dataset = load_dataset(\n",
    "    \"tweet_eval\",\n",
    "    name=\"sentiment\",\n",
    "    split=\"validation\",\n",
    "    ignore_verifications=True,\n",
    "    cache_dir=cache_dir,\n",
    ")\n",
    "\n",
    "print(f\"Development/validation dataset with {len(dev_dataset)} instances loaded\")\n",
    "\n",
    "\n",
    "test_dataset = load_dataset(\n",
    "    \"tweet_eval\",\n",
    "    name=\"sentiment\",\n",
    "    split=\"test\",\n",
    "    ignore_verifications=True,\n",
    "    cache_dir=cache_dir,\n",
    ")\n",
    "\n",
    "print(f\"Test dataset with {len(test_dataset)} instances loaded\")\n",
    "\n",
    "# Put the data into lists ready for the next steps...\n",
    "train_texts = []\n",
    "train_labels = []\n",
    "for i in tqdm(range(len(train_dataset))):\n",
    "    train_texts.append(train_dataset[i]['text'])\n",
    "    train_labels.append(train_dataset[i]['label'])\n",
    "            \n",
    "# HINT: A count vectorizer object may be useful in later steps\n",
    "vectorizer = CountVectorizer()\n",
    "vectorizer.fit(train_texts)\n",
    "\n",
    "# Get the vocabulary\n",
    "vocab = vectorizer.vocabulary_\n",
    "vocab_size = len(vocab)\n",
    "print(f'The vocabulary has {vocab_size} words')\n",
    "\n",
    "# invert the vocabulary dictionary so we can look up word types given an index\n",
    "keys = vocab.values()\n",
    "values = vocab.keys()\n",
    "vocab_inverted = dict(zip(keys, values))\n",
    "\n",
    "print(f'Index of \"love\" is {vocab[\"love\"]}')"
   ]
  },
  {
   "cell_type": "markdown",
   "id": "f8a63c3c-d24c-4810-9c34-4532b845e310",
   "metadata": {
    "tags": []
   },
   "source": [
    "## 1.1. Term-Document Matrix\n",
    "\n",
    "First we are going to obtain sparse word vectors from a term-document matrix."
   ]
  },
  {
   "cell_type": "markdown",
   "id": "bcd30abb-0951-46ee-81a6-b9217fba6b90",
   "metadata": {},
   "source": [
    "**TO-DO 1a:** Use CountVectorizer to obtain a term-document matrix for the training set. Then, write a function that takes a word as an argument and returns its term vector from the term-document matrix you computed. Get the term vector for the word 'love'. **(4 marks)**"
   ]
  },
  {
   "cell_type": "code",
   "execution_count": 3,
   "id": "52a52da7-89a5-41d6-bfab-83b3231d6949",
   "metadata": {},
   "outputs": [
    {
     "name": "stdout",
     "output_type": "stream",
     "text": [
      "Term vector of Love is: [0 0 0 ... 0 0 0]\n"
     ]
    }
   ],
   "source": [
    "# WRITE YOUR ANSWER HERE\n",
    "term_doc_matrix = vectorizer.fit_transform(train_texts)\n",
    "\n",
    "def term_vector(w):\n",
    "    vocab = vectorizer.vocabulary_\n",
    "    word_idx = vocab.get(w)\n",
    "\n",
    "    if word_idx is None:\n",
    "        return None\n",
    "    return term_doc_matrix[:, word_idx].toarray().squeeze()\n",
    "\n",
    "love_vec = term_vector('love')\n",
    "# for i in love_vec:\n",
    "#     print(i)\n",
    "print(f\"Term vector of Love is: {term_vector('love')}\")\n"
   ]
  },
  {
   "cell_type": "code",
   "execution_count": 4,
   "id": "a286c6e1-f3e9-4c40-b968-0c24eb8dbaa9",
   "metadata": {},
   "outputs": [],
   "source": [
    "# Define a list of words for comparison with 'love' in the next to-do.\n",
    "comparison_words = ['2wee', '4your', 'follow', 'goodnight', 'liam', 'lol', 'okay', 'sorry',\n",
    " 'wish', 'yea', 'affair', 'agree', 'all', 'alliums', 'alliumsvancouver', 'always',\n",
    " 'amazing', 'and', 'appreciate', 'ask', 'babe', 'baby', 'bandit76044', 'barat',\n",
    " 'beautiful', 'birthday', 'boy', 'bro', 'btw', 'but', 'commando', 'content',\n",
    " 'dear', 'dm', 'dream', 'dreams', 'enjoy', 'enjoyed', 'everything', 'fam',\n",
    " 'followers', 'for', 'forever', 'forget', 'friend', 'friends', 'gabrielle',\n",
    " 'girl', 'god', 'good', 'guys', 'hahaha', 'happy', 'hate', 'hello', 'hey',\n",
    " 'homework', 'hope', 'in', 'invite', 'is', 'isabel', 'it', 'jonny', 'kiss', 'know',\n",
    " 'krishna', 'ladies', 'let', 'life', 'like', 'lil', 'little', 'love', 'loved',\n",
    " 'loves', 'loving', 'lucky', 'luv', 'ma', 'may', 'me', 'mean', 'meet', 'met', 'miss',\n",
    " 'much', 'my', 'notice', 'nsfanfic', 'nuffsaid', 'nya', 'of', 'on', 'one',\n",
    " 'ontario', 'perfect', 'prefer', 'queen', 'rails', 'rather', 'recommend',\n",
    " 'remember', 'see', 'share', 'sing', 'smile', 'so', 'suggest', 'sunat', 'sweet',\n",
    " 'tag', 'tail', 'tebaklagu', 'thank', 'thanks', 'the', 'this', 'thsoul', 'to',\n",
    " 'tomorrow', 'too', 'true', 'unreservedly', 'user', 'want', 'weed', 'what', 'wish',\n",
    " 'wishes', 'with', 'women_of_christ', 'would', 'wow', 'xxxxxx', 'yay', 'yes',\n",
    " 'you', 'your', 'zorro',\n",
    "]"
   ]
  },
  {
   "cell_type": "markdown",
   "id": "8fb324d8-a92a-4fd7-bd7f-f3b0f0958e6b",
   "metadata": {},
   "source": [
    "**TO-DO 1b:** Write a function that computes the similarity between two different term vectors. For this to-do, do not simply call a library function that implements a similarity function, implement the calculation yourself. Use the function to find the five most similar terms to \"love\" from the list of `comparison_words` given above. **(6 marks)**"
   ]
  },
  {
   "cell_type": "code",
   "execution_count": 5,
   "id": "d65c269b",
   "metadata": {},
   "outputs": [
    {
     "data": {
      "text/plain": [
       "array([0, 0, 0, ..., 0, 0, 0])"
      ]
     },
     "execution_count": 5,
     "metadata": {},
     "output_type": "execute_result"
    }
   ],
   "source": [
    "term_vector('beautiful')"
   ]
  },
  {
   "cell_type": "code",
   "execution_count": 6,
   "id": "3a2cca67-685e-4760-92be-eea50ed87769",
   "metadata": {
    "collapsed": false,
    "jupyter": {
     "outputs_hidden": false
    },
    "pycharm": {
     "name": "#%%\n"
    }
   },
   "outputs": [],
   "source": [
    "# WRITE YOUR OWN CODE HERE\n",
    "\n",
    "def similarity_finder(a, b):\n",
    "    dot_prod = np.dot(a, b)\n",
    "    norm_a = np.linalg.norm(a)\n",
    "    norm_b = np.linalg.norm(b)\n",
    "    return dot_prod / (norm_a * norm_b)\n",
    "\n",
    "# word_vector = vectorizer.transform(['love']).toarray()[0]\n",
    "word_vector = term_vector('love')\n",
    "similarities = []\n",
    "\n",
    "# w_vector = term_vector('luv')\n",
    "# similarity = similarity_finder(word_vector, w_vector)\n",
    "\n",
    "# print(similarity)\n",
    "\n",
    "for w in comparison_words:\n",
    "    # w_vector = vectorizer.transform([w]).toarray()[0]\n",
    "    w_vector = term_vector(w)\n",
    "    similarity = similarity_finder(word_vector, w_vector)\n",
    "    # similarity = cosine_similarity(word_vector, w_vector)\n",
    "    similarities.append((w, similarity))\n",
    "\n",
    "similarities.sort(key=lambda x: x[1], reverse=True)\n",
    "most_similar = similarities[:5]"
   ]
  },
  {
   "cell_type": "code",
   "execution_count": 7,
   "id": "c8d7dc54",
   "metadata": {},
   "outputs": [
    {
     "data": {
      "text/plain": [
       "[('love', 1.0),\n",
       " ('you', 0.14170441974255654),\n",
       " ('user', 0.09879910847998889),\n",
       " ('the', 0.08769922256389782),\n",
       " ('and', 0.08543046072802546)]"
      ]
     },
     "execution_count": 7,
     "metadata": {},
     "output_type": "execute_result"
    }
   ],
   "source": [
    "most_similar"
   ]
  },
  {
   "cell_type": "markdown",
   "id": "b9654fde-cbe7-4020-99f7-49d97b4eacfa",
   "metadata": {},
   "source": [
    "## 1.2 Word Embeddings"
   ]
  },
  {
   "cell_type": "markdown",
   "id": "5e772ce7-853e-478d-9d0a-3f591100e88d",
   "metadata": {},
   "source": [
    "Now, we will use Gensim to train a word2vec model. The code below tokenizes the training texts, then runs word2vec (the skipgram model) to learn a set of embeddings. "
   ]
  },
  {
   "cell_type": "code",
   "execution_count": 8,
   "id": "7b5d13e1-683f-41f6-bf24-7c036aef59fa",
   "metadata": {
    "collapsed": false,
    "jupyter": {
     "outputs_hidden": false
    },
    "pycharm": {
     "is_executing": true,
     "name": "#%%\n"
    }
   },
   "outputs": [],
   "source": [
    "from gensim.models import word2vec\n",
    "from gensim.utils import tokenize\n",
    "\n",
    "tokenized_texts = [list(tokenize(text)) for text in train_texts]\n",
    "emb_model = word2vec.Word2Vec(tokenized_texts, sg=1, min_count=1, window=3, vector_size=100)"
   ]
  },
  {
   "cell_type": "code",
   "execution_count": 9,
   "id": "989624ac-dc98-461f-a5ad-c28cf27ca085",
   "metadata": {
    "pycharm": {
     "is_executing": true,
     "name": "#%%\n"
    },
    "tags": []
   },
   "outputs": [],
   "source": [
    "# get the word vector for 'love'\n",
    "love_embedding = emb_model.wv['love']"
   ]
  },
  {
   "cell_type": "markdown",
   "id": "8ccd66ea-cbbe-4c1a-a467-5a784facf33b",
   "metadata": {},
   "source": [
    "**TODO 1c:** Find the five most similar words to 'love' according to your word2vec model. You can use the Gensim function `similar_by_word` to do this. How does the Word2Vec top 5 differ from the top 5 comparison words found using the term-document matrix? **(2 marks)**\n",
    "\n",
    "WRITE YOUR ANSWER HERE\n"
   ]
  },
  {
   "cell_type": "code",
   "execution_count": 10,
   "id": "dc37a093-db74-4e10-9224-0740381b30fe",
   "metadata": {},
   "outputs": [
    {
     "data": {
      "text/plain": [
       "[('Wish', 0.8504544496536255),\n",
       " ('thank', 0.8472439050674438),\n",
       " ('appreciate', 0.8404375314712524),\n",
       " ('recommend', 0.8317470550537109),\n",
       " ('forever', 0.826970100402832)]"
      ]
     },
     "execution_count": 10,
     "metadata": {},
     "output_type": "execute_result"
    }
   ],
   "source": [
    "# WRITE YOUR OWN CODE HERE \n",
    "emb_model.wv.similar_by_word('love', topn = 5, restrict_vocab = False)"
   ]
  },
  {
   "attachments": {},
   "cell_type": "markdown",
   "id": "c99c52ed",
   "metadata": {},
   "source": [
    "The most similar words found using the term-document matrix and cosine similarity are as follows:<br>\n",
    "[('love', 1.0),\n",
    " ('you', 0.14170441974255654),\n",
    " ('user', 0.09879910847998889),\n",
    " ('the', 0.08769922256389782),\n",
    " ('and', 0.08543046072802546)]\n",
    "<br><br>\n",
    "Whereas, the words found using the word embedding are as follows:<br>\n",
    "[('thank', 0.8453572392463684),\n",
    " ('Wish', 0.8343931436538696),\n",
    " ('god', 0.8331354260444641),\n",
    " ('appreciate', 0.8308443427085876),\n",
    " ('Lol', 0.827850878238678)]\n",
    "<br><br>\n",
    "\n",
    "These lists differ a lot as both of them produce distinct results. In case of term-document matrix the top word is 'love' itself with the similarity score of `1.0`. Whereas, the top word found using Word2Vec is 'thank' with a similarity score of `.85`.<br><br>\n",
    "In case of term-document matrix, the top words found have very low similarity scores compared to the scores of top words found using the word embeddings. <br><br>\n",
    "The reason behind the low scores in term-document matrix is that it uses the frequency of words in a document and represents them in a verctor in a high-dimensional space. On the other hand, word embeddings uses different approach. It represents the words in a dense vector through a neural network."
   ]
  },
  {
   "cell_type": "markdown",
   "id": "eb28de29-ee93-47e9-ba62-de7771d7203d",
   "metadata": {
    "pycharm": {
     "name": "#%% md\n"
    }
   },
   "source": [
    "Above, we trained our own model using the skipgram method. We can also download a pretrained model that has previously been trained on a large corpus. There is a list of models available [here](https://radimrehurek.com/gensim/models/word2vec.html#pretrained-models). Let's try out GLoVe embeddings. GLoVe is an alternative to the skipgram model. This model was trained on a corpus of tweets:"
   ]
  },
  {
   "cell_type": "code",
   "execution_count": 11,
   "id": "693126a6-519a-44c1-b800-773fc95d38df",
   "metadata": {},
   "outputs": [
    {
     "name": "stdout",
     "output_type": "stream",
     "text": [
      "[-0.62645  -0.082389  0.070538  0.5782   -0.87199  -0.14816   2.2315\n",
      "  0.98573  -1.3154   -0.34921  -0.8847    0.14585  -4.97     -0.73369\n",
      " -0.94359   0.035859 -0.026733 -0.77538  -0.30014   0.48853  -0.16678\n",
      " -0.016651 -0.53164   0.64236  -0.10922 ]\n"
     ]
    }
   ],
   "source": [
    "import gensim.downloader\n",
    "\n",
    "glove_wv = gensim.downloader.load('glove-twitter-25')\n",
    "\n",
    "# show the vector for Hamlet:\n",
    "print(glove_wv['love'])"
   ]
  },
  {
   "cell_type": "markdown",
   "id": "dbcbeb21-549d-4315-bce1-e785cda13fd2",
   "metadata": {},
   "source": [
    "TODO 1d: Find the most similar five words to 'happy' according to the GloVe Twitter model. (this task is unmarked)"
   ]
  },
  {
   "cell_type": "code",
   "execution_count": 12,
   "id": "6893470a-08b7-4f44-b5f0-8faddb91ae85",
   "metadata": {},
   "outputs": [
    {
     "data": {
      "text/plain": [
       "[('birthday', 0.9577818512916565),\n",
       " ('thank', 0.937666654586792),\n",
       " ('welcome', 0.93361496925354),\n",
       " ('love', 0.9176183342933655),\n",
       " ('miss', 0.9164500832557678)]"
      ]
     },
     "execution_count": 12,
     "metadata": {},
     "output_type": "execute_result"
    }
   ],
   "source": [
    "# WRITE YOUR OWN CODE HERE\n",
    "glove_wv.similar_by_word('happy', topn = 5, restrict_vocab = False)"
   ]
  },
  {
   "cell_type": "markdown",
   "id": "bc39168a-7b01-4171-beb2-8a4bf035fd71",
   "metadata": {},
   "source": [
    "Notice again that a different set of words are favoured than with word2vec or term-document vectors, and consider how this might result from pretraining the embeddings on Twitter data."
   ]
  },
  {
   "cell_type": "markdown",
   "id": "421d24e4-d90d-4f50-a167-5f4876076355",
   "metadata": {},
   "source": [
    "# 2. Introducing Neural Text Classifiers (max. 16 marks)\n",
    "\n",
    "This section shows you how to implement a neural network classifier using Pytorch and leads you through the steps required to process text sequences.\n",
    "\n",
    "There are several big advantages to building a text classifier using a neural network:\n",
    "   * It can model nonlinear functions, so can handle much more complex relationships between features and class labels.\n",
    "   * It performs representation learning: the hidden layers learn how to extract features from low-level data.\n",
    "   * It can process sequences of tokens -- we don't have to think in terms of a single feature vector representing a document as we did for logistic regression.\n",
    "  \n",
    "The downsides are:\n",
    "   * Much more expensive to train and test.\n",
    "   * It can overfit very badly to small datasets.\n",
    "   * The features learned by the hidden layers can be hard to interpret, which can make it hard to predict the model's behaviour, e.g., what sort of cases it may fail on.\n",
    "   \n",
    "Let's start by building a neural network text classifier that takes a sequence of tokens as input, and predicts a class label. For simplicity, it will use a single fully connected feedforward layer. "
   ]
  },
  {
   "cell_type": "markdown",
   "id": "9ca4f88e-bd86-4917-8e9d-26ace635873e",
   "metadata": {},
   "source": [
    "\n",
    "We are going to construct the neural network in this form:\n",
    "\n",
    "<img src=\"neural_text_classifier_smaller.png\" alt=\"Neural text classifier diagram\" width=\"600px\"/>\n",
    "\n",
    "The first step -- as always -- is to get our data into the right format. We start from a set of tokenised documents (in this case, tweets), where each document is represented as a sequence of text tokens. The neural network cannot process the tokens as strings, so we need to convert each token to a numerical input value. The input value for each token is used to look up the corresponding embedding in the embedding layer. For PyTorch, it's not necessary to create one-hot vectors for each token, as library just uses the indexes of the words in the vocabulary to look up the corresponding word embedding. \n",
    "\n",
    "So, let's now map the tokens to their IDs -- their indexes in the vocabulary:"
   ]
  },
  {
   "cell_type": "code",
   "execution_count": 13,
   "id": "42a71101-e504-42a8-9862-74796af52cd0",
   "metadata": {
    "collapsed": false,
    "jupyter": {
     "outputs_hidden": false
    },
    "pycharm": {
     "name": "#%%\n"
    }
   },
   "outputs": [
    {
     "name": "stderr",
     "output_type": "stream",
     "text": [
      "Loading cached processed dataset at /mnt/d/Data Science MSc/Advanced DA/Week 22/advanced-labs-public/data_cache/tweet_eval/sentiment/1.1.0/12aee5282b8784f3e95459466db4cdf45c6bf49719c25cdb0743d71ed0410343/cache-9d9026ae5ba62cd4.arrow\n"
     ]
    },
    {
     "data": {
      "text/plain": [
       "45615"
      ]
     },
     "execution_count": 13,
     "metadata": {},
     "output_type": "execute_result"
    }
   ],
   "source": [
    "# tokenize training set and convert to input IDs.\n",
    "def encode_text(sample):\n",
    "    tokens = tokenize(sample['text'])  # Tokenize one document\n",
    "    \n",
    "    input_ids = []\n",
    "    for token in tokens:\n",
    "        if str.lower(token) in vocab:  # Skip words from the dev/test set that are not in the vocabulary.\n",
    "            input_ids.append(vocab[str.lower(token)]+1) # +1 is needed because we reserve 0 as a special character\n",
    "            \n",
    "    sample['input_ids'] = input_ids \n",
    "    return sample\n",
    "\n",
    "# The map method of the dataset object takes a function as its argument, \n",
    "# and applies that function to each document in the dataset.\n",
    "train_dataset = train_dataset.map(encode_text)\n",
    "len(train_dataset)"
   ]
  },
  {
   "cell_type": "markdown",
   "id": "c3ce8d8c-ce83-49b7-9b88-b84233be7dbf",
   "metadata": {},
   "source": [
    "Our neural network's input layer has a fixed size, so we need to make all of our documents have the same number of tokens. Let's plot a histogram to understand the length distribution of the texts in the training set:"
   ]
  },
  {
   "cell_type": "code",
   "execution_count": 14,
   "id": "832da949-3fec-4d26-936e-23c943546b68",
   "metadata": {},
   "outputs": [
    {
     "name": "stdout",
     "output_type": "stream",
     "text": [
      "Mean of the document length: 18.160166611860134\n",
      "Median of the document length: 18.0\n",
      "Maximum document length: 32\n"
     ]
    },
    {
     "data": {
      "text/plain": [
       "(array([   21.,   522.,  2430.,  4908.,  7772., 11003., 10389.,  6738.,\n",
       "         1719.,   113.]),\n",
       " array([ 1. ,  4.1,  7.2, 10.3, 13.4, 16.5, 19.6, 22.7, 25.8, 28.9, 32. ]),\n",
       " <BarContainer object of 10 artists>)"
      ]
     },
     "execution_count": 14,
     "metadata": {},
     "output_type": "execute_result"
    },
    {
     "data": {
      "image/png": "[encoded data removed]",
      "text/plain": [
       "<Figure size 640x480 with 1 Axes>"
      ]
     },
     "metadata": {},
     "output_type": "display_data"
    }
   ],
   "source": [
    "import matplotlib.pyplot as plt\n",
    "\n",
    "rv_l = [len(doc) for doc in train_dataset['input_ids']]\n",
    "print('Mean of the document length: {}'.format(np.mean(rv_l)))\n",
    "print('Median of the document length: {}'.format(np.median(rv_l)))\n",
    "print('Maximum document length: {}'.format(np.max(rv_l)))\n",
    "\n",
    "plt.hist(rv_l)"
   ]
  },
  {
   "attachments": {},
   "cell_type": "markdown",
   "id": "da97d92c-7002-4b63-9011-8ed21ea52e95",
   "metadata": {
    "pycharm": {
     "name": "#%% md\n"
    }
   },
   "source": [
    "We now need to choose a fixed sequence length, then *pad* the documents that are shorter than this maximum by adding a special token to the start of the sequence. The special pad token has an input value of 0. Any documents that exceed the length will be truncated.\n",
    "\n",
    "**TO-DO 2a:** Complete the padding code below to insert 0s at the start of any sequences that are too short, and to truncate any sequences that are too long. **(3 marks)**"
   ]
  },
  {
   "cell_type": "code",
   "execution_count": 15,
   "id": "a8488dfa-61b8-438e-92ee-7f9b84b27a68",
   "metadata": {
    "tags": []
   },
   "outputs": [
    {
     "name": "stderr",
     "output_type": "stream",
     "text": [
      "Loading cached processed dataset at /mnt/d/Data Science MSc/Advanced DA/Week 22/advanced-labs-public/data_cache/tweet_eval/sentiment/1.1.0/12aee5282b8784f3e95459466db4cdf45c6bf49719c25cdb0743d71ed0410343/cache-a17b7df5edfb4da8.arrow\n"
     ]
    }
   ],
   "source": [
    "sequence_length = 40  # truncate all docs longer than this. Pad all docs shorter than this.\n",
    "pad_token_id = 0\n",
    "\n",
    "def pad_text(sample):\n",
    "    ###WRITE YOUR OWN CODE HERE\n",
    "    # if (len(sample['text']) < sequence_length):\n",
    "    #     sample['text'] = sample['text'].rjust(sequence_length, '0')\n",
    "    # if (len(sample['text']) > sequence_length):\n",
    "    #     sample['text'] = sample['text'][:40]\n",
    "\n",
    "    # if (len(sample['input_ids']) < sequence_length):\n",
    "    #     padding_length = sequence_length - len(sample['input_ids'])\n",
    "    #     sample['input_ids'] = ['0'] * padding_length + sample['input_ids']\n",
    "    \n",
    "    # if (len(sample['input_ids']) > sequence_length):\n",
    "    #     sample['input_ids'] = sample['input_ids'][:40]\n",
    "    # ##########\n",
    "\n",
    "    # # sample = {'text':sample['text'], 'label':sample['label'], 'input_ids':sample['input_ids']}\n",
    "    \n",
    "    # return sample\n",
    "\n",
    "    text = sample['text']\n",
    "    input_ids = sample['input_ids']\n",
    "    label = sample['label']\n",
    "    \n",
    "    # truncate any sequences that are too long\n",
    "    if len(input_ids) > sequence_length:\n",
    "        input_ids = input_ids[:sequence_length]\n",
    "    \n",
    "    # pad any sequences that are too short\n",
    "    if len(input_ids) < sequence_length:\n",
    "        padding_length = sequence_length - len(input_ids)\n",
    "        input_ids = [pad_token_id] * padding_length + input_ids\n",
    "    \n",
    "    # create a new dictionary with the padded/truncated sequence and return it\n",
    "    padded_sample = {'text': text, 'label': label, 'input_ids': input_ids}\n",
    "    return padded_sample    \n",
    "\n",
    "# The map method will call pad_text for every document in the dataset\n",
    "train_dataset = train_dataset.map(pad_text)"
   ]
  },
  {
   "cell_type": "markdown",
   "id": "28fb33a1-ca74-4a95-bbd5-2b9e50167733",
   "metadata": {},
   "source": [
    "We now have our data in almost the right format! To train a model using PyTorch, we are going to wrap our dataset in a [DataLoader object](https://pytorch.org/docs/stable/data.html#torch.utils.data.DataLoader). This allows the training process to select random subsets of the dataset -- mini-batches -- which it will use for learning with mini-batch stochastic gradient descent."
   ]
  },
  {
   "cell_type": "code",
   "execution_count": 16,
   "id": "4ab3c226-402b-4eb5-8f9a-fe216b4c5da9",
   "metadata": {},
   "outputs": [],
   "source": [
    "from torch.utils.data import DataLoader, TensorDataset\n",
    "\n",
    "batch_size = 64\n",
    "\n",
    "# convert from the Huggingface format to a TensorDataset so we can use the mini-batch sampling functionality\n",
    "def convert_to_data_loader(dataset, num_classes):\n",
    "    # convert from list to tensor\n",
    "    input_tensor = torch.from_numpy(np.array(dataset['input_ids']))\n",
    "    # input_tensor = torch.from_numpy(np.array([item for sublist in train_dataset['input_ids'] for item in sublist]))\n",
    "    label_tensor = torch.from_numpy(np.array(dataset['label'])).long()\n",
    "    tensor_dataset = TensorDataset(input_tensor, label_tensor)\n",
    "    loader = DataLoader(tensor_dataset, batch_size=batch_size, shuffle=True)\n",
    "\n",
    "    return loader\n",
    "\n",
    "num_classes = len(np.unique(train_labels))   # number of possible labels in the sentiment analysis task\n",
    "\n",
    "train_loader = convert_to_data_loader(train_dataset, num_classes)"
   ]
  },
  {
   "cell_type": "markdown",
   "id": "d1a5825c-4a0e-4fc8-9de6-504bc7227377",
   "metadata": {},
   "source": [
    "Let's process the development and test set as well."
   ]
  },
  {
   "cell_type": "code",
   "execution_count": 17,
   "id": "78aa6ddc-b936-431c-865e-dc55eaf3086c",
   "metadata": {},
   "outputs": [
    {
     "name": "stderr",
     "output_type": "stream",
     "text": [
      "Loading cached processed dataset at /mnt/d/Data Science MSc/Advanced DA/Week 22/advanced-labs-public/data_cache/tweet_eval/sentiment/1.1.0/12aee5282b8784f3e95459466db4cdf45c6bf49719c25cdb0743d71ed0410343/cache-05659c67a7f822c7.arrow\n",
      "Loading cached processed dataset at /mnt/d/Data Science MSc/Advanced DA/Week 22/advanced-labs-public/data_cache/tweet_eval/sentiment/1.1.0/12aee5282b8784f3e95459466db4cdf45c6bf49719c25cdb0743d71ed0410343/cache-712295d61e698670.arrow\n",
      "Loading cached processed dataset at /mnt/d/Data Science MSc/Advanced DA/Week 22/advanced-labs-public/data_cache/tweet_eval/sentiment/1.1.0/12aee5282b8784f3e95459466db4cdf45c6bf49719c25cdb0743d71ed0410343/cache-845be0dc551ecfa5.arrow\n",
      "Loading cached processed dataset at /mnt/d/Data Science MSc/Advanced DA/Week 22/advanced-labs-public/data_cache/tweet_eval/sentiment/1.1.0/12aee5282b8784f3e95459466db4cdf45c6bf49719c25cdb0743d71ed0410343/cache-7a8a77a0513571e3.arrow\n"
     ]
    }
   ],
   "source": [
    "dev_dataset = dev_dataset.map(encode_text)\n",
    "dev_dataset = dev_dataset.map(pad_text)\n",
    "dev_loader = convert_to_data_loader(dev_dataset, num_classes)\n",
    "\n",
    "test_dataset = test_dataset.map(encode_text)\n",
    "test_dataset = test_dataset.map(pad_text)\n",
    "test_loader = convert_to_data_loader(test_dataset, num_classes)"
   ]
  },
  {
   "cell_type": "markdown",
   "id": "dd7b857f-5d57-44fd-a1b4-e1b31a009c72",
   "metadata": {},
   "source": [
    "As shown in the diagram above, we will build a NN with three different layers for sentiment classification.\n",
    "\n",
    "### Embedding layer\n",
    "In the embedding layer, the network will create its own embeddings for the index with a given embedding dimension.\n",
    "The module `nn.Embedding()` creates a simple lookup table that stores embeddings of a fixed dictionary and size.\n",
    "This module is often used to store word embeddings and retrieve them using indices.\n",
    "The module's input is a list of indices, and the output is the corresponding word embeddings.\n",
    "\n",
    "[Documentation for Embedding Class](https://pytorch.org/docs/stable/generated/torch.nn.Embedding.html)\n",
    "\n",
    "### Fully-connected layer\n",
    "Fully-connected layers in a neural network are those layers where all the inputs from the previous layer are connected to every unit of the fully-connected layer. Here we will use fully-connected layers for the hidden layer and output layer. In Pytorch this kind of layer is implemented by the 'Linear' class:\n",
    "\n",
    "https://pytorch.org/docs/stable/generated/torch.nn.Linear.html\n",
    "\n",
    "## Activation functions\n",
    "In Pytorch, the activation function is not included in the Linear class (or other kinds of neural network layer), so we need to explicitly connect each layer to an activation function.\n",
    "In Pytorch, we construct a neural network by connecting up the output of each component to the input of the next, thereby creating a computation graph.\n",
    "To complete the hidden layer, we connect the ouput of the linear layer to a ReLU activation function, thereby creating a nonlinear function.\n",
    "\n",
    "The cell below defines a class for our neural text classifier. The constructor creates each of the layers and the activations. The dimensions of each layer need to be correct so that the output of one layer can be passed as input to the next, but the code is not yet complete.\n",
    "\n",
    "Below the constructor is the forward method. This is called in the 'forward pass' to map the neural network's inputs to its outputs. In PyTorch, we pass data through each layer of the model, connecting them together, then returning the output of the final layer.\n",
    "\n",
    "**TO-DO 2b** Complete the constructor and the forward method below for a NN with three layers. The places where you need to add code are marked in the cell below. Refer to the Pytorch documentation for additional help.  **(2 marks)**"
   ]
  },
  {
   "cell_type": "code",
   "execution_count": 18,
   "id": "e38a13cf-4b4d-4ac2-868c-8ad5c1b72b7f",
   "metadata": {},
   "outputs": [],
   "source": [
    "from torch import nn\n",
    "\n",
    "class FFTextClassifier(nn.Module):\n",
    "    \n",
    "    def __init__(self, vocab_size, sequence_length, embedding_size, hidden_size, num_classes):\n",
    "        super(FFTextClassifier, self).__init__()\n",
    "\n",
    "        self.embedding_size = embedding_size\n",
    "\n",
    "        # Here we just need to construct the components of our network. We don't need to connect them together yet.\n",
    "        self.embedding_layer = nn.Embedding(vocab_size, embedding_size) # embedding layer\n",
    "        \n",
    "        ### COMPLETE THE CODE HERE: WRITE IN THE MISSING ARGUMENTS SPECIFYING THE DIMENSIONS OF EACH LAYER\n",
    "        self.hidden_layer = nn.Linear(sequence_length * embedding_size, hidden_size) # Fully connected hidden layer\n",
    "        self.activation = nn.ReLU() # Hidden layer\n",
    "        ##########\n",
    "        \n",
    "        self.output_layer = nn.Linear(hidden_size, num_classes) # Fully connected output layer\n",
    "\n",
    "        \n",
    "        \n",
    "    def forward (self, input_words):\n",
    "        # Input dimensions are:  (batch_size, seq_length)\n",
    "        embedded_words = self.embedding_layer(input_words)  # (batch_size, seq_length, embedding_size)\n",
    "\n",
    "        # flatten the sequence of embedding vectors for each document into a single vector.\n",
    "        embedded_words = embedded_words.reshape(embedded_words.shape[0], sequence_length*self.embedding_size)  # batch_size, seq_length*embedding_size\n",
    "\n",
    "        z = self.hidden_layer(embedded_words)   # (batch_size, seq_length, hidden_size)\n",
    "        \n",
    "        ### ADD THE MISSING LINE HERE\n",
    "        h = self.activation(z)\n",
    "        ########\n",
    "\n",
    "        output = self.output_layer(h)                      # (batch_size, num_classes)\n",
    "\n",
    "        # Notice we haven't applied a softmax activation to the output layer -- it's not required by Pytorch's loss function.\n",
    "\n",
    "        return output"
   ]
  },
  {
   "cell_type": "markdown",
   "id": "a06f22db-b953-4f98-920f-3f9a2b1e3707",
   "metadata": {},
   "source": [
    "Now the class is complete. \n",
    "\n",
    "TO-DO 2c: In the next cell, create a NN with the FFTextClassifier class we wrote. (unmarked)\n",
    "\n",
    "Hint: `ff_classifier_model = FFTextClassifier(...)`"
   ]
  },
  {
   "cell_type": "code",
   "execution_count": 19,
   "id": "a52d795a-adbc-4c48-aadf-f911520ac42c",
   "metadata": {},
   "outputs": [],
   "source": [
    "vocab_size = len(vectorizer.vocabulary_) + 1\n",
    "embedding_size = 10  # number of dimensions for embeddings\n",
    "hidden_size = 8 # number of hidden units\n",
    "\n",
    "###WRITE YOUR OWN CODE HERE\n",
    "ff_classifier_model = FFTextClassifier(\n",
    "    vocab_size=vocab_size,\n",
    "    sequence_length=sequence_length,\n",
    "    embedding_size=embedding_size,\n",
    "    hidden_size=hidden_size,\n",
    "    num_classes=3\n",
    ")"
   ]
  },
  {
   "cell_type": "markdown",
   "id": "82a6c48d-f2b4-45e6-838e-d08c895f7e86",
   "metadata": {},
   "source": [
    "After desigining our network, we need to create a training function to calculate the loss for each input and perform backpropagation to optimise the network.\n",
    "During training, the weights of all the layers will be updated.\n",
    "\n",
    "Below, we build a training function to train the NN over a fixed number of epochs (an epoch is one iteration over the whole training dataset).\n",
    "The function also prints the performance of both training and development/validation set after each epoch.\n",
    "\n",
    "Here we use cross-entropy loss, which is the standard loss function for classification that we also used for logistic regression. The module `nn.CrossEntropyLoss()` operates directly on the output of our output layer, so we don't have to implement the softmax layer within the forward() method.\n",
    "\n",
    "Cross Entropy Loss: https://pytorch.org/docs/stable/generated/torch.nn.CrossEntropyLoss.html\n",
    "\n",
    "The optimizer object implements a particular algorithm for updating the weights. Here, we will use the Adam optimizer, which is a variant of stochastic gradient descent method that tends to find a better solution in a smaller number of iterations than standard SGD.\n",
    "\n",
    "Optimization: https://pytorch.org/docs/stable/optim.html\n",
    "\n",
    "The cell below defines a training function for our classifier:"
   ]
  },
  {
   "cell_type": "code",
   "execution_count": 20,
   "id": "2c682c18-b30c-489f-9c22-fb5662fc7960",
   "metadata": {},
   "outputs": [],
   "source": [
    "from torch import optim\n",
    "\n",
    "def train_nn(num_epochs, model, train_dataloader, dev_dataloader):\n",
    "    \n",
    "    learning_rate = 0.0005  # learning rate for the gradient descent optimizer, related to the step size\n",
    "\n",
    "    loss_fn = nn.CrossEntropyLoss()  # create loss function object\n",
    "    optimizer = optim.Adam(model.parameters(), lr=learning_rate)  # create the optimizer\n",
    "        \n",
    "    for e in range(num_epochs):\n",
    "        # Track performance on the training set as we are learning...\n",
    "        total_correct = 0\n",
    "        total_trained = 0\n",
    "        train_losses = []\n",
    "\n",
    "        model.train()  # Put the model in training mode.\n",
    "\n",
    "        for i, (batch_input_ids, batch_labels) in enumerate(train_dataloader):\n",
    "            # Iterate over each batch of data\n",
    "            # print(f'batch no. = {i}')\n",
    "\n",
    "            optimizer.zero_grad()  # Reset the optimizer\n",
    "\n",
    "            # Use the model to perform forward inference on the input data.\n",
    "            # This will run the forward() function.\n",
    "            output = model(batch_input_ids)\n",
    "\n",
    "            # Compute the loss for the current batch of data\n",
    "            batch_loss = loss_fn(output, batch_labels)\n",
    "\n",
    "            # Perform back propagation to compute the gradients with respect to each weight\n",
    "            batch_loss.backward()\n",
    "\n",
    "            # Update the weights using the compute gradients\n",
    "            optimizer.step()\n",
    "\n",
    "            # Record the loss from this sample to keep track of progress.\n",
    "            train_losses.append(batch_loss.item())\n",
    "\n",
    "            # Count correct labels so we can compute accuracy on the training set\n",
    "            predicted_labels = output.argmax(1)\n",
    "            total_correct += (predicted_labels == batch_labels).sum().item()\n",
    "            total_trained += batch_labels.size(0)\n",
    "\n",
    "        train_accuracy = total_correct/total_trained*100\n",
    "\n",
    "        print(\"Epoch: {}/{}\".format((e+1), num_epochs),\n",
    "              \"Training Loss: {:.4f}\".format(np.mean(train_losses)),\n",
    "              \"Training Accuracy: {:.4f}%\".format(train_accuracy))\n",
    "        \n",
    "        # Compute accuracy on dev set after this training epoch\n",
    "        \n",
    "        model.eval()  # Switch model to evaluation mode - turn off any random steps such as dropout\n",
    "        total_correct = 0\n",
    "        total_trained = 0\n",
    "        dev_losses = []\n",
    "\n",
    "        for dev_input_ids, dev_labels in dev_dataloader:\n",
    "            \n",
    "            # Count the number of correct predictions\n",
    "            predicted_labels = dev_output.argmax(1)\n",
    "            total_correct += (predicted_labels == dev_labels).sum().item()\n",
    "            total_trained += dev_labels.size(0)\n",
    "            \n",
    "        dev_accuracy = total_correct/total_trained*100\n",
    "        \n",
    "        print(\"Epoch: {}/{}\".format((e+1), num_epochs),\n",
    "              \"Validation Loss: {:.4f}\".format(np.mean(dev_losses)),\n",
    "              \"Validation Accuracy: {:.4f}%\".format(dev_accuracy))\n",
    "\n",
    "    return model"
   ]
  },
  {
   "attachments": {},
   "cell_type": "markdown",
   "id": "2e473f92-78d4-4a5d-94cc-749165e3896e",
   "metadata": {},
   "source": [
    "**TO-DO 2d:** Modify the training function above to return the training and development (or 'validation') losses at each epoch. Train the network for 15 epochs and plot the losses. Describe what the plot shows, and how you could use this information to improve the training process. **(8 marks)**\n",
    "\n",
    "<span style=\"color:yellow\">\n",
    "The plot shows the training and validation losses over each epoch of training. It seems that the model is able to reduce the training loss over time, but the validation loss starts to plateau and even increase slightly after a few epochs. This suggests that the model is starting to overfit to the training data and is not generalizing well to the validation set.\n",
    "<br>\n",
    "\n",
    "To address this, several strategies could be used. One approach is to add regularization to the model, such as dropout or weight decay, which can help to prevent overfitting. Another approach is to collect more training data or use data augmentation techniques to increase the diversity of the training set. Additionally, tuning the hyperparameters of the model, such as the learning rate or the size of the hidden layer, could also help to improve performance.\n",
    "<br>\n",
    "\n",
    "It is also important to monitor the training and validation losses over time, as this can help to detect overfitting or other issues with the training process. If the validation loss starts to increase, it may be necessary to stop training early or adjust the model or hyperparameters to improve performance.\n",
    "</span>\n"
   ]
  },
  {
   "cell_type": "code",
   "execution_count": 21,
   "id": "5ac7c289-fae8-4045-b18c-8db7e678214e",
   "metadata": {},
   "outputs": [],
   "source": [
    "###WRITE YOUR OWN CODE HERE\n",
    "from torch import optim\n",
    "\n",
    "train_losses_mean = []\n",
    "dev_losses_mean = []\n",
    "\n",
    "def train_nn(num_epochs, model, train_dataloader, dev_dataloader):\n",
    "    \n",
    "    learning_rate = 0.0005  # learning rate for the gradient descent optimizer, related to the step size\n",
    "\n",
    "    loss_fn = nn.CrossEntropyLoss()  # create loss function object\n",
    "    optimizer = optim.Adam(model.parameters(), lr=learning_rate)  # create the optimizer\n",
    "        \n",
    "    for e in range(num_epochs):\n",
    "        # Track performance on the training set as we are learning...\n",
    "        total_correct = 0\n",
    "        total_trained = 0\n",
    "        train_losses = []\n",
    "\n",
    "        model.train()  # Put the model in training mode.\n",
    "\n",
    "        for i, (batch_input_ids, batch_labels) in enumerate(train_dataloader):\n",
    "            # Iterate over each batch of data\n",
    "            # print(f'batch no. = {i}')\n",
    "\n",
    "            optimizer.zero_grad()  # Reset the optimizer\n",
    "\n",
    "            # Use the model to perform forward inference on the input data.\n",
    "            # This will run the forward() function.\n",
    "            output = model(batch_input_ids)\n",
    "\n",
    "            # Compute the loss for the current batch of data\n",
    "            batch_loss = loss_fn(output, batch_labels)\n",
    "\n",
    "            # Perform back propagation to compute the gradients with respect to each weight\n",
    "            batch_loss.backward()\n",
    "\n",
    "            # Update the weights using the compute gradients\n",
    "            optimizer.step()\n",
    "\n",
    "            # Record the loss from this sample to keep track of progress.\n",
    "            train_losses.append(batch_loss.item())\n",
    "\n",
    "            # Count correct labels so we can compute accuracy on the training set\n",
    "            predicted_labels = output.argmax(1)\n",
    "            total_correct += (predicted_labels == batch_labels).sum().item()\n",
    "            total_trained += batch_labels.size(0)\n",
    "\n",
    "        train_accuracy = total_correct/total_trained*100\n",
    "        train_losses_mean.append(np.mean(train_losses))\n",
    "\n",
    "        print(\"Epoch: {}/{}\".format((e+1), num_epochs),\n",
    "              \"Training Loss: {:.4f}\".format(np.mean(train_losses)),\n",
    "              \"Training Accuracy: {:.4f}%\".format(train_accuracy))\n",
    "        \n",
    "        # Compute accuracy on dev set after this training epoch\n",
    "        \n",
    "        model.eval()  # Switch model to evaluation mode - turn off any random steps such as dropout\n",
    "        total_correct = 0\n",
    "        total_trained = 0\n",
    "        dev_losses = []\n",
    "\n",
    "        for dev_input_ids, dev_labels in dev_dataloader:\n",
    "\n",
    "            dev_output = model(dev_input_ids)\n",
    "            dev_loss = loss_fn(dev_output, dev_labels)\n",
    "            dev_losses.append(dev_loss.item())\n",
    "            \n",
    "            # Count the number of correct predictions\n",
    "            predicted_labels = dev_output.argmax(1)\n",
    "            total_correct += (predicted_labels == dev_labels).sum().item()\n",
    "            total_trained += dev_labels.size(0)\n",
    "            \n",
    "        dev_accuracy = total_correct/total_trained*100\n",
    "        dev_losses_mean.append(np.mean(dev_losses))\n",
    "\n",
    "        \n",
    "        print(\"Epoch: {}/{}\".format((e+1), num_epochs),\n",
    "              \"Validation Loss: {:.4f}\".format(np.mean(dev_losses)),\n",
    "              \"Validation Accuracy: {:.4f}%\".format(dev_accuracy))\n",
    "\n",
    "    return model"
   ]
  },
  {
   "cell_type": "code",
   "execution_count": 22,
   "id": "896f7f2b",
   "metadata": {},
   "outputs": [
    {
     "name": "stdout",
     "output_type": "stream",
     "text": [
      "Epoch: 1/15 Training Loss: 1.0126 Training Accuracy: 44.9019%\n",
      "Epoch: 1/15 Validation Loss: 1.0232 Validation Accuracy: 43.7000%\n",
      "Epoch: 2/15 Training Loss: 0.9984 Training Accuracy: 46.8179%\n",
      "Epoch: 2/15 Validation Loss: 1.0048 Validation Accuracy: 45.4500%\n",
      "Epoch: 3/15 Training Loss: 0.9755 Training Accuracy: 50.2861%\n",
      "Epoch: 3/15 Validation Loss: 0.9776 Validation Accuracy: 49.5500%\n",
      "Epoch: 4/15 Training Loss: 0.9401 Training Accuracy: 53.7499%\n",
      "Epoch: 4/15 Validation Loss: 0.9595 Validation Accuracy: 52.4500%\n",
      "Epoch: 5/15 Training Loss: 0.9035 Training Accuracy: 56.5362%\n",
      "Epoch: 5/15 Validation Loss: 0.9448 Validation Accuracy: 53.8500%\n",
      "Epoch: 6/15 Training Loss: 0.8721 Training Accuracy: 58.6540%\n",
      "Epoch: 6/15 Validation Loss: 0.9289 Validation Accuracy: 55.8000%\n",
      "Epoch: 7/15 Training Loss: 0.8442 Training Accuracy: 60.5437%\n",
      "Epoch: 7/15 Validation Loss: 0.9141 Validation Accuracy: 56.3000%\n",
      "Epoch: 8/15 Training Loss: 0.8187 Training Accuracy: 62.0235%\n",
      "Epoch: 8/15 Validation Loss: 0.9042 Validation Accuracy: 57.6000%\n",
      "Epoch: 9/15 Training Loss: 0.7953 Training Accuracy: 63.4594%\n",
      "Epoch: 9/15 Validation Loss: 0.9027 Validation Accuracy: 57.2500%\n",
      "Epoch: 10/15 Training Loss: 0.7731 Training Accuracy: 64.5752%\n",
      "Epoch: 10/15 Validation Loss: 0.8865 Validation Accuracy: 57.9500%\n",
      "Epoch: 11/15 Training Loss: 0.7523 Training Accuracy: 65.8139%\n",
      "Epoch: 11/15 Validation Loss: 0.8886 Validation Accuracy: 58.5500%\n",
      "Epoch: 12/15 Training Loss: 0.7322 Training Accuracy: 67.1424%\n",
      "Epoch: 12/15 Validation Loss: 0.8827 Validation Accuracy: 59.1500%\n",
      "Epoch: 13/15 Training Loss: 0.7131 Training Accuracy: 68.2144%\n",
      "Epoch: 13/15 Validation Loss: 0.8722 Validation Accuracy: 59.4000%\n",
      "Epoch: 14/15 Training Loss: 0.6952 Training Accuracy: 69.0825%\n",
      "Epoch: 14/15 Validation Loss: 0.8833 Validation Accuracy: 60.0500%\n",
      "Epoch: 15/15 Training Loss: 0.6771 Training Accuracy: 70.0866%\n",
      "Epoch: 15/15 Validation Loss: 0.8708 Validation Accuracy: 61.2000%\n"
     ]
    }
   ],
   "source": [
    "trained_model = train_nn(15, ff_classifier_model, train_loader, dev_loader)"
   ]
  },
  {
   "cell_type": "code",
   "execution_count": 23,
   "id": "da5dab68",
   "metadata": {},
   "outputs": [
    {
     "data": {
      "text/plain": [
       "<matplotlib.legend.Legend at 0x7fd60b866230>"
      ]
     },
     "execution_count": 23,
     "metadata": {},
     "output_type": "execute_result"
    },
    {
     "data": {
      "image/png": "[encoded data removed]",
      "text/plain": [
       "<Figure size 640x480 with 1 Axes>"
      ]
     },
     "metadata": {},
     "output_type": "display_data"
    }
   ],
   "source": [
    "plt.plot(train_losses_mean, label = 'train losses')\n",
    "plt.plot(dev_losses_mean, label = 'dev losses')\n",
    "plt.xlabel('epoch')\n",
    "plt.ylabel('loss')\n",
    "plt.title('Loss per epoch(training & validation)')\n",
    "plt.legend()"
   ]
  },
  {
   "cell_type": "markdown",
   "id": "d655f07b-c687-4d9b-a0b3-44f0d3ccbead",
   "metadata": {},
   "source": [
    "The code below obtains predictions from our neural network:"
   ]
  },
  {
   "cell_type": "code",
   "execution_count": 24,
   "id": "cf4368a8-57fc-4cd3-b74e-aa385105c91a",
   "metadata": {},
   "outputs": [],
   "source": [
    "def predict_nn(trained_model, test_loader):\n",
    "\n",
    "    trained_model.eval()  # switch off some randomisation used during training (dropout) to give consistent predictions\n",
    "\n",
    "    correct = 0  # count the number of correct classification labels\n",
    "\n",
    "    gold_labs = []  # gold labels to return\n",
    "    pred_labs = []  # predicted labels to return\n",
    "    \n",
    "    for inputs, labels in test_loader:\n",
    "        test_output = trained_model(inputs)  # run the forward() function on the inputs\n",
    "        predicted_labels = test_output.argmax(1)  # select the class labels with highest logits as our predictions\n",
    "\n",
    "        gold_labs.extend(labels.tolist())\n",
    "        pred_labs.extend(predicted_labels.tolist())\n",
    "    \n",
    "    return gold_labs, pred_labs\n",
    "\n",
    "gold_labs, pred_labs = predict_nn(trained_model, test_loader)"
   ]
  },
  {
   "cell_type": "code",
   "execution_count": 25,
   "id": "8b533e84",
   "metadata": {},
   "outputs": [
    {
     "name": "stdout",
     "output_type": "stream",
     "text": [
      "F1 score with neural network: 0.5185213249892008\n"
     ]
    }
   ],
   "source": [
    "# f1-score calculation\n",
    "from sklearn.metrics import f1_score\n",
    "f1_score_nn = f1_score(gold_labs, pred_labs, average='weighted')\n",
    "print(f\"F1 score with neural network: {f1_score_nn}\")"
   ]
  },
  {
   "cell_type": "markdown",
   "id": "e5620658-9e5a-4248-aa48-3e3868011aaf",
   "metadata": {},
   "source": [
    "Now, we can use pretrained word embeddings instead of learning them from scratch during training.\n",
    "Here, we will use the pretrained GloVe embeddings that we loaded before. The embedding matrix is used to initialise the embedding layer. The code below converts the GloVe embeddings into an embedding matrix suitable for PyTorch:"
   ]
  },
  {
   "cell_type": "code",
   "execution_count": 26,
   "id": "872638e9-f86c-48e4-8745-9c667e250a2b",
   "metadata": {},
   "outputs": [
    {
     "name": "stderr",
     "output_type": "stream",
     "text": [
      "/tmp/ipykernel_244/225966899.py:5: UserWarning: The given NumPy array is not writable, and PyTorch does not support non-writable tensors. This means writing to this tensor will result in undefined behavior. You may want to copy the array to protect its data or make it writable before converting it to a tensor. This type of warning will be suppressed for the rest of this program. (Triggered internally at ../torch/csrc/utils/tensor_numpy.cpp:206.)\n",
      "  embedding_matrix[word_idx, :] = torch.from_numpy(glove_wv[word])\n"
     ]
    },
    {
     "name": "stdout",
     "output_type": "stream",
     "text": [
      "tensor([[ 0.0000,  0.0000,  0.0000,  ...,  0.0000,  0.0000,  0.0000],\n",
      "        [ 0.0000,  0.0000,  0.0000,  ...,  0.0000,  0.0000,  0.0000],\n",
      "        [ 0.0000,  0.0000,  0.0000,  ...,  0.0000,  0.0000,  0.0000],\n",
      "        ...,\n",
      "        [-0.3535,  0.0987,  0.1718,  ...,  0.4630,  1.3101,  1.1314],\n",
      "        [-0.4106,  0.1487,  0.0637,  ...,  0.6097,  1.0935,  0.9614],\n",
      "        [ 0.0000,  0.0000,  0.0000,  ...,  0.0000,  0.0000,  0.0000]])\n"
     ]
    }
   ],
   "source": [
    "embedding_matrix = torch.zeros((vocab_size, glove_wv.vector_size))\n",
    "for word in vocab:\n",
    "    word_idx = vocab[word]\n",
    "    if word in glove_wv:\n",
    "        embedding_matrix[word_idx, :] = torch.from_numpy(glove_wv[word])\n",
    "        \n",
    "print(embedding_matrix)"
   ]
  },
  {
   "cell_type": "markdown",
   "id": "850e7656-343f-449c-9329-411ad7fb22d5",
   "metadata": {},
   "source": [
    "The class below extends the FFTextClassifier class (it's incomplete for now -- you'll fix this in a minute!). This means that it inherits all of its functionality, but we overwrite the constructor (the `__init__` method). This way, we don't need to define the forward function again, as it will be the same as before.\n",
    "\n",
    "The embedding layer is now different as it loads pretrained embeddings from our matrix. The argument `freeze` determines whether the embeddings remain fixed to their pretrained values (if `freeze=True`) or are updated through backpropagation to fit them to the dataset."
   ]
  },
  {
   "cell_type": "code",
   "execution_count": 27,
   "id": "09b93f97-57b9-4d3b-a36f-547d472e1f37",
   "metadata": {
    "pycharm": {
     "name": "#%%\n"
    }
   },
   "outputs": [],
   "source": [
    "class FFTextClassifierWithEmbeddings(FFTextClassifier):\n",
    "\n",
    "    def __init__(self, hidden_size, sequence_length, num_classes, embedding_matrix):\n",
    "        super(FFTextClassifier, self).__init__()\n",
    "\n",
    "        self.embedding_size = embedding_matrix.shape[1] \n",
    "\n",
    "        # Here we just need to construct the components of our network. We don't need to connect them together yet.\n",
    "        self.embedding_layer = nn.Embedding.from_pretrained(embedding_matrix, freeze=True) # embedding layer\n",
    "\n",
    "        ### COMPLETE THE ARGUMENTS TO SPECIFY THE DIMENSIONS OF THE LAYERS\n",
    "        self.hidden_layer = nn.Linear(self.embedding_size * sequence_length, hidden_size) # Hidden layer\n",
    "        self.activation = nn.ReLU() # Hidden layer activation\n",
    "        self.output_layer = nn.Linear(hidden_size, num_classes) # Fully connected layer"
   ]
  },
  {
   "cell_type": "markdown",
   "id": "9eae91af-4e37-476d-ba7d-709924bb329c",
   "metadata": {},
   "source": [
    "**TO-DO 2e:** Complete the arguments in the `FFTextClassifierWithEmbeddings` constructor to set the dimensions of the neural network layers.  Repeat the experiment above using the FFTextClassifierWithEmbeddings with the GLoVe embeddings. Choose a suitable performance metric and compare the performance of the two neural text classifiers. Explain in one or two sentences the possible reason(s) for any performance differences you observe. **(3 marks)**\n",
    "\n",
    "WRITE YOUR ANSWER HERE:"
   ]
  },
  {
   "cell_type": "code",
   "execution_count": 28,
   "id": "73d4afd4-a92d-468d-a6ea-e693c10de36d",
   "metadata": {
    "collapsed": false,
    "jupyter": {
     "outputs_hidden": false
    },
    "pycharm": {
     "name": "#%%\n"
    }
   },
   "outputs": [
    {
     "name": "stdout",
     "output_type": "stream",
     "text": [
      "Epoch: 1/15 Training Loss: 1.0086 Training Accuracy: 46.3159%\n",
      "Epoch: 1/15 Validation Loss: 0.9912 Validation Accuracy: 48.6000%\n",
      "Epoch: 2/15 Training Loss: 0.9765 Training Accuracy: 49.3127%\n",
      "Epoch: 2/15 Validation Loss: 0.9921 Validation Accuracy: 48.3500%\n",
      "Epoch: 3/15 Training Loss: 0.9668 Training Accuracy: 50.0340%\n",
      "Epoch: 3/15 Validation Loss: 0.9864 Validation Accuracy: 48.0000%\n",
      "Epoch: 4/15 Training Loss: 0.9592 Training Accuracy: 50.6281%\n",
      "Epoch: 4/15 Validation Loss: 0.9924 Validation Accuracy: 48.0000%\n",
      "Epoch: 5/15 Training Loss: 0.9531 Training Accuracy: 51.0512%\n",
      "Epoch: 5/15 Validation Loss: 0.9971 Validation Accuracy: 47.5000%\n",
      "Epoch: 6/15 Training Loss: 0.9477 Training Accuracy: 51.5861%\n",
      "Epoch: 6/15 Validation Loss: 0.9967 Validation Accuracy: 47.4500%\n",
      "Epoch: 7/15 Training Loss: 0.9428 Training Accuracy: 52.0794%\n",
      "Epoch: 7/15 Validation Loss: 0.9970 Validation Accuracy: 47.5500%\n",
      "Epoch: 8/15 Training Loss: 0.9386 Training Accuracy: 52.3161%\n",
      "Epoch: 8/15 Validation Loss: 1.0051 Validation Accuracy: 47.6000%\n",
      "Epoch: 9/15 Training Loss: 0.9347 Training Accuracy: 52.6778%\n",
      "Epoch: 9/15 Validation Loss: 1.0082 Validation Accuracy: 47.9000%\n",
      "Epoch: 10/15 Training Loss: 0.9313 Training Accuracy: 53.2106%\n",
      "Epoch: 10/15 Validation Loss: 1.0014 Validation Accuracy: 47.1000%\n",
      "Epoch: 11/15 Training Loss: 0.9280 Training Accuracy: 53.3136%\n",
      "Epoch: 11/15 Validation Loss: 1.0119 Validation Accuracy: 47.2000%\n",
      "Epoch: 12/15 Training Loss: 0.9251 Training Accuracy: 53.4386%\n",
      "Epoch: 12/15 Validation Loss: 1.0125 Validation Accuracy: 47.4000%\n",
      "Epoch: 13/15 Training Loss: 0.9223 Training Accuracy: 53.7674%\n",
      "Epoch: 13/15 Validation Loss: 1.0098 Validation Accuracy: 46.8000%\n",
      "Epoch: 14/15 Training Loss: 0.9196 Training Accuracy: 54.0085%\n",
      "Epoch: 14/15 Validation Loss: 1.0151 Validation Accuracy: 46.7500%\n",
      "Epoch: 15/15 Training Loss: 0.9173 Training Accuracy: 54.0962%\n",
      "Epoch: 15/15 Validation Loss: 1.0214 Validation Accuracy: 47.0500%\n"
     ]
    }
   ],
   "source": [
    "### WRITE YOUR OWN CODE BELOW\n",
    "ff_classifier_with_embeddings_model = FFTextClassifierWithEmbeddings(\n",
    "    hidden_size=hidden_size, \n",
    "    sequence_length=sequence_length,  \n",
    "    num_classes =3, \n",
    "    embedding_matrix=embedding_matrix\n",
    ")\n",
    "\n",
    "trained_ff_classifier_with_embeddings_model = train_nn (\n",
    "    15, ff_classifier_with_embeddings_model, train_loader, dev_loader\n",
    ")"
   ]
  },
  {
   "attachments": {},
   "cell_type": "markdown",
   "id": "0fe1c43f",
   "metadata": {},
   "source": [
    "The F1 score with `FFTextClassifier` is 0.53 and the F1 score with `FFTextClassifierWithEmbeddings` is 0.38. So, it is evident that using pre-trained embeddings did not improve the performance of the neural text classifier. \n",
    "<br><br>\n",
    "One of the reasons of this happening could be that pre-trained embeddings may have captured more nuanced and sophisticated word representations than the embeddings learned from scratch during training making it perform bad."
   ]
  },
  {
   "cell_type": "code",
   "execution_count": 29,
   "id": "fe23def3",
   "metadata": {},
   "outputs": [
    {
     "name": "stdout",
     "output_type": "stream",
     "text": [
      "F1 score with GloVe embeddings: 0.39662731576049487\n"
     ]
    }
   ],
   "source": [
    "y_pred_with_emeddings, y_true_with_emeddings = predict_nn(trained_ff_classifier_with_embeddings_model, test_loader)\n",
    "\n",
    "f1_score_embeddings = f1_score(y_pred_with_emeddings, y_true_with_emeddings, average='weighted')\n",
    "print(f\"F1 score with GloVe embeddings: {f1_score_embeddings}\")"
   ]
  },
  {
   "attachments": {},
   "cell_type": "markdown",
   "id": "9b3c20d5-12c8-4820-89e2-e53c11b77b42",
   "metadata": {},
   "source": [
    "# 3. Improving the Neural Text Classifier (max. 22 marks)\n",
    "\n",
    "This section allows you some more free reign to experiment with the neural text classifier. Below, we list several to-dos that you can solve in your own way. Please make sure to label your notebook cells clearly so that it is obvious which to-do each cell corresponds to.\n",
    "\n",
    "**TO-DO 3a:** Consider the neural text classifiers we have just implemented and the results you obtained in the last to-do. The classifiers have a number of limitations that we could improve. Describe three limitations and how you could improve them. For each improvement you propose, provide a brief explanation (up to 1 paragraph) of how it works. \n",
    "\n",
    "Hint: refer to the lectures for some ideas. **(9 marks)**\n",
    "\n",
    "WRITE YOUR ANSWER HERE:\n",
    "\n",
    "\n",
    "---\n",
    "\n",
    "**TO-DO 3b:** Implement your improvements and compute the performance of your method. Make sure to comment your code to show where each new step is implemented. Use the validation set for any tuning you decide to do. Present your results clearly. **(13 marks)**"
   ]
  },
  {
   "cell_type": "code",
   "execution_count": 30,
   "id": "e99e0d0d-ac93-4f7b-8169-c81f6b151eed",
   "metadata": {},
   "outputs": [],
   "source": [
    "# TO-DO 3b\n",
    "n_layers = 1\n",
    "class RNNTextClassifier(nn.Module):\n",
    "    def __init__(self, hidden_size, sequence_length, num_classes, embedding_size):\n",
    "        super(RNNTextClassifier, self).__init__()\n",
    "\n",
    "        self.embedding_size = embedding_size\n",
    "        self.hidden_size = hidden_size\n",
    "        self.sequence_length = sequence_length\n",
    "\n",
    "        self.embedding_layer = nn.Embedding(vocab_size, embedding_size)\n",
    "        self.rnn_layer = nn.RNN(\n",
    "            input_size = embedding_size,\n",
    "            hidden_size = hidden_size,\n",
    "            num_layers = 3,\n",
    "            batch_first = True,\n",
    "            nonlinearity = 'relu',\n",
    "            dropout = 0.2)\n",
    "        self.activation = nn.ReLU()\n",
    "        self.output_layer = nn.Linear(hidden_size, num_classes)\n",
    "    \n",
    "    def forward(self, input_words):\n",
    "        embedded_words = self.embedding_layer(input_words)\n",
    "        rnn_input = embedded_words.view(-1, self.sequence_length, self.embedding_size)\n",
    "        rnn_output, _ = self.rnn_layer(rnn_input)\n",
    "        rnn_output = rnn_output[:, -1, :]\n",
    "        activation_output = self.activation(rnn_output)\n",
    "        logits = self.output_layer(activation_output)\n",
    "        \n",
    "        return logits"
   ]
  },
  {
   "cell_type": "code",
   "execution_count": 31,
   "id": "b6b6a984",
   "metadata": {},
   "outputs": [
    {
     "name": "stdout",
     "output_type": "stream",
     "text": [
      "Epoch: 1/20 Training Loss: 1.0502 Training Accuracy: 41.8722%\n",
      "Epoch: 1/20 Validation Loss: 1.0192 Validation Accuracy: 43.5500%\n",
      "Epoch: 2/20 Training Loss: 1.0119 Training Accuracy: 45.2812%\n",
      "Epoch: 2/20 Validation Loss: 1.0141 Validation Accuracy: 43.8000%\n",
      "Epoch: 3/20 Training Loss: 1.0039 Training Accuracy: 45.3250%\n",
      "Epoch: 3/20 Validation Loss: 0.9992 Validation Accuracy: 43.9000%\n",
      "Epoch: 4/20 Training Loss: 0.9860 Training Accuracy: 45.9235%\n",
      "Epoch: 4/20 Validation Loss: 0.9747 Validation Accuracy: 46.8500%\n",
      "Epoch: 5/20 Training Loss: 0.9587 Training Accuracy: 48.4336%\n",
      "Epoch: 5/20 Validation Loss: 0.9662 Validation Accuracy: 49.5500%\n",
      "Epoch: 6/20 Training Loss: 0.9272 Training Accuracy: 51.6804%\n",
      "Epoch: 6/20 Validation Loss: 0.9296 Validation Accuracy: 52.8500%\n",
      "Epoch: 7/20 Training Loss: 0.8998 Training Accuracy: 54.5961%\n",
      "Epoch: 7/20 Validation Loss: 0.9111 Validation Accuracy: 54.8500%\n",
      "Epoch: 8/20 Training Loss: 0.8715 Training Accuracy: 57.3496%\n",
      "Epoch: 8/20 Validation Loss: 0.8959 Validation Accuracy: 56.0000%\n",
      "Epoch: 9/20 Training Loss: 0.8476 Training Accuracy: 59.1889%\n",
      "Epoch: 9/20 Validation Loss: 0.8804 Validation Accuracy: 57.1500%\n",
      "Epoch: 10/20 Training Loss: 0.8267 Training Accuracy: 60.9010%\n",
      "Epoch: 10/20 Validation Loss: 0.8759 Validation Accuracy: 57.4500%\n",
      "Epoch: 11/20 Training Loss: 0.8045 Training Accuracy: 62.3019%\n",
      "Epoch: 11/20 Validation Loss: 0.8540 Validation Accuracy: 59.7000%\n",
      "Epoch: 12/20 Training Loss: 0.7859 Training Accuracy: 63.7575%\n",
      "Epoch: 12/20 Validation Loss: 0.8653 Validation Accuracy: 58.7500%\n",
      "Epoch: 13/20 Training Loss: 0.7703 Training Accuracy: 64.7243%\n",
      "Epoch: 13/20 Validation Loss: 0.8696 Validation Accuracy: 58.5000%\n",
      "Epoch: 14/20 Training Loss: 0.7548 Training Accuracy: 65.7832%\n",
      "Epoch: 14/20 Validation Loss: 0.8417 Validation Accuracy: 60.6000%\n",
      "Epoch: 15/20 Training Loss: 0.7374 Training Accuracy: 67.3353%\n",
      "Epoch: 15/20 Validation Loss: 0.8510 Validation Accuracy: 61.7000%\n",
      "Epoch: 16/20 Training Loss: 0.7233 Training Accuracy: 68.0039%\n",
      "Epoch: 16/20 Validation Loss: 0.8424 Validation Accuracy: 62.1000%\n",
      "Epoch: 17/20 Training Loss: 0.7100 Training Accuracy: 69.0540%\n",
      "Epoch: 17/20 Validation Loss: 0.8562 Validation Accuracy: 59.1500%\n",
      "Epoch: 18/20 Training Loss: 0.6947 Training Accuracy: 69.8564%\n",
      "Epoch: 18/20 Validation Loss: 0.8269 Validation Accuracy: 61.6000%\n",
      "Epoch: 19/20 Training Loss: 0.6821 Training Accuracy: 70.6149%\n",
      "Epoch: 19/20 Validation Loss: 0.8394 Validation Accuracy: 61.8500%\n",
      "Epoch: 20/20 Training Loss: 0.6670 Training Accuracy: 71.5072%\n",
      "Epoch: 20/20 Validation Loss: 0.8549 Validation Accuracy: 63.0000%\n"
     ]
    }
   ],
   "source": [
    "vocab_size = len(vectorizer.vocabulary_) + 1\n",
    "embedding_size = 15  # number of dimensions for embeddings\n",
    "hidden_size = 10 # number of hidden units\n",
    "\n",
    "rnn_classifier_model = RNNTextClassifier(\n",
    "    hidden_size=hidden_size, \n",
    "    sequence_length=sequence_length,\n",
    "    num_classes=3,\n",
    "    embedding_size=embedding_size\n",
    ")\n",
    "\n",
    "trained_rnn_classifier_model = train_nn(\n",
    "    20, rnn_classifier_model, train_loader, dev_loader\n",
    ")"
   ]
  },
  {
   "cell_type": "code",
   "execution_count": 32,
   "id": "9b9db946",
   "metadata": {},
   "outputs": [
    {
     "data": {
      "text/plain": [
       "[<matplotlib.lines.Line2D at 0x7fd60ba7ca60>]"
      ]
     },
     "execution_count": 32,
     "metadata": {},
     "output_type": "execute_result"
    },
    {
     "data": {
      "image/png": "[encoded data removed]",
      "text/plain": [
       "<Figure size 640x480 with 1 Axes>"
      ]
     },
     "metadata": {},
     "output_type": "display_data"
    }
   ],
   "source": [
    "plt.plot(train_losses_mean)\n",
    "plt.plot(dev_losses_mean)"
   ]
  },
  {
   "cell_type": "code",
   "execution_count": 39,
   "id": "23dadfb0",
   "metadata": {},
   "outputs": [],
   "source": [
    "embedding_size = 20\n",
    "hidden_size1 = 10\n",
    "hidden_size2 = 15\n",
    "hidden_size3 = 20\n",
    "n_layers = 1\n",
    "\n",
    "class  MultiRNNTextClassifier(nn.Module):\n",
    "    def __init__(self, hidden_size, sequence_length, num_classes, embedding_size):\n",
    "        super(MultiRNNTextClassifier, self).__init__()\n",
    "\n",
    "        self.embedding_size = embedding_size\n",
    "        self.hidden_size = hidden_size1\n",
    "        self.sequence_length = sequence_length\n",
    "\n",
    "        self.embedding_layer = nn.Embedding(vocab_size, embedding_size)\n",
    "        self.rnn1 = nn.RNN(embedding_size, hidden_size = hidden_size1, num_layers = 1, batch_first = True)\n",
    "        self.rnn2 = nn.RNN(hidden_size1, hidden_size = hidden_size2, num_layers = 1, batch_first = True)\n",
    "        self.rnn3 = nn.RNN(hidden_size2, hidden_size = hidden_size3, num_layers = 1, batch_first = True)\n",
    "        self.linear = nn.Linear(hidden_size3, num_classes)\n",
    "\n",
    "    def forward(self, input_words):\n",
    "        embedded_words = self.embedding_layer(input_words)\n",
    "        output_rnn1, _ = self.rnn1(embedded_words)\n",
    "        output_rnn2, _ = self.rnn2(output_rnn1)\n",
    "        output_rnn3, _ = self.rnn3(output_rnn2)\n",
    "        last_output = output_rnn3[:, -1, :]\n",
    "        logits = self.linear(last_output)\n",
    "\n",
    "        return logits"
   ]
  },
  {
   "cell_type": "code",
   "execution_count": 40,
   "id": "7ef3b8e1",
   "metadata": {},
   "outputs": [
    {
     "name": "stdout",
     "output_type": "stream",
     "text": [
      "Epoch: 1/15 Training Loss: 1.0150 Training Accuracy: 45.3228%\n",
      "Epoch: 1/15 Validation Loss: 1.0132 Validation Accuracy: 44.2000%\n",
      "Epoch: 2/15 Training Loss: 0.9954 Training Accuracy: 49.1132%\n",
      "Epoch: 2/15 Validation Loss: 1.0014 Validation Accuracy: 48.0000%\n",
      "Epoch: 3/15 Training Loss: 0.9592 Training Accuracy: 52.8620%\n",
      "Epoch: 3/15 Validation Loss: 0.9763 Validation Accuracy: 51.4500%\n",
      "Epoch: 4/15 Training Loss: 0.9186 Training Accuracy: 56.1263%\n",
      "Epoch: 4/15 Validation Loss: 0.9480 Validation Accuracy: 54.6000%\n",
      "Epoch: 5/15 Training Loss: 0.8791 Training Accuracy: 59.1998%\n",
      "Epoch: 5/15 Validation Loss: 0.9148 Validation Accuracy: 57.0000%\n",
      "Epoch: 6/15 Training Loss: 0.8430 Training Accuracy: 61.3811%\n",
      "Epoch: 6/15 Validation Loss: 0.9016 Validation Accuracy: 58.3500%\n",
      "Epoch: 7/15 Training Loss: 0.8106 Training Accuracy: 63.4046%\n",
      "Epoch: 7/15 Validation Loss: 0.8888 Validation Accuracy: 59.0500%\n",
      "Epoch: 8/15 Training Loss: 0.7824 Training Accuracy: 64.9370%\n",
      "Epoch: 8/15 Validation Loss: 0.8803 Validation Accuracy: 59.7500%\n",
      "Epoch: 9/15 Training Loss: 0.7541 Training Accuracy: 66.6162%\n",
      "Epoch: 9/15 Validation Loss: 0.8882 Validation Accuracy: 59.1500%\n",
      "Epoch: 10/15 Training Loss: 0.7293 Training Accuracy: 68.1464%\n",
      "Epoch: 10/15 Validation Loss: 0.8690 Validation Accuracy: 60.0000%\n",
      "Epoch: 11/15 Training Loss: 0.7028 Training Accuracy: 69.7183%\n",
      "Epoch: 11/15 Validation Loss: 0.8889 Validation Accuracy: 59.7500%\n",
      "Epoch: 12/15 Training Loss: 0.6800 Training Accuracy: 70.9284%\n",
      "Epoch: 12/15 Validation Loss: 0.8779 Validation Accuracy: 60.7000%\n",
      "Epoch: 13/15 Training Loss: 0.6563 Training Accuracy: 72.4323%\n",
      "Epoch: 13/15 Validation Loss: 0.8791 Validation Accuracy: 61.2000%\n",
      "Epoch: 14/15 Training Loss: 0.6319 Training Accuracy: 73.6622%\n",
      "Epoch: 14/15 Validation Loss: 0.8929 Validation Accuracy: 60.4000%\n",
      "Epoch: 15/15 Training Loss: 0.6098 Training Accuracy: 74.9797%\n",
      "Epoch: 15/15 Validation Loss: 0.8978 Validation Accuracy: 61.3000%\n"
     ]
    }
   ],
   "source": [
    "multi_rnn_classifier_model = MultiRNNTextClassifier(\n",
    "    hidden_size=hidden_size,\n",
    "    sequence_length=sequence_length,\n",
    "    num_classes=3,\n",
    "    embedding_size=20\n",
    ")\n",
    "\n",
    "trained_multi_rnn_classsifier_model = train_nn(\n",
    "    15, multi_rnn_classifier_model, train_loader, dev_loader\n",
    ")"
   ]
  },
  {
   "cell_type": "code",
   "execution_count": 62,
   "id": "7f961d0b",
   "metadata": {},
   "outputs": [],
   "source": [
    "import torch.nn.functional as F\n",
    "\n",
    "class LSTMTextClassifier(nn.Module):\n",
    "    def __init__(self, hidden_size, sequence_length, num_classes, embedding_size):\n",
    "        super(LSTMTextClassifier, self).__init__()\n",
    "\n",
    "        self.embedding_size = embedding_size\n",
    "        self.hidden_size = hidden_size\n",
    "        self.sequence_length = sequence_length\n",
    "\n",
    "        self.embedding_layer = nn.Embedding(vocab_size, embedding_size)\n",
    "        self.lstm = nn.LSTM(input_size = embedding_size,\n",
    "                            hidden_size = hidden_size,\n",
    "                            num_layers = 1, \n",
    "                            batch_first = True, \n",
    "                            bidirectional = True)\n",
    "        self.drop = nn.Dropout(p = 0.5)\n",
    "        self.fc = nn.Linear(hidden_size * 2, num_classes)\n",
    "        # self.sigmoid = nn.Sigmoid()\n",
    "\n",
    "    def forward(self, input_words):\n",
    "        embedded_words = self.embedding_layer(input_words)\n",
    "        # packed_embedded = nn.utils.rnn.pack_padded_sequence(embedded_words,\n",
    "        #                                                     input_words.shape[1], batch_first=True)\n",
    "        # packed_output,(hidden_state,cell_state) = self.lstm(packed_embedded)\n",
    "        \n",
    "        # # Concatenating the final forward and backward hidden states\n",
    "        # hidden = torch.cat((hidden_state[-2,:,:], hidden_state[-1,:,:]), dim = 1)\n",
    "        \n",
    "        # dense_outputs=self.fc(hidden)\n",
    "        # outputs = self.sigmoid(dense_outputs)\n",
    "        output_lstm, _ = self.lstm(embedded_words)\n",
    "        last_output = output_lstm[:, -1, :]\n",
    "        logits = self.fc(last_output)\n",
    "\n",
    "        return logits       \n"
   ]
  },
  {
   "cell_type": "code",
   "execution_count": 65,
   "id": "75a19e30",
   "metadata": {},
   "outputs": [
    {
     "name": "stdout",
     "output_type": "stream",
     "text": [
      "Epoch: 1/20 Training Loss: 1.0192 Training Accuracy: 44.4569%\n",
      "Epoch: 1/20 Validation Loss: 1.0131 Validation Accuracy: 45.3500%\n",
      "Epoch: 2/20 Training Loss: 0.9948 Training Accuracy: 47.9053%\n",
      "Epoch: 2/20 Validation Loss: 0.9908 Validation Accuracy: 47.2500%\n",
      "Epoch: 3/20 Training Loss: 0.9574 Training Accuracy: 51.6738%\n",
      "Epoch: 3/20 Validation Loss: 0.9687 Validation Accuracy: 49.1500%\n",
      "Epoch: 4/20 Training Loss: 0.9124 Training Accuracy: 55.6308%\n",
      "Epoch: 4/20 Validation Loss: 0.9362 Validation Accuracy: 52.0500%\n",
      "Epoch: 5/20 Training Loss: 0.8688 Training Accuracy: 58.7482%\n",
      "Epoch: 5/20 Validation Loss: 0.9114 Validation Accuracy: 55.4000%\n",
      "Epoch: 6/20 Training Loss: 0.8294 Training Accuracy: 61.3855%\n",
      "Epoch: 6/20 Validation Loss: 0.8918 Validation Accuracy: 58.2000%\n",
      "Epoch: 7/20 Training Loss: 0.7947 Training Accuracy: 63.3783%\n",
      "Epoch: 7/20 Validation Loss: 0.8720 Validation Accuracy: 58.7500%\n",
      "Epoch: 8/20 Training Loss: 0.7625 Training Accuracy: 65.4609%\n",
      "Epoch: 8/20 Validation Loss: 0.8564 Validation Accuracy: 60.2500%\n",
      "Epoch: 9/20 Training Loss: 0.7333 Training Accuracy: 67.3068%\n",
      "Epoch: 9/20 Validation Loss: 0.8526 Validation Accuracy: 60.7000%\n",
      "Epoch: 10/20 Training Loss: 0.7050 Training Accuracy: 68.9707%\n",
      "Epoch: 10/20 Validation Loss: 0.8501 Validation Accuracy: 61.4000%\n",
      "Epoch: 11/20 Training Loss: 0.6784 Training Accuracy: 70.5404%\n",
      "Epoch: 11/20 Validation Loss: 0.8465 Validation Accuracy: 61.3500%\n",
      "Epoch: 12/20 Training Loss: 0.6535 Training Accuracy: 71.9018%\n",
      "Epoch: 12/20 Validation Loss: 0.8561 Validation Accuracy: 61.6500%\n",
      "Epoch: 13/20 Training Loss: 0.6289 Training Accuracy: 73.1799%\n",
      "Epoch: 13/20 Validation Loss: 0.8453 Validation Accuracy: 61.5500%\n",
      "Epoch: 14/20 Training Loss: 0.6053 Training Accuracy: 74.5632%\n",
      "Epoch: 14/20 Validation Loss: 0.8525 Validation Accuracy: 62.1000%\n",
      "Epoch: 15/20 Training Loss: 0.5823 Training Accuracy: 75.9487%\n",
      "Epoch: 15/20 Validation Loss: 0.8499 Validation Accuracy: 62.7000%\n",
      "Epoch: 16/20 Training Loss: 0.5601 Training Accuracy: 77.1303%\n",
      "Epoch: 16/20 Validation Loss: 0.8713 Validation Accuracy: 62.8500%\n",
      "Epoch: 17/20 Training Loss: 0.5385 Training Accuracy: 78.2111%\n",
      "Epoch: 17/20 Validation Loss: 0.8668 Validation Accuracy: 61.9000%\n",
      "Epoch: 18/20 Training Loss: 0.5170 Training Accuracy: 79.3621%\n",
      "Epoch: 18/20 Validation Loss: 0.8885 Validation Accuracy: 62.7500%\n",
      "Epoch: 19/20 Training Loss: 0.4972 Training Accuracy: 80.3179%\n",
      "Epoch: 19/20 Validation Loss: 0.8913 Validation Accuracy: 62.0000%\n",
      "Epoch: 20/20 Training Loss: 0.4770 Training Accuracy: 81.3154%\n",
      "Epoch: 20/20 Validation Loss: 0.9220 Validation Accuracy: 62.7000%\n"
     ]
    }
   ],
   "source": [
    "vocab_size = len(vectorizer.vocabulary_) + 1\n",
    "embedding_size = 20  # number of dimensions for embeddings\n",
    "hidden_size = 10 # number of hidden units\n",
    "\n",
    "lstm_classifier_model = LSTMTextClassifier(\n",
    "    hidden_size=hidden_size,\n",
    "    sequence_length=sequence_length,\n",
    "    num_classes=3,\n",
    "    embedding_size=embedding_size\n",
    ")\n",
    "\n",
    "trained_lstm_classifier_model = train_nn(\n",
    "    20, lstm_classifier_model, train_loader, dev_loader\n",
    ")"
   ]
  },
  {
   "cell_type": "code",
   "execution_count": 66,
   "id": "d4e79669",
   "metadata": {},
   "outputs": [
    {
     "data": {
      "text/plain": [
       "[<matplotlib.lines.Line2D at 0x7fd60bcd8a60>]"
      ]
     },
     "execution_count": 66,
     "metadata": {},
     "output_type": "execute_result"
    },
    {
     "data": {
      "image/png": "[encoded data removed]",
      "text/plain": [
       "<Figure size 640x480 with 1 Axes>"
      ]
     },
     "metadata": {},
     "output_type": "display_data"
    }
   ],
   "source": [
    "plt.plot(train_losses_mean)\n",
    "plt.plot(dev_losses_mean)"
   ]
  },
  {
   "cell_type": "code",
   "execution_count": null,
   "id": "e100e184",
   "metadata": {},
   "outputs": [],
   "source": []
  }
 ],
 "metadata": {
  "kernelspec": {
   "display_name": "Python 3",
   "language": "python",
   "name": "python3"
  },
  "language_info": {
   "codemirror_mode": {
    "name": "ipython",
    "version": 3
   },
   "file_extension": ".py",
   "mimetype": "text/x-python",
   "name": "python",
   "nbconvert_exporter": "python",
   "pygments_lexer": "ipython3",
   "version": "3.10.9"
  }
 },
 "nbformat": 4,
 "nbformat_minor": 5
}
