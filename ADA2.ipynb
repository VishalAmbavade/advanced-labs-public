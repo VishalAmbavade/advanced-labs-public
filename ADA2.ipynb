{
 "cells": [
  {
   "cell_type": "markdown",
   "id": "5ba36903-ee71-4a62-9bb8-8e0270fdae64",
   "metadata": {},
   "source": [
    "# Advanced Text Analytics Lab 2"
   ]
  },
  {
   "cell_type": "markdown",
   "id": "d244c460-fa21-482a-a6e6-4216f8f74c24",
   "metadata": {
    "tags": []
   },
   "source": [
    "This notebook is the second of two lab notebooks that you will submit as part of your assessment for the Advanced Data Analytics unit. The notebook contains three required sections plus an optional section:\n",
    "\n",
    "4. **Introducing Transformers:** This section introduces the Transformers library from HuggingFace, showing you how to use it to obtain contextualised embeddings from pretrained transformer models.\n",
    "\n",
    "5. **Question Answering with Pretrained Transformers:** Learn about how to use a pretrained model to perform automatic question answering. \n",
    "\n",
    "6. **Transformers for Text Classification:** Here we show you how to construct a classifier using Transformers.\n",
    "\n",
    "7. **OPTIONAL: More on Transformers:** Some pointers to other materials if you want to learn more about transformers, e.g., if using them in your summer project. \n",
    "\n",
    "Example code for all the tasks has been tested on a three-year old MacBook Pro, and the longest training process took under 10 minutes. If you find that the code takes too long to run on your own machine, you can try [Google Colab](https://colab.research.google.com/), Amazon Sagemaker Studio, or use lab machines on campus provided by the school. \n",
    "\n",
    "## Learning Outcomes\n",
    "\n",
    "These sections will contain tutorial-like instructions, as you have seen in previous text analytics labs. On completing these sections, the intended learning outcomes are that you will be able to...\n",
    "1. Use pretrained transformers to obtain contextualised word and sentence embeddings.\n",
    "1. Apply a pretrained QA model to a new dataset. \n",
    "1. Construct classifiers with pretrained transformers. \n",
    "1. Find documentation on pretrained models in the Transformers library.\n",
    "\n",
    "## Your Tasks\n",
    "\n",
    "Inside each of these sections there are several **'To-do's**, which you must complete for your summative assessment. Your marks will be based on your answers to these to-dos. Please make sure to:\n",
    "1. Include the output of your code in the saved notebook. Plots and printed output should be visible without re-running the code. \n",
    "1. Include all code needed to generate your answers.\n",
    "1. Provide sufficient comments to understand how your method works.\n",
    "1. Write text in a cell in markdown format where a written answer is required. You can convert a cell to markdown format by pressing Escape-M. \n",
    "\n",
    "There are also some unmarked 'to-do's that are part of the tutorial to help you learn how to implement and use the methods studied here.\n",
    "\n",
    "## Good Academic Practice\n",
    "\n",
    "Please follow [the guidance on academic integrity provided by the university](http://www.bristol.ac.uk/students/support/academic-advice/academic-integrity/).\n",
    "You are required to write your own answers -- do not share your notebooks or copy someone else's writing. Do not copy text or long blocks of code directly into the notebook from online sources -- always rewrite in your own way. Breaking the rules can lead to strong penalties. \n",
    "\n",
    "## Marking Criteria\n",
    "\n",
    "1. The coursework (both notebooks) is worth 30% of the unit in total. \n",
    "1. There is a total of 100 marks available for both lab notebooks. \n",
    "1. This notebook is worth 50 of those marks.\n",
    "1. The number of marks for each to-do out of 100 is shown alongside each to-do.\n",
    "1. For to-dos that require you to write code, a good solution would meet the following criteria (in order of importance):\n",
    "   1. Solves the task or answers the question asked in the to-do. This means, if the code cells in the notebook are executed in order, we will get the output shown in your notebook.\n",
    "   1. The code is easy to follow and does not contain unnecessary steps.\n",
    "   1. The comments show that you understand how your solution works.\n",
    "   1. A very good answer will also provide code that is computationally efficient but easy to read.\n",
    "1. You can use any suitable publicly available libraries. Unless the task explicitly asks you to implement something from scratch, there is no penalty for using libraries to implement some steps.\n",
    "\n",
    "## Support\n",
    "\n",
    "The main source of support will be during the remaining lab sessions (Fridays 3-6pm) for this unit. \n",
    "\n",
    "The TAs and lecturer will help you with questions about the lectures, the code provided for you in this notebook, and general questions about the topics we cover. For the marked 'to-dos', they can only answer clarifying questions about what you have to do. \n",
    "\n",
    "Office hours: You can book office hours with Edwin on Mondays 3pm-5pm by sending him an email (edwin.simpson@bristol.ac.uk). If those times are not possible for you, please contact him by email to request an alternative. \n",
    "\n",
    "## Deadline\n",
    "\n",
    "The notebook must be submitted along with the second notebook on Blackboard before **Wednesday 24th May at 13.00**. \n",
    "\n",
    "## Submission\n",
    "\n",
    "You will need to zip up this notebook with the previous notebook into a single .zip file, which you will submit to Blackboard through the 'assessment, submission and feedback' link on the left sidebar. \n",
    "\n",
    "Please name your files like this:\n",
    "   * Name this notebook ADA2_<student_number>.ipynb\n",
    "   * Name the zip file <student_number>.zip\n",
    "   * Please don't use your name anywhere as we want to mark anonymously. "
   ]
  },
  {
   "cell_type": "code",
   "execution_count": 1,
   "id": "1e3b707e-0ce9-49cb-b226-6ad387fddebb",
   "metadata": {},
   "outputs": [],
   "source": [
    "import numpy as np\n",
    "import torch \n",
    "from datasets import load_dataset\n",
    "\n",
    "cache_dir = \"./data_cache\""
   ]
  },
  {
   "cell_type": "markdown",
   "id": "1e8a9045-9d0b-4427-b91c-a085496de2a5",
   "metadata": {},
   "source": [
    "# 4. Pretrained Transformers (max. 15 marks)\n",
    "\n",
    "HuggingFace is a company that has developed an open source library for loading pretrained transformer models. They also distribute many models that have been pretrained using language modelling tasks, or fine-tuned to specific downstream NLP tasks.  It is currently the best library to use to create NLP models on top of large, deep neural networks. This is especially useful for tasks where simpler, feature-based methods or smaller LSTM models do not perform well enough, for example, when complex processing of syntax and semantics is required (natural language 'understanding'). \n",
    "\n",
    "Let's start by looking at two key types of object in the transformers library: models and tokenizers.\n",
    "\n",
    "## 4.1. Models\n",
    "\n",
    "The neural network models available in the Transformers library are accessed through wrapper classes such as `AutoModel`. If we want to load a pretrained model, we can simply pass its name to the `from_pretrained` function, and the pretrained model weights will be downloaded from HuggingFace and a neural network model will be created with those weights. For example:"
   ]
  },
  {
   "cell_type": "code",
   "execution_count": 2,
   "id": "122d993d-e48c-4dc2-bc14-2949b3d67e16",
   "metadata": {},
   "outputs": [
    {
     "name": "stderr",
     "output_type": "stream",
     "text": [
      "Some weights of the model checkpoint at huawei-noah/TinyBERT_General_4L_312D were not used when initializing BertModel: ['fit_denses.2.weight', 'fit_denses.4.bias', 'fit_denses.0.weight', 'fit_denses.0.bias', 'cls.seq_relationship.weight', 'fit_denses.1.bias', 'fit_denses.2.bias', 'cls.predictions.transform.LayerNorm.bias', 'fit_denses.3.bias', 'cls.predictions.decoder.weight', 'cls.predictions.transform.dense.bias', 'fit_denses.3.weight', 'cls.predictions.bias', 'cls.predictions.transform.LayerNorm.weight', 'cls.predictions.transform.dense.weight', 'fit_denses.1.weight', 'fit_denses.4.weight', 'cls.seq_relationship.bias']\n",
      "- This IS expected if you are initializing BertModel from the checkpoint of a model trained on another task or with another architecture (e.g. initializing a BertForSequenceClassification model from a BertForPreTraining model).\n",
      "- This IS NOT expected if you are initializing BertModel from the checkpoint of a model that you expect to be exactly identical (initializing a BertForSequenceClassification model from a BertForSequenceClassification model).\n"
     ]
    }
   ],
   "source": [
    "from transformers import AutoModel # For BERTs\n",
    "\n",
    "model = AutoModel.from_pretrained(\"huawei-noah/TinyBERT_General_4L_312D\") "
   ]
  },
  {
   "cell_type": "markdown",
   "id": "bfe226ec-580f-4022-97b0-e5010ddfb55e",
   "metadata": {},
   "source": [
    "This code loads the TinyBERT model, which is a compressed version of BERT. It has 4.4 million parameters, compared to the standard version of BERT, 'BERT-base', which has 110 million parameters. While TinyBERT will not perform as well as larger models, we will use it for this notebook to save memory and computation costs. See [documentation here](https://huggingface.co/huawei-noah/TinyBERT_General_4L_312D).\n",
    "\n",
    "<!--the RoBERTa variant of BERT. It has 4.4 million parameters, compared to the standard version of BERT, 'BERT-base', which has 110 million parameters. While RoBERTa-tiny will not perform as well as larger models, we will use it for this notebook to save memory and computation costs. See [documentation here](https://huggingface.co/arampacha/roberta-tiny).  -->\n",
    "\n",
    "The same functions can be used to load other models from HuggingFace's repository simply by changing the model's name. Take a look at [the Models page](https://huggingface.co/models) so see what there is on offer. Do you recognise any of the models' names?\n",
    "\n",
    "# 4.2. Tokenizers\n",
    "\n",
    "Before we can apply a model to some text, we need to a create Tokenizer object. In Transfomers, Tokenizer objects convert raw text to a sequence of numbers. First, the tokenizer actually performs tokenization, then it maps each token to its numerical ID. There are lots of different tokenizers that we can use to preprocess text. If we are loading a pretrained model, we will need to choose the tokenizer that corresponds to that model. \n",
    "\n",
    "We can load the right tokenizer as follows, in the same way we loaded the model itself:"
   ]
  },
  {
   "cell_type": "code",
   "execution_count": 3,
   "id": "d24395ef-aa4a-4d62-a6ea-aa97d86f42c2",
   "metadata": {},
   "outputs": [],
   "source": [
    "from transformers import AutoTokenizer\n",
    "\n",
    "tokenizer = AutoTokenizer.from_pretrained(\"huawei-noah/TinyBERT_General_4L_312D\")"
   ]
  },
  {
   "cell_type": "markdown",
   "id": "7b0ed12c-cb5a-48c5-b67f-7d17b0a79514",
   "metadata": {},
   "source": [
    "Let's see what the TinyBERT tokenizer does to an example sentence:"
   ]
  },
  {
   "cell_type": "code",
   "execution_count": 4,
   "id": "73e5852f-46b3-4e28-b952-780f472b6a7e",
   "metadata": {},
   "outputs": [
    {
     "name": "stdout",
     "output_type": "stream",
     "text": [
      "['the', 'transform', '##er', 'architecture', 'has', 'transformed', 'the', 'field', 'of', 'nl', '##p', '.']\n"
     ]
    }
   ],
   "source": [
    "sentence = \"The transformer architecture has transformed the field of NLP.\"\n",
    "\n",
    "tokens = tokenizer.tokenize(sentence)\n",
    "print(tokens)"
   ]
  },
  {
   "cell_type": "markdown",
   "id": "6807c966-188f-4a0b-b435-4282d5aa0201",
   "metadata": {},
   "source": [
    "Let's compare with the NLTK tokenizer we have seen before:"
   ]
  },
  {
   "cell_type": "code",
   "execution_count": 5,
   "id": "ee63d96e-2441-4591-bff9-3a1bf6289828",
   "metadata": {},
   "outputs": [
    {
     "name": "stdout",
     "output_type": "stream",
     "text": [
      "['The', 'transformer', 'architecture', 'has', 'transformed', 'the', 'field', 'of', 'NLP', '.']\n"
     ]
    }
   ],
   "source": [
    "from nltk.tokenize import word_tokenize\n",
    "\n",
    "nltk_tokens = word_tokenize(sentence)\n",
    "print(nltk_tokens)"
   ]
  },
  {
   "attachments": {},
   "cell_type": "markdown",
   "id": "ad2f2123-34a6-4095-9981-2966fdadd7d8",
   "metadata": {},
   "source": [
    "While NLTK keeps whole words as tokens, the BERT tokenizer splits some words into sub-words and inserts some special characters into the tokens. Splitting is applied to words with low frequency in the training set, such as 'transformer'. \n",
    "\n",
    "**TO-DO 4a:** What is the benefit of splitting rare words into sub-word tokens? **(2 marks)**\n",
    "\n",
    "WRITE YOUR ANSWER HERE:\n",
    "\n",
    "<span style=\"color:yellow\">\n",
    "1. Splitting the rare-words into sub-word tokens, the algorithm represents these words as a combination of more common words that are used more frequently. Doing this imoroves the coverage of the vocabulary on which the algortihm trains and allows the model to better understand the meaning of these words.<br>\n",
    "2.  It also generalizes the rare-words to similar sub-words. By doing this it improves the ability of the model to handle new and unseen words and reduces overfitting to specific words.<br>\n",
    "3. It can handle words that are not in the vocabulary and make better predictions.<br>\n",
    "4. Splitting the words into sub-wprds help in reducing the size of vocabulary. It can in turn reduce the computation cost.<br></sapn>\n",
    "\n",
    "---\n",
    "\n",
    "It is important to use the right tokenizer with a pretrained model as each model was trained with text tokenized in a particular way. After tokenization, the Tokenizer object can also map the tokens to their IDs (indexes in the vocabulary):"
   ]
  },
  {
   "cell_type": "code",
   "execution_count": 6,
   "id": "950440ae-d58f-4675-8fb4-6114462331fd",
   "metadata": {},
   "outputs": [
    {
     "name": "stdout",
     "output_type": "stream",
     "text": [
      "[1996, 10938, 2121, 4294, 2038, 8590, 1996, 2492, 1997, 17953, 2361, 1012]\n"
     ]
    }
   ],
   "source": [
    "ids = tokenizer.convert_tokens_to_ids(tokens)\n",
    "\n",
    "print(ids)"
   ]
  },
  {
   "cell_type": "markdown",
   "id": "ae17f77c-46f4-4ab0-9eee-858fd0b237f2",
   "metadata": {},
   "source": [
    "## 4.3. Contextualised Embeddings\n",
    "\n",
    "Now that we have a sequence of tokens, we are almost ready to process the sequence using the pretrained model. \n",
    "\n",
    "Our model takes as input a PyTorch `tensor` object. In PyTorch, `tensor` is a muli-dimensional matrix. Here, we need a two-dimensional matrix, where each row is a sequence of input tokens corresponding to a single sentence or document. Let's convert our list of IDs to a 2-D tensor with a single row:"
   ]
  },
  {
   "cell_type": "code",
   "execution_count": 7,
   "id": "07007371-2125-4fb0-8511-63ade9a2f796",
   "metadata": {},
   "outputs": [
    {
     "name": "stdout",
     "output_type": "stream",
     "text": [
      "tensor([[ 1996, 10938,  2121,  4294,  2038,  8590,  1996,  2492,  1997, 17953,\n",
      "          2361,  1012]])\n"
     ]
    }
   ],
   "source": [
    "ids_tensor = torch.tensor([ids])\n",
    "\n",
    "print(ids_tensor)"
   ]
  },
  {
   "cell_type": "markdown",
   "id": "508047c1-96fa-4839-9eb3-8e64e91c5919",
   "metadata": {},
   "source": [
    "Now we can process the sequence using our model. The model maps the sequence of input IDs to a sequence of output vectors, which are contextualised word embeddings. The hidden state values produced in the last hidden layer of the model are used as the contextualised embeddings:"
   ]
  },
  {
   "cell_type": "code",
   "execution_count": 8,
   "id": "494c8335-7c8a-47c2-b450-a3b775f2262f",
   "metadata": {},
   "outputs": [
    {
     "name": "stdout",
     "output_type": "stream",
     "text": [
      "The complete model outputs: \n",
      "BaseModelOutputWithPoolingAndCrossAttentions(last_hidden_state=tensor([[[ 0.3608,  0.2862, -0.1549,  ..., -0.2064,  0.2663, -0.0109],\n",
      "         [ 0.0149,  0.7223, -0.0508,  ..., -0.5505,  0.2355, -0.2962],\n",
      "         [ 0.1531,  0.5903, -0.1244,  ..., -0.4263,  0.0417, -0.1839],\n",
      "         ...,\n",
      "         [ 0.1742, -0.1091, -0.1963,  ..., -0.6736,  0.0472, -0.1840],\n",
      "         [ 0.2434,  0.1021, -0.2241,  ..., -0.5400, -0.1691, -0.1314],\n",
      "         [ 0.0854,  0.3272, -0.3016,  ..., -0.2154, -0.5632, -0.1921]]],\n",
      "       grad_fn=<NativeLayerNormBackward0>), pooler_output=tensor([[-1.1380e-02, -6.3005e-03,  1.8521e-02,  7.1139e-03, -3.1795e-02,\n",
      "          1.3882e-02, -1.5459e-02, -1.0610e-03, -1.8263e-02, -3.6515e-02,\n",
      "         -2.1257e-02, -1.5479e-02, -2.8092e-04, -4.1093e-02, -2.5315e-02,\n",
      "         -4.3338e-02, -1.1616e-03, -1.3931e-02,  6.0733e-03,  4.3790e-03,\n",
      "          2.7087e-04, -2.1810e-02, -4.8026e-02,  2.5493e-02, -1.6502e-02,\n",
      "         -1.2034e-03,  4.2757e-02,  3.0715e-03, -2.3439e-02, -2.5849e-02,\n",
      "         -1.1970e-02,  3.4340e-02, -1.9017e-04, -2.9000e-03, -4.1984e-02,\n",
      "          2.2932e-02,  4.0502e-02,  2.0257e-02, -3.0207e-03, -1.5759e-02,\n",
      "         -4.6124e-02,  6.4128e-03, -1.3939e-02,  4.7155e-02, -2.6470e-03,\n",
      "          3.4991e-03, -4.6633e-03,  8.5901e-03, -5.5664e-02,  9.6635e-03,\n",
      "         -1.9049e-02, -2.3983e-02,  6.6501e-03, -8.3702e-03, -1.4176e-02,\n",
      "          5.6313e-03,  4.2980e-03,  2.4337e-02, -5.4481e-04,  1.1454e-02,\n",
      "         -1.0526e-02, -2.5978e-02, -2.8790e-03, -1.9640e-02, -7.0220e-03,\n",
      "          1.9534e-02,  1.2682e-02, -5.3417e-02, -2.8265e-03,  7.8938e-03,\n",
      "         -4.0802e-02,  3.5494e-02, -8.6865e-03, -1.3383e-02,  1.6434e-03,\n",
      "          5.4637e-03,  1.8293e-02, -1.7385e-02,  3.4079e-02, -3.3782e-02,\n",
      "         -1.4324e-02,  3.0941e-02, -2.2349e-02, -1.4385e-02,  1.6196e-03,\n",
      "          2.3094e-02, -2.1322e-02,  2.5966e-02, -1.5705e-02, -2.1027e-03,\n",
      "         -1.5518e-02,  2.8620e-02,  1.5401e-02, -3.7512e-02, -6.7670e-03,\n",
      "         -8.8314e-03, -1.0061e-02, -1.0518e-02, -1.4193e-02,  4.8184e-02,\n",
      "         -4.2733e-02, -6.8396e-04,  8.1719e-03,  6.9233e-03, -2.9026e-04,\n",
      "         -1.6003e-02, -5.5383e-03,  8.2021e-03,  1.7942e-02, -2.9106e-02,\n",
      "          3.7280e-02,  2.1301e-04,  4.1467e-02, -3.1194e-02, -2.8118e-02,\n",
      "         -1.1518e-02,  4.7533e-02, -2.4884e-02, -2.2532e-02,  1.1021e-02,\n",
      "          4.2616e-02, -2.3387e-02,  3.1372e-02,  2.8327e-03,  9.1082e-03,\n",
      "          2.9967e-02,  1.8474e-02, -6.1313e-02,  1.1888e-02, -1.0234e-02,\n",
      "         -1.7436e-02, -2.5382e-03, -2.0706e-02,  6.2739e-03,  3.5936e-02,\n",
      "         -2.7933e-02,  2.7344e-02,  5.7079e-02, -1.6678e-02,  2.4630e-02,\n",
      "          2.6224e-02,  6.1134e-03,  1.2738e-02, -3.5122e-02, -6.0352e-02,\n",
      "          3.7475e-02, -2.0558e-02, -1.1147e-02, -2.5519e-02, -1.6405e-02,\n",
      "         -5.6021e-03,  3.6427e-02, -3.9645e-03,  6.1234e-03,  1.0637e-02,\n",
      "          2.0472e-02,  3.1075e-03,  1.8298e-02, -7.4329e-03,  1.4522e-02,\n",
      "         -3.2961e-02,  4.0197e-02, -4.9703e-02,  1.5634e-02,  3.3699e-02,\n",
      "          4.1567e-02,  3.4694e-02, -3.8650e-02,  4.7024e-02,  4.5112e-03,\n",
      "         -3.7264e-02, -3.8624e-02, -1.5380e-02,  9.4787e-03, -5.9182e-04,\n",
      "          2.2612e-02,  1.6623e-02,  3.8172e-02,  1.8444e-02, -2.8130e-02,\n",
      "         -8.9475e-04,  9.6280e-03,  1.0078e-02, -3.0724e-02,  2.3116e-02,\n",
      "          2.2716e-02, -2.7906e-02, -2.4386e-02,  6.4444e-03,  4.0045e-02,\n",
      "         -3.8941e-02, -1.3221e-03,  3.2294e-02,  1.9687e-02,  1.5107e-03,\n",
      "          2.2807e-03,  1.1437e-02,  2.1764e-03,  2.4419e-02,  2.5357e-02,\n",
      "         -3.9937e-02,  3.6392e-02, -1.4529e-03,  4.5135e-03, -3.1404e-02,\n",
      "         -2.7645e-02,  3.7107e-02, -2.8359e-02,  2.1804e-02, -2.8085e-02,\n",
      "          2.3142e-02, -3.7059e-02, -3.2632e-02, -3.4501e-02, -5.5988e-03,\n",
      "          4.1899e-03,  6.4635e-04, -4.4314e-02, -4.9819e-02,  2.1470e-02,\n",
      "          1.3016e-02,  1.4301e-02,  1.8736e-02, -5.1865e-03,  1.5026e-02,\n",
      "         -2.1931e-05,  3.7323e-02, -4.4686e-02,  2.5535e-02, -1.6726e-02,\n",
      "          7.3110e-03,  4.8066e-05, -4.0819e-03, -1.7965e-03,  2.8757e-02,\n",
      "          5.1982e-02, -3.4868e-02,  2.4777e-02, -6.2330e-03, -1.9709e-02,\n",
      "         -2.1922e-02,  3.1252e-02,  1.3890e-02, -1.7581e-02,  3.5594e-02,\n",
      "          4.8341e-03,  2.7993e-03, -2.6515e-02, -1.4557e-02, -3.1771e-02,\n",
      "          4.0668e-02,  3.3960e-02,  1.6408e-02,  3.1032e-03, -1.5013e-02,\n",
      "         -9.6832e-03, -1.3780e-02, -3.2977e-02,  1.1426e-02, -4.0551e-03,\n",
      "         -2.4082e-03,  3.5824e-02, -4.9809e-02,  3.7798e-02,  1.7321e-02,\n",
      "          1.0082e-02,  5.8975e-02, -4.2596e-02,  3.6302e-02, -1.2863e-02,\n",
      "         -3.1071e-02,  1.3231e-03, -2.5990e-02, -1.7098e-02, -1.9114e-02,\n",
      "          6.7507e-03,  1.4090e-02,  2.7720e-02,  2.3714e-02, -1.8923e-02,\n",
      "         -2.0685e-02, -4.4664e-02, -1.6670e-02, -1.3620e-02,  1.5473e-02,\n",
      "         -4.4576e-03,  7.4261e-04, -3.9406e-03,  1.4169e-02, -2.6952e-03,\n",
      "         -2.6419e-02,  2.4067e-02,  4.7123e-02,  8.8112e-03,  1.7120e-02,\n",
      "          1.0671e-02, -2.4989e-03,  4.1719e-03, -3.7655e-02,  1.7643e-02,\n",
      "          1.0087e-02, -9.5764e-03, -2.1317e-02, -4.8866e-02, -1.9793e-02,\n",
      "          2.8578e-02,  1.2889e-02, -1.9376e-02,  4.6893e-02, -8.4309e-04,\n",
      "          1.6833e-03,  4.6231e-02]], grad_fn=<TanhBackward0>), hidden_states=None, past_key_values=None, attentions=None, cross_attentions=None)\n",
      "\n",
      "The last hidden state for the first token in the sequence (the first word embedding): \n",
      "tensor([[ 0.3608,  0.2862, -0.1549,  ..., -0.2064,  0.2663, -0.0109],\n",
      "        [ 0.0149,  0.7223, -0.0508,  ..., -0.5505,  0.2355, -0.2962],\n",
      "        [ 0.1531,  0.5903, -0.1244,  ..., -0.4263,  0.0417, -0.1839],\n",
      "        ...,\n",
      "        [ 0.1742, -0.1091, -0.1963,  ..., -0.6736,  0.0472, -0.1840],\n",
      "        [ 0.2434,  0.1021, -0.2241,  ..., -0.5400, -0.1691, -0.1314],\n",
      "        [ 0.0854,  0.3272, -0.3016,  ..., -0.2154, -0.5632, -0.1921]],\n",
      "       grad_fn=<SelectBackward0>)\n"
     ]
    }
   ],
   "source": [
    "model_outputs = model(ids_tensor)\n",
    "print('The complete model outputs: ')\n",
    "print(model_outputs)\n",
    "\n",
    "print()\n",
    "print('The last hidden state for the first token in the sequence (the first word embedding): ')\n",
    "embeddings = model_outputs['last_hidden_state'][0]\n",
    "print(embeddings)"
   ]
  },
  {
   "cell_type": "markdown",
   "id": "1cee4181-7518-484f-993d-f7abffcae010",
   "metadata": {},
   "source": [
    "We can retrieve the embedding vector for \"transform\" like this (\"transform\" is the second token in the sequence):"
   ]
  },
  {
   "cell_type": "code",
   "execution_count": 9,
   "id": "b3df76db-f81e-4916-b31d-34a8341a20db",
   "metadata": {},
   "outputs": [
    {
     "name": "stdout",
     "output_type": "stream",
     "text": [
      "[ 1.49148628e-02  7.22317815e-01 -5.07864691e-02 -2.74205178e-01\n",
      " -1.38932303e-01  1.00099528e+00  7.11445557e-03  2.71392733e-01\n",
      " -3.92815247e-02  6.04100265e-02  1.25740394e-01  4.60631937e-01\n",
      "  6.25271583e-03  1.61929712e-01  1.23912573e-01 -4.08096224e-01\n",
      "  1.24867305e-01 -4.71536011e-01  2.24768803e-01  6.35189936e-02\n",
      "  8.56180787e-02 -1.88044921e-01  1.77257597e-01  3.40050578e-01\n",
      " -1.95545912e-01  1.58554330e-01  9.62863788e-02  1.12649135e-01\n",
      "  2.21045569e-01 -9.56113040e-01 -3.85948658e-01  1.39220789e-01\n",
      "  5.90012312e-01 -8.06728959e-01 -1.34287402e-01  2.35692337e-01\n",
      " -1.02274396e-01  2.78303742e-01  7.94321716e-01 -2.49363303e-01\n",
      "  1.72772437e-01 -2.07582265e-01  3.00156802e-01 -8.59342813e-02\n",
      " -2.25284323e-01 -9.75407436e-02 -3.52349937e-01  3.81161809e-01\n",
      " -3.87681931e-01 -1.77613631e-01 -4.13685769e-01  1.38046086e-01\n",
      "  1.29870605e-02  6.52684093e-01  1.16502956e-01 -5.10778844e-01\n",
      " -8.30415785e-02 -2.67046876e-02  3.12862754e-01 -2.62848020e-01\n",
      " -1.43284783e-01  1.10270374e-01 -1.46888182e-01  8.40615705e-02\n",
      " -5.41599452e-01 -2.74969898e-02 -2.71180600e-01  3.61281186e-01\n",
      "  1.86116636e-01 -2.27869600e-01 -8.60138386e-02  4.15634990e-01\n",
      " -2.35575289e-02  2.90852696e-01 -4.29376304e-01  5.02850294e-01\n",
      "  4.46189046e-01 -3.45921576e-01 -1.07706405e-01  9.98831168e-02\n",
      "  4.75119919e-01  1.42710328e-01  6.47531915e-03  1.91740058e-02\n",
      "  4.32647794e-01 -7.28578046e-02  1.23887099e-01  4.31222409e-01\n",
      " -2.87044108e-01  8.61874461e-01 -3.77015829e-01 -2.96231121e-01\n",
      " -6.53611049e-02 -1.08727187e-01 -5.34366727e-01  2.30698988e-01\n",
      " -4.43287604e-02  8.28579627e-03 -4.80110377e-01  6.32632822e-02\n",
      "  3.46862078e-01 -1.00408588e-02  2.46484101e-01  1.04728170e-01\n",
      "  5.85357882e-02 -1.73106760e-01 -1.63396418e-01 -1.42521173e-01\n",
      " -1.41768172e-01  5.59855253e-02  2.56438762e-01 -3.92890662e-01\n",
      " -3.47413868e-01 -5.97774744e-01 -1.29221484e-01 -3.44479889e-01\n",
      "  7.78064132e-02  2.47690633e-01  3.36303502e-01 -1.69770002e-01\n",
      "  5.26938438e-02 -4.30812597e-01 -7.06476808e-01  2.43619364e-02\n",
      " -2.37541795e-01 -3.28976035e-01  1.46831751e-01  4.63140070e-01\n",
      " -7.27377906e-02  4.38399166e-02  4.04203273e-02 -3.49184498e-02\n",
      " -5.20071983e-02 -1.70057863e-01  3.05907633e-02  9.56191570e-02\n",
      "  1.73355877e+00  2.14067772e-01  6.37332574e-02  5.80559313e-01\n",
      " -9.82590467e-02 -4.88570452e-01  2.82070667e-01  2.64479071e-01\n",
      "  3.23805630e-01 -2.94938147e-01  1.32838607e-01 -3.09570357e-02\n",
      "  1.98950559e-01  1.01506472e-01  3.46357763e-01  4.12193745e-01\n",
      " -2.06010416e-01  1.38656944e-01  8.95757601e-02 -9.03496817e-02\n",
      "  1.60655305e-02  1.04298636e-01  5.76754153e-01  4.83328879e-01\n",
      "  1.27746433e-01 -4.36356924e-02  2.58014053e-01 -7.33285174e-02\n",
      " -3.81114125e-01 -4.86675054e-02  5.54443181e-01 -2.71808133e-02\n",
      " -3.28379631e-01  1.03765547e-01 -7.67528787e-02 -2.55299956e-01\n",
      " -4.58066463e-01 -6.74318299e-02 -5.92074282e-02 -5.33039793e-02\n",
      "  7.31044531e-01 -4.37690578e-02  1.48427054e-01 -6.68218613e-01\n",
      "  5.39264917e-01 -5.51167667e-01  3.07089746e-01 -2.95280695e-01\n",
      "  2.30028644e-01  4.45131272e-01  5.98998517e-02  3.32110465e-01\n",
      "  3.09372663e-01  7.49412775e-01  6.80033505e-01  2.81823426e-01\n",
      " -1.52892873e-01 -2.78219700e-01  1.57605901e-01 -3.44318375e-02\n",
      " -4.25326139e-01  3.65775377e-01 -6.05315492e-02 -2.44895145e-01\n",
      " -9.54148322e-02  2.14865610e-01  3.48809026e-02  4.22627717e-01\n",
      "  1.17062315e-01  1.53851613e-01  4.89412576e-01 -4.79476266e-02\n",
      " -4.35450375e-01  1.52307883e-01 -3.75606030e-01 -2.00070381e-01\n",
      " -4.52390224e-01 -9.23968181e-02  7.94972107e-02 -3.91880900e-01\n",
      "  2.03301609e-01  5.86735308e-01  1.18400306e-02 -3.49965215e-01\n",
      " -1.03551615e-02  1.67385563e-01  1.03551894e-01  1.20488675e-02\n",
      "  2.16728613e-01 -6.50197119e-02 -3.98291796e-01 -2.12185770e-01\n",
      "  1.36513058e-02 -5.55399358e-01 -2.92274296e-01  1.41717345e-01\n",
      "  5.35453856e-01  2.17891872e-01 -4.19898778e-01 -3.32854837e-01\n",
      "  3.76726598e-01 -3.19371372e-01 -3.27617109e-01  4.93490398e-01\n",
      "  1.59246758e-01  7.08295166e-01 -1.90098256e-01  5.06710112e-01\n",
      " -6.10249162e-01 -6.68389425e-02  1.14125800e+00  8.79684761e-02\n",
      " -1.85308218e-01 -1.45169854e-01  2.87573189e-01 -4.92560446e-01\n",
      "  3.61888558e-02  2.62837410e-01 -2.52178043e-01  6.15252331e-02\n",
      " -3.54109794e-01 -3.53945822e-01  1.98718742e-01  1.07959187e+00\n",
      "  1.29683280e+00  3.58776212e-01  6.75653696e-01  2.51170605e-01\n",
      " -5.65679848e-01 -4.81561780e-01  3.10951442e-01 -1.07663356e-01\n",
      " -3.67721736e-01  8.12461004e-02 -4.20884192e-01  5.78670979e-01\n",
      "  9.49732438e-02  1.65470481e-01  3.70412856e-01 -7.44750910e-03\n",
      "  4.63328868e-01 -2.38428414e-01  4.81733568e-02 -1.74412146e-01\n",
      "  8.61793384e-02 -1.35658622e-01  2.68296272e-01  2.98456609e-01\n",
      "  6.36236191e-01  2.79196322e-01 -1.57060504e-01 -2.91060418e-01\n",
      " -1.38484403e-01 -9.19550508e-02 -3.60317439e-01 -3.03814918e-01\n",
      "  2.38155082e-01  3.61209005e-01  1.53050140e-01  5.15779369e-02\n",
      " -1.36684580e-03  9.56994221e-02 -3.30189377e-01  3.86729896e-01\n",
      " -2.75555968e-01  3.30926865e-01 -2.23884419e-01 -4.71362501e-01\n",
      "  8.31370875e-02 -2.26589113e-01  2.15097249e-01  2.63798982e-01\n",
      "  3.72822583e-01 -5.50537109e-01  2.35453889e-01 -2.96165258e-01]\n",
      "The TinyBERT embeddings have 312 dimensions.\n"
     ]
    }
   ],
   "source": [
    "emb = embeddings[1]  # get second embedding in the sequence\n",
    "\n",
    "# convert it to a numpy array so we can perform various operations on it later on\n",
    "emb = emb.detach().numpy()\n",
    "\n",
    "print(emb)\n",
    "print(f'The TinyBERT embeddings have {emb.shape[0]} dimensions.')"
   ]
  },
  {
   "cell_type": "markdown",
   "id": "adc1d779-8ec7-462a-895b-e58a88d9bb63",
   "metadata": {},
   "source": [
    "TO-DO 4b: Retrieve the embedding for \"architecture\" (this to-do will not be marked)."
   ]
  },
  {
   "cell_type": "code",
   "execution_count": 10,
   "id": "827ca93a-d80d-4655-a417-6c6c6d1e07f7",
   "metadata": {},
   "outputs": [
    {
     "name": "stdout",
     "output_type": "stream",
     "text": [
      "[ 2.71386981e-01  7.74582207e-01 -3.24257016e-01 -7.14325309e-02\n",
      " -4.95268905e-04  9.37310040e-01 -4.40247403e-03 -4.26919833e-02\n",
      "  1.27396500e-02  1.89266987e-02  1.02528624e-01  4.54656661e-01\n",
      "  2.70435810e-01  2.30988905e-01  4.03637812e-03 -1.08995184e-01\n",
      " -4.59914133e-02 -3.51154119e-01 -1.34710416e-01  8.29389989e-02\n",
      "  1.86496824e-01  5.00281751e-02  7.21666515e-02  2.28657067e-01\n",
      " -2.19697207e-01  9.40193161e-02  1.65540054e-01  1.85794502e-01\n",
      "  3.17783207e-01 -5.09367347e-01 -5.00949025e-01  1.52487710e-01\n",
      "  4.57998663e-01 -8.51876497e-01 -1.58632323e-01  1.58965424e-01\n",
      "  4.16196063e-02  2.30998382e-01  8.78503203e-01 -6.23163469e-02\n",
      "  1.87220082e-01 -1.23367840e-02  2.10083455e-01  3.48072536e-02\n",
      " -2.51239896e-01 -1.37914613e-01 -3.88697267e-01  2.98189938e-01\n",
      " -2.92033464e-01 -3.19503814e-01 -1.98434874e-01  1.32031843e-01\n",
      " -6.46375418e-02  7.43182957e-01  7.14239776e-02 -3.02118033e-01\n",
      "  3.49781364e-01 -5.81789352e-02  2.85069138e-01 -4.09580946e-01\n",
      " -1.03296600e-01  1.03768133e-01 -2.22905114e-01  8.86319205e-02\n",
      " -4.33602005e-01  2.17866153e-01 -2.76991814e-01  3.99589419e-01\n",
      "  1.69203952e-01 -3.05192381e-01 -2.66391665e-01  7.28380501e-01\n",
      " -2.11687803e-01  3.97848994e-01 -5.89086294e-01  4.29775476e-01\n",
      "  4.25439239e-01 -2.14259684e-01 -9.17082652e-02  2.12370485e-01\n",
      "  4.30578083e-01 -1.41512021e-01  2.11000945e-02  1.92521542e-01\n",
      "  3.87895972e-01 -2.28492633e-01  2.32072547e-01  4.97907847e-01\n",
      " -1.22622840e-01  5.94609320e-01 -3.73323023e-01 -3.34644884e-01\n",
      " -1.71525702e-01 -1.55617416e-01 -6.56990647e-01  1.63026690e-01\n",
      " -1.98492203e-02 -1.46203905e-01 -4.47817862e-01  1.86819956e-01\n",
      "  2.59208322e-01  8.59286189e-02  3.39516193e-01 -1.29848853e-01\n",
      " -1.14089683e-01 -2.00276092e-01 -2.15664580e-01 -5.63762598e-02\n",
      " -1.07931636e-01 -4.68210205e-02  2.56857455e-01 -2.77532876e-01\n",
      " -2.11156402e-02 -5.35417557e-01 -7.24149719e-02 -4.13409919e-01\n",
      "  1.73524007e-01  1.13118336e-01  2.38801673e-01 -2.24455252e-01\n",
      "  8.62925202e-02  1.15333395e-02 -3.62385780e-01  2.29010805e-01\n",
      " -3.50627899e-01 -3.97163361e-01 -5.64069720e-03  5.43278992e-01\n",
      "  4.42471094e-02  2.74848968e-01 -4.32896875e-02 -8.17518905e-02\n",
      "  2.26517439e-01 -2.17810005e-01 -2.09805265e-01  3.68050277e-01\n",
      "  1.74909031e+00  2.32437685e-01  4.12019156e-02  4.28760499e-01\n",
      " -7.73499012e-02 -3.94460380e-01  4.56215620e-01  3.94748718e-01\n",
      "  3.47980052e-01 -1.98664412e-01  1.66283157e-02  4.17211726e-02\n",
      "  2.80723810e-01  1.72675237e-01  3.71788234e-01  4.58930492e-01\n",
      " -2.03692332e-01  2.08811507e-01  1.32482231e-01  4.34799213e-03\n",
      " -1.48096681e-01  1.11547008e-01  5.05590677e-01  6.24570727e-01\n",
      "  5.56755736e-02 -1.93018302e-01  1.44752830e-01 -2.42132470e-01\n",
      " -3.77228558e-01 -8.83373842e-02  3.18629146e-01  1.29222963e-03\n",
      " -4.68145788e-01  1.09013930e-01 -9.88199785e-02  4.33945097e-02\n",
      " -5.95691860e-01 -6.29969388e-02  1.90069854e-01 -6.22256920e-02\n",
      "  4.44374830e-01 -4.45063487e-02  3.63635495e-02 -7.49728262e-01\n",
      "  6.06420279e-01 -5.94443083e-01  2.27024868e-01 -3.24531257e-01\n",
      "  2.27765366e-01  2.53754586e-01  3.37925218e-02  3.54704022e-01\n",
      "  1.48369804e-01  8.01494896e-01  7.37675548e-01  3.16927791e-01\n",
      " -4.65496391e-01 -2.19995901e-01  8.55113938e-02  7.90396407e-02\n",
      " -4.21970814e-01  3.00321817e-01 -1.64274443e-02 -3.05001855e-01\n",
      " -1.29669309e-01  5.97732700e-02  2.27803424e-01  2.51437217e-01\n",
      "  1.32935703e-01  1.77337170e-01  5.35019517e-01 -1.26853928e-01\n",
      " -3.70967865e-01  1.97891682e-01 -5.81951141e-01 -8.73126686e-02\n",
      " -4.38537806e-01  4.81510013e-02  4.27312478e-02 -3.52274716e-01\n",
      "  9.06555429e-02  8.38537574e-01  1.90428361e-01 -3.27884048e-01\n",
      "  5.39010093e-02  2.09419683e-01  2.61073172e-01  1.41681984e-01\n",
      "  2.57946700e-01  1.15054600e-01 -2.29461223e-01 -3.17161590e-01\n",
      "  2.03591645e-01 -4.94223773e-01 -1.88396141e-01  3.99250716e-01\n",
      "  3.61400694e-01  1.02145158e-01 -6.39538944e-01 -4.55038011e-01\n",
      "  3.48606646e-01 -3.01878691e-01 -3.11838865e-01  5.37507296e-01\n",
      "  1.79695576e-01  9.53897417e-01 -9.25656185e-02  2.97179043e-01\n",
      " -4.64271247e-01 -1.54976711e-01  1.04017770e+00 -5.71002364e-02\n",
      " -1.25493973e-01 -1.59981653e-01  3.02586377e-01 -6.54342115e-01\n",
      "  8.32992345e-02  2.96592534e-01 -2.88192660e-01 -5.19613624e-02\n",
      " -1.16057523e-01 -4.02866900e-01 -1.85674597e-02  8.54045689e-01\n",
      "  1.04417539e+00  2.02207282e-01  3.87415826e-01  2.76725858e-01\n",
      " -6.04186714e-01 -4.56754655e-01  1.98381022e-01 -1.97067097e-01\n",
      " -2.95010537e-01  2.78942049e-01 -6.31202519e-01  5.56933343e-01\n",
      "  2.03483656e-01  9.17818323e-02  2.54568875e-01 -3.95420529e-02\n",
      "  2.62133211e-01 -2.75719523e-01  3.52464855e-01 -3.85204792e-01\n",
      "  2.10844681e-01 -8.33486952e-03  2.20535949e-01 -2.24062223e-02\n",
      "  5.56667924e-01  1.01012670e-01 -7.73579329e-02 -4.63615566e-01\n",
      " -3.20620120e-01 -5.78197539e-02 -2.29296312e-01 -2.77261943e-01\n",
      "  1.52324468e-01  4.02600497e-01  1.10904559e-01  1.83825403e-01\n",
      " -3.95603441e-02  1.69772450e-02 -5.05567074e-01  6.35551289e-02\n",
      "  6.98364377e-02  5.73960006e-01 -1.97177216e-01 -3.72904092e-01\n",
      "  1.01819880e-01 -1.72660112e-01  2.11300313e-01  1.70526847e-01\n",
      "  2.35796586e-01 -4.73861873e-01 -1.39763057e-01 -2.52476931e-01]\n",
      "The TinyBERT embeddings have 312 dimensions.\n"
     ]
    }
   ],
   "source": [
    "# WRITE YOUR ANSWER HERE\n",
    "emb_arch = embeddings[3]\n",
    "emb_arch = emb_arch.detach().numpy()\n",
    "\n",
    "print(emb_arch)\n",
    "print(f'The TinyBERT embeddings have {emb_arch.shape[0]} dimensions.')"
   ]
  },
  {
   "cell_type": "markdown",
   "id": "31c79402-f6b7-4fc3-9f47-50fcffccbe68",
   "metadata": {},
   "source": [
    "Sentences and documents usually have varying lengths. So, to put multiple sentences into a single tensor, we need to pad the sequences up to a maximum length. Luckily, the tokenizer class takes care of this for us. When we pass in a list of sentences, the tokenizer creates a matrix, where each row is a sequence of the same length:"
   ]
  },
  {
   "cell_type": "code",
   "execution_count": 11,
   "id": "c03abaed-6738-44ab-a7dd-7775743f99ba",
   "metadata": {},
   "outputs": [
    {
     "name": "stderr",
     "output_type": "stream",
     "text": [
      "Asking to truncate to max_length but no maximum length is provided and the model has no predefined maximum length. Default to no truncation.\n"
     ]
    },
    {
     "name": "stdout",
     "output_type": "stream",
     "text": [
      "{'input_ids': tensor([[  101,  2027,  2363,  1037,  5414,  2013,  1996,  2924,  1012,   102,\n",
      "             0,     0,     0,     0,     0,     0],\n",
      "        [  101,  2009,  2001,  2025,  2204,  2005,  2593,  2010,  2924,  5703,\n",
      "          2030,  2010,  2668,  3778,  1012,   102],\n",
      "        [  101,  2016,  2939,  2247,  1996,  2924,  1997,  1996,  2314,  2875,\n",
      "          1996,  2103,  1012,   102,     0,     0],\n",
      "        [  101,  2027,  2924,  2037, 18178, 10997,  2006,  9432,  2015,  1012,\n",
      "           102,     0,     0,     0,     0,     0],\n",
      "        [  101,  2016,  2939,  2247,  1996, 22756,  2875,  1996,  2103,  1012,\n",
      "           102,     0,     0,     0,     0,     0]]), 'token_type_ids': tensor([[0, 0, 0, 0, 0, 0, 0, 0, 0, 0, 0, 0, 0, 0, 0, 0],\n",
      "        [0, 0, 0, 0, 0, 0, 0, 0, 0, 0, 0, 0, 0, 0, 0, 0],\n",
      "        [0, 0, 0, 0, 0, 0, 0, 0, 0, 0, 0, 0, 0, 0, 0, 0],\n",
      "        [0, 0, 0, 0, 0, 0, 0, 0, 0, 0, 0, 0, 0, 0, 0, 0],\n",
      "        [0, 0, 0, 0, 0, 0, 0, 0, 0, 0, 0, 0, 0, 0, 0, 0]]), 'attention_mask': tensor([[1, 1, 1, 1, 1, 1, 1, 1, 1, 1, 0, 0, 0, 0, 0, 0],\n",
      "        [1, 1, 1, 1, 1, 1, 1, 1, 1, 1, 1, 1, 1, 1, 1, 1],\n",
      "        [1, 1, 1, 1, 1, 1, 1, 1, 1, 1, 1, 1, 1, 1, 0, 0],\n",
      "        [1, 1, 1, 1, 1, 1, 1, 1, 1, 1, 1, 0, 0, 0, 0, 0],\n",
      "        [1, 1, 1, 1, 1, 1, 1, 1, 1, 1, 1, 0, 0, 0, 0, 0]])}\n"
     ]
    }
   ],
   "source": [
    "sentences = [\n",
    "    \"They received a loan from the bank.\",\n",
    "    \"It was not good for either his bank balance or his blood pressure.\",\n",
    "    \"She walked along the bank of the river towards the city.\",\n",
    "    \"They bank their cheques on Thursdays.\",\n",
    "    \"She walked along the embankment towards the city.\"\n",
    "]\n",
    "\n",
    "model_inputs = tokenizer(sentences, padding=True, truncation=True, return_tensors=\"pt\")  \n",
    "\n",
    "print(model_inputs)"
   ]
  },
  {
   "attachments": {},
   "cell_type": "markdown",
   "id": "a59a44fc-218e-462d-86ef-fee203417bb6",
   "metadata": {},
   "source": [
    "`model_inputs` is a dictionary containing three objects:\n",
    " * The `input_ids` are the list of token IDs in the input sequences. \n",
    " * The `attention_mask` records which tokens are special padding tokens and which are real tokens. Tokens with a 0 in the attention mask will be ignored.\n",
    " * `token_type_ids` is needed when two sequences are passed together as input to the model for tasks such as next sentence prediction that involve comparing two sentences. Here, each input is a single sentence, so we have only one type of token in the output above. \n",
    " \n",
    "TO-DO 4c: What value do the special padding tokens have? (this to-do is unmarked)<br>\n",
    "<span style='color:yellow'>[PAD]</span>\n",
    "\n",
    "ANSWER: \n",
    "\n",
    "---\n",
    "\n",
    "Notice that the input_ids all start with the same token ID, 101, even though they have different first words. They also have token ID 102 before the padding tokens. This is because the tokenizer inserts two special tokens, which are used in some applicaions of BERT. 101 is the '[CLS]' token, which is a dummy token whose embedding can be trained to represent the whole sequence. the [CLS] token's embedding can then be used as input to a text classifier to classify a sentence or document. Token 102 is '[SEP]', which can be used to separate multiple input sequences in a single example. This is needed in tasks where multiple pieces of text are provided as input, e.g., a to build a classifier that can determine whether two sentences contradict each other. \n",
    "\n",
    "We can now pass all of the model inputs to the model to produce a set of contextualised embeddings:"
   ]
  },
  {
   "cell_type": "code",
   "execution_count": 12,
   "id": "b888b7cf-54d1-450b-9431-e64629177d93",
   "metadata": {},
   "outputs": [],
   "source": [
    "# model_inputs is a dictionary, so to provide the arguments to model(), \n",
    "# we use the double star to unpack the dictionary so that each key in the dictionary is\n",
    "# an argument to model() and each value is the value of the argument. \n",
    "model_outputs = model(**model_inputs) "
   ]
  },
  {
   "cell_type": "markdown",
   "id": "84a8eb74-ce63-459c-9fb3-05fd2768ddf8",
   "metadata": {},
   "source": [
    "**TO-DO 4d:** The first four example sentences above all contain the word \"bank\", and the last example contains \"embankment\". Obtain a list of contextualised word embeddings for 'bank' and 'embankment' in the example sentences using our model. **(4 marks)**\n",
    "\n",
    "Hint: you may need to convert tensors to numpy arrays."
   ]
  },
  {
   "cell_type": "code",
   "execution_count": 13,
   "id": "5f0297da-4106-41ef-8f61-5aa3fbb2cc1d",
   "metadata": {},
   "outputs": [
    {
     "name": "stdout",
     "output_type": "stream",
     "text": [
      "Bank embeddings: [array([[-0.17210938,  0.3554762 , -0.01530575, ...,  0.09638997,\n",
      "         0.03411598,  0.6412669 ],\n",
      "       [ 0.06130864,  0.3978629 ,  0.20649993, ..., -0.10949574,\n",
      "         1.1185691 ,  0.2539656 ],\n",
      "       [ 0.52980375,  0.59411454,  0.13647686, ..., -0.34088627,\n",
      "         0.0416989 ,  0.7493994 ],\n",
      "       ...,\n",
      "       [-0.04268991,  0.0422273 ,  0.29759872, ..., -0.10009946,\n",
      "         0.22506376,  0.24222071],\n",
      "       [-0.04637844,  0.14576931,  0.23094745, ..., -0.04211048,\n",
      "         0.29990548,  0.17476645],\n",
      "       [ 0.05196349,  0.25869167,  0.2816572 , ..., -0.00587232,\n",
      "         0.580475  ,  0.18867968]], dtype=float32), array([[-0.348832  ,  0.2761361 ,  0.205415  , ...,  0.26526845,\n",
      "         0.3573863 ,  0.3961001 ],\n",
      "       [ 0.20104799,  0.1711525 ,  0.31701708, ...,  0.24112579,\n",
      "         0.1232257 ,  0.29956692],\n",
      "       [ 0.44385263,  0.3780262 ,  0.34030116, ...,  0.29888162,\n",
      "         0.5167462 , -0.022316  ],\n",
      "       ...,\n",
      "       [-0.03760721,  0.04998438,  0.09920593, ...,  0.52685916,\n",
      "        -0.05869023, -0.3040582 ],\n",
      "       [ 0.1287285 , -0.08833688,  0.01530768, ..., -0.10987857,\n",
      "        -0.6808864 ,  0.268404  ],\n",
      "       [ 0.15035827, -0.13427566, -0.02232759, ..., -0.12610078,\n",
      "        -0.3949051 ,  0.26782557]], dtype=float32), array([[-0.33568317,  0.3142153 , -0.34450164, ...,  0.11075756,\n",
      "        -0.2068015 ,  0.7621249 ],\n",
      "       [-0.59411705,  0.48681214,  0.08532589, ...,  0.51857376,\n",
      "         0.90787387,  0.23730297],\n",
      "       [ 0.02235484,  0.498401  , -0.10208675, ...,  0.45909736,\n",
      "         0.55059797,  0.3446779 ],\n",
      "       ...,\n",
      "       [ 0.01743036, -0.1796478 , -0.01968037, ..., -0.20217142,\n",
      "        -0.60838103,  0.28076732],\n",
      "       [-0.48150036,  0.1449216 , -0.19936186, ...,  0.1696129 ,\n",
      "        -0.0093314 ,  0.39273423],\n",
      "       [-0.46674168,  0.2098446 , -0.1109172 , ...,  0.27409306,\n",
      "         0.24609962,  0.3924185 ]], dtype=float32), array([[-0.21873412,  0.22842456, -0.23031782, ..., -0.05219596,\n",
      "         0.01504237,  0.46128967],\n",
      "       [-0.2861875 ,  0.34871703, -0.08543866, ...,  0.02655038,\n",
      "         1.0498767 ,  0.20047662],\n",
      "       [ 0.28462797,  0.23914385, -0.08662197, ..., -0.18382014,\n",
      "         0.2030458 ,  0.02595203],\n",
      "       ...,\n",
      "       [-0.17986484, -0.01522466,  0.07597239, ..., -0.00158992,\n",
      "         0.43573108,  0.14828186],\n",
      "       [-0.20368183,  0.02974995, -0.01410405, ...,  0.00155882,\n",
      "         0.34659752,  0.13346532],\n",
      "       [-0.14351742,  0.12993707, -0.02062483, ...,  0.01074013,\n",
      "         0.6424565 ,  0.14961565]], dtype=float32)]\n",
      "Embankment embedding: [[-0.31143433  0.21914259 -0.3373415  ...  0.05885773 -0.18038528\n",
      "   0.7546837 ]\n",
      " [-0.5465305   0.4383457   0.10380696 ...  0.47698092  0.8073375\n",
      "   0.23135296]\n",
      " [ 0.14529909  0.4216175  -0.07690999 ...  0.40770602  0.46475714\n",
      "   0.25829318]\n",
      " ...\n",
      " [-0.4288878  -0.00739436 -0.05541494 ...  0.13083433  0.19712776\n",
      "   0.40365806]\n",
      " [-0.4515827   0.04430528 -0.17554922 ...  0.135054    0.01902086\n",
      "   0.37322536]\n",
      " [-0.384184    0.13860758 -0.09151563 ...  0.220809    0.2821254\n",
      "   0.37723115]]\n"
     ]
    }
   ],
   "source": [
    "#WRITE YOUR OWN CODE HERE\n",
    "bank_indices = [0, 1, 2, 3]\n",
    "embankment_index = 4\n",
    "\n",
    "embeddings = model_outputs.last_hidden_state.detach().numpy()\n",
    "\n",
    "bank_embeddings = embeddings[bank_indices]\n",
    "embankment_embedding = embeddings[embankment_index]\n",
    "\n",
    "print(f\"Bank embeddings: {[i for i in bank_embeddings]}\")\n",
    "print(f\"Embankment embedding: {embankment_embedding}\")\n"
   ]
  },
  {
   "attachments": {},
   "cell_type": "markdown",
   "id": "5ac47b72-46a3-40ee-b081-bca17da0b49b",
   "metadata": {},
   "source": [
    "**TO-DO 4e:** Compute the similarities between these embeddings in the cell below, and show the results. Which embeddings are most similar to one another and why? **(6 marks)**\n",
    "\n",
    "WRITE YOUR ANSWER HERE:\n",
    "<br>\n",
    "<span style=\"color:yellow\">\n",
    "The embeddings for sentences 1 and 3 are most similar to each other with a similarity scores of `0.691002`, while the embeddings for second and fourth sentence are less similar to each other with similarity scores of `0.24995577` and `.05265813`. <br>\n",
    "The reason behind these socres is that snentences 1 and 3 both use \"bank\" in the context of a river bank whereas sentences 2 and 4 use \"bank\" in the context of financial institution. The dofferent contexts in the sentences have reduced the similarity scores. </span>"
   ]
  },
  {
   "cell_type": "code",
   "execution_count": 14,
   "id": "c5a9c5c1-b6b2-4df4-8729-0f0615b5e161",
   "metadata": {},
   "outputs": [
    {
     "name": "stdout",
     "output_type": "stream",
     "text": [
      "[[0.4176671 ]\n",
      " [0.24995577]\n",
      " [0.691002  ]\n",
      " [0.5265813 ]]\n"
     ]
    }
   ],
   "source": [
    "# WRITE YOUR OWN CODE HERE\n",
    "from sklearn.metrics.pairwise import cosine_similarity\n",
    "\n",
    "bank_embeddings_2d = np.reshape(bank_embeddings, (len(bank_embeddings), -1))\n",
    "similarities = cosine_similarity(bank_embeddings_2d, embankment_embedding.reshape(1, -1))\n",
    "print(similarities)\n"
   ]
  },
  {
   "cell_type": "markdown",
   "id": "680d6407-24ea-41f5-a16e-d03fe15aa124",
   "metadata": {},
   "source": [
    "**TO-DO 4f:** Use the [CLS] token's embedding to find the most similar **sentence** to \"She walked along the embankment towards the city.\" from the first four sentences. Print the similarities and the selected sentence. **(3 marks)**"
   ]
  },
  {
   "cell_type": "code",
   "execution_count": 15,
   "id": "32808677-1efb-49aa-a384-cd8ca1632d0c",
   "metadata": {},
   "outputs": [
    {
     "name": "stdout",
     "output_type": "stream",
     "text": [
      "Similarities: [0.9093039631843567, 0.7936347126960754, 0.9947957396507263, 0.8988916277885437]\n",
      "Most similar sentence: She walked along the bank of the river towards the city.\n"
     ]
    }
   ],
   "source": [
    "# WRITE YOUR OWN CODE HERE\n",
    "import torch.nn.functional as F\n",
    "\n",
    "embankment_cls_embedding = model_outputs.last_hidden_state[-1, 0, :]\n",
    "cls_embeddings = model_outputs.last_hidden_state[:, 0, :]\n",
    "\n",
    "similarities = F.cosine_similarity(cls_embeddings[:-1], embankment_cls_embedding.unsqueeze(0))\n",
    "most_similar_index = similarities.argmax().item()\n",
    "\n",
    "print(f\"Similarities: {similarities.tolist()}\")\n",
    "print(f\"Most similar sentence: {sentences[most_similar_index]}\")"
   ]
  },
  {
   "cell_type": "markdown",
   "id": "c768029d-395e-4eb9-ac1b-7c72e81dcd01",
   "metadata": {},
   "source": [
    "# 5. Question Answering with Pretrained Transformers (max. 11 marks)\n",
    "\n",
    "The previous section showed us how to obtain a sequence of contextualised word embeddings using a pretrained transformer. How are these embeddings used to extract answers from documents to a given question?\n",
    "\n",
    "First, let's load up the [Tweet QA](https://huggingface.co/datasets/tweet_qa) dataset, which we will use to test a pretrained question answering (QA) model. This dataset contains tweets along with questions about the information in the tweets, and a list of correct answers. As we are not going to train our own QA model (it requires a lot of compute time), we will only need the validation set:"
   ]
  },
  {
   "cell_type": "code",
   "execution_count": 16,
   "id": "5bdc0e14-0241-44f7-97f1-745a33312700",
   "metadata": {},
   "outputs": [
    {
     "name": "stderr",
     "output_type": "stream",
     "text": [
      "Found cached dataset tweet_qa (/mnt/d/Data Science MSc/Advanced DA/Week 22/advanced-labs-public/data_cache/tweet_qa/default/1.0.0/7d588f7f477946b10f60c035ca55175737315ac446102b015218af38d2638777)\n"
     ]
    },
    {
     "name": "stdout",
     "output_type": "stream",
     "text": [
      "Validation dataset with 1086 instances loaded\n"
     ]
    }
   ],
   "source": [
    "from sklearn.metrics import f1_score\n",
    "\n",
    "val_dataset = load_dataset(\n",
    "    \"tweet_qa\",\n",
    "    split=\"validation\",\n",
    "    ignore_verifications=True,\n",
    "    cache_dir=cache_dir,\n",
    ")\n",
    "print(f\"Validation dataset with {len(val_dataset)} instances loaded\")"
   ]
  },
  {
   "cell_type": "markdown",
   "id": "1e2f2f2c-8f39-49b0-8391-33773171c5a9",
   "metadata": {},
   "source": [
    "Now we are working with complete dataset using the HuggingFace datasets library. In the next cell, we create a tokenizer to tokenize the examples in the dataset. We need to choose the right tokenizer for the QA model we want to use, so let's decide to use `\"distilbert-base-cased-distilled-squad\"` as our pretrained model. This is based on a smaller version of BERT, called Distilbert, which was fine-tuned on the SQUAD question answering dataset."
   ]
  },
  {
   "cell_type": "code",
   "execution_count": 17,
   "id": "1993c3b2-3454-4cd2-81ed-020342ca3246",
   "metadata": {},
   "outputs": [],
   "source": [
    "from transformers import AutoTokenizer\n",
    "\n",
    "tokenizer = AutoTokenizer.from_pretrained(\"distilbert-base-cased-distilled-squad\") \n",
    "\n",
    "def tokenize_function(dataset):\n",
    "    # Pass two strings to the tokenizer -- it will concatenate them with a [SEP] special token between them. \n",
    "    model_inputs = tokenizer(dataset['Question'], dataset['Tweet'], padding=\"max_length\", max_length=200, truncation='only_second')\n",
    "    return model_inputs"
   ]
  },
  {
   "cell_type": "markdown",
   "id": "73fb870b-1812-413a-be0c-c4868b441fe8",
   "metadata": {},
   "source": [
    "Again, we can use the `map()` method to apply the tokenizer to each example in the dataset. "
   ]
  },
  {
   "cell_type": "code",
   "execution_count": 18,
   "id": "617d4300-3994-44a4-8e14-d1835bfbc2a3",
   "metadata": {},
   "outputs": [
    {
     "name": "stderr",
     "output_type": "stream",
     "text": [
      "Loading cached processed dataset at /mnt/d/Data Science MSc/Advanced DA/Week 22/advanced-labs-public/data_cache/tweet_qa/default/1.0.0/7d588f7f477946b10f60c035ca55175737315ac446102b015218af38d2638777/cache-da98121affcce4b7.arrow\n"
     ]
    }
   ],
   "source": [
    "val_dataset = val_dataset.map(tokenize_function, batched=True) "
   ]
  },
  {
   "cell_type": "markdown",
   "id": "510ccaf0-fc74-405b-b72f-f03328d6622a",
   "metadata": {
    "tags": []
   },
   "source": [
    "The type of QA model we are going to work with is _extractive_, meaning that the model will extract the answer from the 'context' (also known as the 'passage' or 'source document'). It does this by identifying the index of the start and end tokens of the answer span within the context, or returning `(0, 0)` (the index 0 for both the start and end token) if the context does not contain an answer to the given question. \n",
    "\n",
    "As explained in the lectures, BERT forms the basis of the QA model, and maps each token to a contextualised embedding. The QA model then maps each token's contextualised embedding to the probability that the token is the start of the answer span, and to the probability that the token is the end of the answer span. The layers that map the embeddings to the start and end probabilities are known as the 'head' of the model. [The original BERT paper](https://arxiv.org/pdf/1810.04805.pdf) depicts the QA model like this (Devlin et al., 2018):\n",
    "\n",
    "<img src=\"bert_qa.png\" alt=\"BERT QA diagram from the slides in week 10 showing the embedding of each token connected to the start and end output layers\" width=\"400px\"/>\n",
    "\n",
    "We can see a similar structure in most neural network models. Our original text classifier from the first notebook used a fully-connected layer to produce a hidden representation of the whole sentence (rather than using BERT to produce a sequence of embeddings). This hidden representation was then fed to an output layer to produce a probability distribution over class labels (rather than the start and end probabilities):\n",
    "\n",
    "<img src=\"neural_text_classifier_smaller.png\" alt=\"Neural text classifier diagram from the slides in lecture 8.1\" width=\"400px\"/>\n",
    "\n",
    "\n",
    "<!--With transformers, \n",
    "we can do something very similar, by connecting the transfomer's output to a fully-connected layer. However, with BERT, we do not need to pass the embedding of each individual word to the fully-connected layer because there is a special [CLS] token that represents the whole sentence:\n",
    "\n",
    "The code below shows how to access a tensor containing the [CLS] embeddings:-->"
   ]
  },
  {
   "cell_type": "markdown",
   "id": "2dff251c-ccd2-4e0c-ab2b-a1bd1cc38101",
   "metadata": {},
   "source": [
    "Now, we have the dataset in the right format, let's see how to load a pretrained QA model based on a pretrained transformer. The QA model was trained by taking a pretrained BERT model (pretrained on masked language modelling with unlabelled text), adding the QA head, then further training the complete model on a QA dataset. \n",
    "\n",
    "The transformers library provides some useful wrapper classes for loading pretrained models for various NLP tasks, such as QA or text classification. These 'auto' classes are documented here: https://huggingface.co/docs/transformers/model_doc/auto . Let's use an auto class to load the `\"distilbert-base-cased-distilled-squad\"` pretrained QA model (this code will try to reload the model from a cache or download the model from HuggingFace):"
   ]
  },
  {
   "cell_type": "code",
   "execution_count": 19,
   "id": "46229f2c-86f0-4150-9b1d-72b0df714ae3",
   "metadata": {},
   "outputs": [],
   "source": [
    "from transformers import AutoModelForQuestionAnswering\n",
    "\n",
    "model = AutoModelForQuestionAnswering.from_pretrained(\"distilbert-base-cased-distilled-squad\")"
   ]
  },
  {
   "cell_type": "markdown",
   "id": "2e3b470e-d580-492f-807e-466cd2193ab3",
   "metadata": {},
   "source": [
    "As our model was pretrained, we can use it directly on our Tweet_QA dataset (you may see a message to this effect when you run the cell above the first time). \n",
    "\n",
    "So, how do we get a prediction from the model? Let's take a single example from Tweet_QA and obtain the start and end probabilities for all tokens in the 'context':"
   ]
  },
  {
   "cell_type": "code",
   "execution_count": 20,
   "id": "ef26c556-7230-40b3-a06a-0e823556415b",
   "metadata": {},
   "outputs": [],
   "source": [
    "def predict_nn(qa_model, dataset):\n",
    "    \n",
    "    # Switch off dropout\n",
    "    qa_model.eval()\n",
    "\n",
    "    # Pass the required inputs from the dataset to the model    \n",
    "    output = qa_model(attention_mask=torch.tensor(dataset[\"attention_mask\"]), input_ids=torch.tensor(dataset[\"input_ids\"]))\n",
    "        \n",
    "    # the output dictionary contains logits, which are the unnormalised scores for each class for each example:\n",
    "    probs_start = torch.nn.Softmax(dim=1)(output[\"start_logits\"]).detach().numpy()\n",
    "    probs_end = torch.nn.Softmax(dim=1)(output[\"end_logits\"]).detach().numpy()\n",
    "        \n",
    "    return probs_start, probs_end\n",
    "\n",
    "# Run the prediction function to get the results for the first 20 examples:\n",
    "probs_start, probs_end = predict_nn(model, val_dataset[0:20])"
   ]
  },
  {
   "cell_type": "markdown",
   "id": "6ad86be8-d404-43ea-a341-8e46603478f8",
   "metadata": {},
   "source": [
    "Now that we have the probabilities that each token is a start or end token, we combine these probabilities to estimate the probability of each possible answer span. This will allow us to choose the answer span with highest probability. \n",
    "\n",
    "In the next cell is our first attempt, which you will need to improve to get valid answers. This code loops through each possible combination of start and end tokens, obtains the start and end probabilities, and extracts the answer text for the corresponding span.\n",
    "\n",
    "**TO-DO 5a:** Use the start and end probabilities to compute the answer span probability at the place marked inside the predict_answer() function below. **2 marks**"
   ]
  },
  {
   "cell_type": "code",
   "execution_count": 21,
   "id": "660f8ada-810d-4764-b0c2-ac7b291ed9dd",
   "metadata": {},
   "outputs": [
    {
     "name": "stdout",
     "output_type": "stream",
     "text": [
      "CONTEXT = The #endangeredriver would be a sexy bastard in this channel if it had water. Quick turns. Narrow. (I'm losing it) John D. Sutter (@jdsutter) June 21, 2014\n",
      "QUESTION = what hashtag was used?\n",
      "LIST OF POSSIBLE ANSWERS = ['#endangeredriver', '#endangereddriver']\n"
     ]
    }
   ],
   "source": [
    "# our example:\n",
    "example_index = 3\n",
    "\n",
    "example = val_dataset[example_index]\n",
    "print(f'CONTEXT = {example[\"Tweet\"]}')\n",
    "print(f'QUESTION = {example[\"Question\"]}')\n",
    "print(f'LIST OF POSSIBLE ANSWERS = {example[\"Answer\"]}')"
   ]
  },
  {
   "cell_type": "code",
   "execution_count": 22,
   "id": "22088d8f-ac0a-43b5-9f7e-1a71feec8f40",
   "metadata": {},
   "outputs": [
    {
     "name": "stdout",
     "output_type": "stream",
     "text": [
      "Span prob = 1.53287672996521, answer = endangeredriver\n",
      "Span prob = 1.0910239219665527, answer = The # endangeredriver\n",
      "Span prob = 1.0644721984863281, answer = # endangeredriver\n",
      "Span prob = 0.9733114242553711, answer = \n",
      "Span prob = 0.9421271681785583, answer = \n",
      "Span prob = 0.9348013997077942, answer = \n",
      "Span prob = 0.9336816668510437, answer = ##river\n",
      "Span prob = 0.9328382611274719, answer = \n",
      "Span prob = 0.9279173016548157, answer = \n",
      "Span prob = 0.9275789856910706, answer = \n",
      "Span prob = 0.9272849559783936, answer = \n",
      "Span prob = 0.927193820476532, answer = \n",
      "Span prob = 0.9270961880683899, answer = \n",
      "Span prob = 0.9269319772720337, answer = \n",
      "Span prob = 0.92681485414505, answer = \n",
      "Span prob = 0.926754355430603, answer = \n",
      "Span prob = 0.9267515540122986, answer = \n",
      "Span prob = 0.9266906976699829, answer = \n",
      "Span prob = 0.926660418510437, answer = \n",
      "Span prob = 0.9266597032546997, answer = \n"
     ]
    }
   ],
   "source": [
    "def predict_answer(probs_start, probs_end, input_ids, tokenizer):\n",
    "    \n",
    "    input_length = len(input_ids)  # length of the input sequence, in the form \"[CLS] question [SEP] context\"\n",
    "\n",
    "    SEP_SPECIAL_TOKEN = 102  # the input id for the sep special token the separates the question from the context. The context starts after this token. \n",
    "    PAD_SPECIAL_TOKEN = 0  # the input id for padding tokens added to the end of the context\n",
    "    \n",
    "    span_probabilities = []  # save the probabilities here\n",
    "    spans = []  # save the possible answer spans here\n",
    "    \n",
    "    for start_idx in range(0, input_length):\n",
    "        for end_idx in range(0, input_length):\n",
    "            \n",
    "            start_prob = probs_start[start_idx]\n",
    "            end_prob = probs_end[end_idx]\n",
    "            \n",
    "            ### WRITE YOUR ANSWER HERE\n",
    "            pad_prob = probs_start[PAD_SPECIAL_TOKEN] + probs_end[PAD_SPECIAL_TOKEN]\n",
    "            span_prob = start_prob + end_prob - pad_prob\n",
    "\n",
    "            span_probabilities.append(span_prob)            \n",
    "            ###\n",
    "            \n",
    "            span = tokenizer.decode(input_ids[start_idx:end_idx+1])\n",
    "            spans.append(span)\n",
    "\n",
    "    # sort the spans according to probability:\n",
    "    sorted_span_index = np.argsort(span_probabilities)\n",
    "    \n",
    "    # print the top 20 answers:\n",
    "    for i in range(20):\n",
    "        print(f'Span prob = {span_probabilities[sorted_span_index[-i-1]]}, answer = {spans[sorted_span_index[-i-1]]}')\n",
    "            \n",
    "predict_answer(probs_start[example_index], probs_end[example_index], example['input_ids'], tokenizer)"
   ]
  },
  {
   "attachments": {},
   "cell_type": "markdown",
   "id": "00db2d3b-9896-45dd-9c12-118e957bdb76",
   "metadata": {},
   "source": [
    "Are all of the top 20 valid and unique answers? If not, what do you think is going wrong? \n",
    "\n",
    "**TO-DO 5b:** Use the cell below to define a new and improved version of `predict_answer()` that only includes valid answers. Summarise in a couple of sentences what kind of invalid answers your code removes. **4 marks**\n",
    "\n",
    "WRITE YOUR ANSWER HERE:\n",
    "\n",
    "<span style=\"color:yellow\">\n",
    "My code removes the empty answers. Although it predicts answers which are long sentences along with the hashtag.\n",
    "</span>\n"
   ]
  },
  {
   "cell_type": "code",
   "execution_count": 23,
   "id": "aae6c6d1-e3a4-4d3c-ba54-6e9e9b3d58bf",
   "metadata": {},
   "outputs": [
    {
     "name": "stdout",
     "output_type": "stream",
     "text": [
      "Span prob = 1.53287672996521, answer = endangeredriver\n"
     ]
    }
   ],
   "source": [
    "### WRITE YOUR OWN CODE HERE\n",
    "def predict_answer(probs_start, probs_end, input_ids, tokenizer):\n",
    "    \n",
    "    input_length = len(input_ids)  # length of the input sequence, in the form \"[CLS] question [SEP] context\"\n",
    "\n",
    "    SEP_SPECIAL_TOKEN = 102  # the input id for the sep special token the separates the question from the context. The context starts after this token. \n",
    "    PAD_SPECIAL_TOKEN = 0  # the input id for padding tokens added to the end of the context\n",
    "    \n",
    "    span_probabilities = []  # save the probabilities here\n",
    "    spans = []  # save the possible answer spans here\n",
    "    \n",
    "    for start_idx in range(0, input_length):\n",
    "        for end_idx in range(0, input_length):\n",
    "            \n",
    "            start_prob = probs_start[start_idx]\n",
    "            end_prob = probs_end[end_idx]\n",
    "            \n",
    "            ### WRITE YOUR ANSWER HERE\n",
    "            # if start_idx > end_idx or input_ids[start_idx] != SEP_SPECIAL_TOKEN or input_ids[end_idx] != SEP_SPECIAL_TOKEN:\n",
    "            #     span_probabilities.append(0)    \n",
    "            # elif input_ids[start_idx] == SEP_SPECIAL_TOKEN and input_ids[end_idx] == SEP_SPECIAL_TOKEN:\n",
    "            #     span_prob = start_prob + end_prob\n",
    "            #     span_probabilities.append(span_prob)      \n",
    "            # if end_idx < start_idx:\n",
    "            #     continue\n",
    "            # if input_ids[start_idx] == SEP_SPECIAL_TOKEN:\n",
    "            #     continue\n",
    "            # if input_ids[start_idx] == PAD_SPECIAL_TOKEN:\n",
    "            #     continue\n",
    "            # if input_ids[end_idx] == SEP_SPECIAL_TOKEN:\n",
    "            #     continue\n",
    "            # if input_ids[end_idx] == PAD_SPECIAL_TOKEN:\n",
    "            #     continue\n",
    "            # if end_idx - start_idx > 20:\n",
    "            #     continue\n",
    "\n",
    "            if start_prob + end_prob > 1.5:  # if the sum of the probabilities is greater than 1.5, then include the answer\n",
    "                ### WRITE YOUR ANSWER HERE\n",
    "                pad_prob = probs_start[PAD_SPECIAL_TOKEN] + probs_end[PAD_SPECIAL_TOKEN]\n",
    "                span_prob = start_prob + end_prob - pad_prob\n",
    "\n",
    "                span_probabilities.append(span_prob)            \n",
    "                ###\n",
    "                span = tokenizer.decode(input_ids[start_idx:end_idx+1])\n",
    "                spans.append(span)\n",
    "\n",
    "            # span_prob = start_prob + end_prob\n",
    "            # span_probabilities.append(span_prob)\n",
    "            ###\n",
    "            \n",
    "            # span = tokenizer.decode(input_ids[start_idx:end_idx+1])\n",
    "            # spans.append(span)\n",
    "\n",
    "    # sort the spans according to probability:\n",
    "    sorted_span_index = np.argsort(span_probabilities)\n",
    "\n",
    "    # valid_spans = []\n",
    "    # for idx in sorted_span_index[::-1]:\n",
    "    #     if span_probabilities[idx] > 0:\n",
    "    #         if spans[idx][0] == \" \":\n",
    "    #             valid_spans.append(spans[idx][1:])\n",
    "    #         else:\n",
    "    #             valid_spans.append(spans[idx])\n",
    "    #     else:\n",
    "    #         break\n",
    "    # return valid_spans\n",
    "    \n",
    "    # print the top 20 answers:\n",
    "    try:\n",
    "        for i in range(20):\n",
    "            print(f'Span prob = {span_probabilities[sorted_span_index[-i-1]]}, answer = {spans[sorted_span_index[-i-1]]}')\n",
    "    except IndexError:\n",
    "        pass\n",
    "    \n",
    "            \n",
    "predict_answer(probs_start[example_index], probs_end[example_index], example['input_ids'], tokenizer)"
   ]
  },
  {
   "attachments": {},
   "cell_type": "markdown",
   "id": "135ed4ee-3134-4f52-9c38-271830e0b1a3",
   "metadata": {},
   "source": [
    "You can try out the pretrained QA model on a few examples and try to identify its common mistakes.\n",
    "\n",
    "**TO-DO 5c:** State one way that we could improve the performance of our extractive QA model on the Tweet QA dataset.  **2 marks**\n",
    "\n",
    "WRITE YOUR ANSWER HERE\n",
    "<br>\n",
    "<span style=\"color:yellow\">**1. Fine tune the model om a tweet-specific dataset:** Currently we are using the distilbert-base-cased-distilled-squad model which was pre-trained on a large corpus of text, and it is not specifically trained on tweets. If we fine-tune the model on a tweet specific dataset, we can further improve the performance of our model.\n",
    "<br><br>\n",
    "**2. Using different model architechtures:** We have only considered distilbert-base-cased-distilled-squad model which is one of many pre-trained models available for NLP tasks. Experimentation could be done using different architechtures as well.\n",
    "<br><br>\n",
    "**3. Using data augmentation techniques:** The Tweet QA dataset is relatively small, due to which it becomes difficult for the model to learn generalizable patterns. So, data augmentation techniques like adding noise to the input or generating synthetic data, may help the model to learn more robust features.</span>\n",
    "\n",
    "--- \n",
    "\n",
    "As well as answering ad-hoc queries, question answering models can help us to extract structured information about entities of interest from a large set of documents. Suppose that we want to automatically collect information on tech companies, such as Apple and Open AI. We want to extract information about each company's activities from social media, including the names and release dates of new products and services, the company's earnings in a specific year, and who its CEO is.  \n",
    "\n",
    "**TO-DO 5d:** Given a list of tech company names, how could we use question answering to extract the required information for each company from a set of tweets?  **(3 marks)** \n",
    "WRITE YOUR ANSWER HERE\n",
    "<br>\n",
    "_We could use the following set of steps to extract the required information using question answering as follows_\n",
    "<br><br>\n",
    "<span style=\"color:red\">\n",
    "_1. First, we will collect a set of tweets that mention the tech companies of interst; in our case Apple and OpenAI. We could do this easily by searching of tweets that incude the secific keywords._\n",
    "<br><br>\n",
    "_2. We can pre-process the tweets to clean them and remove reweets._ <br><br>\n",
    "_3. Use a pre-trained question answering model to answer specific questions about the companies. Here we could ask the potential questions like 'Who's the CEO of the company?' or 'What new products Apple has launched this year?'_<br><br>\n",
    "_4. To extract structured information about each company, we could ask a set of standard questions for each company such as:_<br>\n",
    "i. _Which products are launched and when they are launched?_<br>\n",
    "ii. _What is company's earnings in a financial year?_<br>\n",
    "iii. _Who is company's current CEO?_<br><br>\n",
    "_5. After running the question answering model on the set of tweets for each company and extracting the relevant information, we could organize the information into a structured format, such as a table or spreadsheet, for further analysis and visualization._"
   ]
  },
  {
   "cell_type": "markdown",
   "id": "0635306b-51de-4e9d-8608-8bd7473b294a",
   "metadata": {
    "tags": []
   },
   "source": [
    "# 6. Transformer-based Text Classifiers (max. 24 marks)\n",
    "\n",
    "The previous section showed us how to use a pretrained QA model based on a pretrained transformer. In this section, you will learn how to construct and train a text classifier on top of a pretrained transformer. \n",
    "\n",
    "We will use the [Poem Sentiment](https://huggingface.co/datasets/poem_sentiment) dataset to train and test a classifier. The task is to classify lines from poems into one of  0: negative, 1: positive, 2: no impact, or 3: mixed sentiment. For more information, see [Sheng and Uthus, 2020](https://arxiv.org/pdf/2011.02686.pdf). \n",
    "\n",
    "To begin you will need to instantiate a suitable model."
   ]
  },
  {
   "cell_type": "markdown",
   "id": "b1339d48-6225-48cd-b82c-306a89ad3342",
   "metadata": {},
   "source": [
    "**TO-DO 6a:** Find an AutoModel class that constructs a text classifier from the pretrained TinyBERT model, \"huawei-noah/TinyBERT_General_4L_312D\". Create the `model` object in the cell below using this class. Refer to the [Hugging Face documentation for auto models](https://huggingface.co/transformers/v3.0.2/model_doc/auto.html) as needed. **(2 marks)**"
   ]
  },
  {
   "cell_type": "code",
   "execution_count": 24,
   "id": "99068090-6a2d-47f0-9d22-b78a6705cd3a",
   "metadata": {},
   "outputs": [
    {
     "name": "stderr",
     "output_type": "stream",
     "text": [
      "Some weights of the model checkpoint at huawei-noah/TinyBERT_General_4L_312D were not used when initializing BertForSequenceClassification: ['fit_denses.2.weight', 'fit_denses.4.bias', 'fit_denses.0.weight', 'fit_denses.0.bias', 'cls.seq_relationship.weight', 'fit_denses.1.bias', 'fit_denses.2.bias', 'cls.predictions.transform.LayerNorm.bias', 'fit_denses.3.bias', 'cls.predictions.decoder.weight', 'cls.predictions.transform.dense.bias', 'fit_denses.3.weight', 'cls.predictions.bias', 'cls.predictions.transform.LayerNorm.weight', 'cls.predictions.transform.dense.weight', 'fit_denses.1.weight', 'fit_denses.4.weight', 'cls.seq_relationship.bias']\n",
      "- This IS expected if you are initializing BertForSequenceClassification from the checkpoint of a model trained on another task or with another architecture (e.g. initializing a BertForSequenceClassification model from a BertForPreTraining model).\n",
      "- This IS NOT expected if you are initializing BertForSequenceClassification from the checkpoint of a model that you expect to be exactly identical (initializing a BertForSequenceClassification model from a BertForSequenceClassification model).\n",
      "Some weights of BertForSequenceClassification were not initialized from the model checkpoint at huawei-noah/TinyBERT_General_4L_312D and are newly initialized: ['classifier.weight', 'classifier.bias']\n",
      "You should probably TRAIN this model on a down-stream task to be able to use it for predictions and inference.\n"
     ]
    }
   ],
   "source": [
    "### WRITE YOUR ANSWER TO 6a HERE ###\n",
    "from transformers import AutoTokenizer, AutoModelForSequenceClassification\n",
    "\n",
    "tokenizer = AutoTokenizer.from_pretrained(\"huawei-noah/TinyBERT_General_4L_312D\")\n",
    "model = AutoModelForSequenceClassification.from_pretrained(\"huawei-noah/TinyBERT_General_4L_312D\", num_labels=4)"
   ]
  },
  {
   "attachments": {},
   "cell_type": "markdown",
   "id": "50a38d4e-27a1-4c0c-b3fa-e8dc3bdf61b5",
   "metadata": {},
   "source": [
    "**TO-DO 6b:** Provide a link to the documentation for your chosen auto model for text classification. Briefly describe how the text classifier `model` it creates differs from the QA model created by `AutoModelForQuestionAnswering`. Note: A useful reference may be the original BERT paper (https://arxiv.org/pdf/1810.04805.pdf), which includes diagrams (Figure 4) showing how BERT can be adapted to different tasks. **(2 marks)** \n",
    "\n",
    "WRITE YOUR ANSWER TO 6b HERE:\n",
    "\n",
    "\n",
    "_The auto model I chose is `AutoModelForSequenceClassification`. The documentation could be found [here](https://huggingface.co/docs/transformers/model_doc/auto#automodelforsequenceclassification)._\n",
    "\n",
    "_The `AutoModelForSequenceClassification` is different from the `AutoModelForQuestionAnswering` in saveral ways. Firstly, `AutoModelForSequenceClassification` is specially designed for sequence classification tasks, whereas `AutoModelForQuestionAnswering` is designed for question answering tasks._\n",
    "\n",
    "_Additionally, `AutoModelForSequenceClassification` has a final classification layer added on a top of the transformer's output. This layer maps the last hidden state of the transofrmer to the number of classes in the classification task._\n",
    "\n",
    "\n",
    "---\n",
    "\n",
    "For the QA task, the complete model was pretrained and we could apply it to a dataset without further training. However, for our poem sentiment classification task,\n",
    "we will need to train our model before we can use it (you may see a message in the output of the last cell telling you this). \n",
    "\n",
    "**TO-DO 6c:** The emotion classifier is built on top of a pretrained TinyBERT model, so why do we need to train it before we can use it? **(2 marks)**\n",
    "\n",
    "WRITE YOUR ANSWER TO 6C HERE:\n",
    "\n",
    "_While the TinyBERT model has been pretrained ona large corpus of text data, the specific task of poem sentiment classification requires the model to learn how to classifiy lines from poems into one of the four categories, namely negative, positive, no impact, or mixed sentiment._\n",
    "\n",
    "_During the training process, the weights of the model are updated based on the errors made during classification. These updated weights enable the model to improve its performance on the task. Therefore, we need to fine-tune the pretrained model on the specific task of poem sentiment classification to achieve the best performance._\n",
    "\n",
    "\n",
    "\n",
    "---\n",
    "\n",
    "Next, let's learn how to train our model. For some tasks it is not necessary to update the weights in the BERT model itself, so we can freeze them to save a lot of computation time. We can do this as follows. Since our pretrained model is based on BERT, we can access the weights inside BERT through the variable `model.bert`."
   ]
  },
  {
   "cell_type": "code",
   "execution_count": 25,
   "id": "f8ad56b1-d6e7-4048-9cc0-71849a003363",
   "metadata": {},
   "outputs": [],
   "source": [
    "for param in model.bert.parameters():\n",
    "    param.requires_grad = False"
   ]
  },
  {
   "cell_type": "markdown",
   "id": "a0e0c065-fb40-4e24-b4e4-ffe9ed473ba9",
   "metadata": {},
   "source": [
    "To train our model, we can make use of the Trainer class, which encapsulates a lot of the complex training steps and avoids the need to define our own training function, as we did in the previous notebook (we don't need to write our own `train_nn`).\n",
    "\n",
    "First, define some settings for the training process. This is where we can set training hyperparameters:"
   ]
  },
  {
   "cell_type": "code",
   "execution_count": 26,
   "id": "62af0a20-79a5-49ca-882a-638a68b288f7",
   "metadata": {},
   "outputs": [],
   "source": [
    "from transformers import TrainingArguments\n",
    "\n",
    "training_args = TrainingArguments(\n",
    "    output_dir=\"transformer_checkpoints\",  # specify the directory where models weights will be saved a certain points during training (checkpoints)\n",
    "    num_train_epochs=10, # A sensible and sufficient number to use for the to-dos below\n",
    "    per_device_train_batch_size=8,  # you can decrease this if memory usage is too high while training\n",
    "    logging_steps=50,  # how often to print progress during training\n",
    ")"
   ]
  },
  {
   "cell_type": "markdown",
   "id": "dc2b86a0-df7f-4978-a0ff-43d1b68975c5",
   "metadata": {},
   "source": [
    "Next, create a trainer object. Note that the next cell will currently fail with an error, because the variables `poem_train_dataset` and `poem_val_dataset` do not exist yet! Don't worry, we'll fix this later. "
   ]
  },
  {
   "cell_type": "code",
   "execution_count": 27,
   "id": "9e5ba93c-f8c4-4542-a316-6aac4a32362d",
   "metadata": {},
   "outputs": [
    {
     "ename": "NameError",
     "evalue": "name 'poem_train_dataset' is not defined",
     "output_type": "error",
     "traceback": [
      "\u001b[0;31m---------------------------------------------------------------------------\u001b[0m",
      "\u001b[0;31mNameError\u001b[0m                                 Traceback (most recent call last)",
      "Cell \u001b[0;32mIn[27], line 7\u001b[0m\n\u001b[1;32m      1\u001b[0m \u001b[39mfrom\u001b[39;00m \u001b[39mtransformers\u001b[39;00m \u001b[39mimport\u001b[39;00m Trainer\n\u001b[1;32m      2\u001b[0m \u001b[39mfrom\u001b[39;00m \u001b[39mtorch\u001b[39;00m \u001b[39mimport\u001b[39;00m nn\n\u001b[1;32m      4\u001b[0m trainer \u001b[39m=\u001b[39m Trainer(\n\u001b[1;32m      5\u001b[0m     model\u001b[39m=\u001b[39mmodel,\n\u001b[1;32m      6\u001b[0m     args\u001b[39m=\u001b[39mtraining_args,\n\u001b[0;32m----> 7\u001b[0m     train_dataset\u001b[39m=\u001b[39mpoem_train_dataset,\n\u001b[1;32m      8\u001b[0m     eval_dataset\u001b[39m=\u001b[39mpoem_val_dataset,\n\u001b[1;32m      9\u001b[0m )\n",
      "\u001b[0;31mNameError\u001b[0m: name 'poem_train_dataset' is not defined"
     ]
    }
   ],
   "source": [
    "from transformers import Trainer\n",
    "from torch import nn\n",
    "\n",
    "trainer = Trainer(\n",
    "    model=model,\n",
    "    args=training_args,\n",
    "    train_dataset=poem_train_dataset,\n",
    "    eval_dataset=poem_val_dataset,\n",
    ")"
   ]
  },
  {
   "cell_type": "markdown",
   "id": "3c33b30b-2c23-45e5-b2a1-757f1bf93ab7",
   "metadata": {},
   "source": [
    "To train the model, you will need to call `trainer.train()`.\n",
    "\n",
    "Once the model is trained, we can obtain predictions using the function below. Notice that it is simpler than obtaining the spans for QA -- we simply get the logits for each tweet in the test set, then apply argmax over the classes to find the most probable class for each tweet:"
   ]
  },
  {
   "cell_type": "code",
   "execution_count": 28,
   "id": "ad4e689d-ebec-44c4-b81d-649079e4a4a6",
   "metadata": {
    "tags": []
   },
   "outputs": [],
   "source": [
    "def predict_nn(trained_model, test_dataset):\n",
    "\n",
    "    # Switch off dropout\n",
    "    trained_model.eval()\n",
    "    \n",
    "    # Pass the required items from the dataset to the model    \n",
    "    output = trained_model(attention_mask=torch.tensor(test_dataset[\"attention_mask\"]), input_ids=torch.tensor(test_dataset[\"input_ids\"]))\n",
    "                        \n",
    "    # the output dictionary contains logits, which are the unnormalised scores for each class for each example:\n",
    "    pred_labs = np.argmax(output[\"logits\"].detach().numpy(), axis=1)\n",
    "\n",
    "    return pred_labs"
   ]
  },
  {
   "cell_type": "markdown",
   "id": "8ddf8564-4f98-4e3f-b1f7-b59725a0605c",
   "metadata": {},
   "source": [
    "You should now have all the bits and pieces needed to build and train a text classifier. Let's put them all together...\n",
    "\n",
    "**TO-DO 6d:** Implement and test a classifier for the [Poem Sentiment](https://huggingface.co/datasets/poem_sentiment) dataset using a pretrained transformer. Evaluate the classifier with both frozen and unfrozen (i.e., fine-tuned) parameters in the pretrained transformer. Choose a suitable evaluation metric and provide a comparison of the results below, including a brief explanation  (1-2 sentences) for any differences you observe between the frozen and unfrozen variants. Make sure to comment your code.  **(10 marks)**\n",
    "\n",
    "Notes: \n",
    " * Strong classifier performance is not required to achive good marks -- rather, we award marks for implementing and testing a transformer-based classifier correctly.\n",
    " * You may implement any suitable kind of classifier you like, as long as you are using a pretrained transformer model.\n",
    " * 'tiny' BERT variants such as TinyBERT and roberta-tiny are recommended because they are small enough to fine-tune with a typical laptop CPU. We recommend sticking with these smaller pretrained models unless you have access to a GPU, e.g., via Google Colab. \n",
    "\n",
    "WRITE YOUR ANSWER HERE (DESCRIPTION OF RESULTS FOR 6d):\n"
   ]
  },
  {
   "cell_type": "code",
   "execution_count": 29,
   "id": "5fcd5efd",
   "metadata": {},
   "outputs": [
    {
     "name": "stderr",
     "output_type": "stream",
     "text": [
      "Found cached dataset poem_sentiment (/home/vishal/.cache/huggingface/datasets/poem_sentiment/default/1.0.0/4e44428256d42cdde0be6b3db1baa587195e91847adabf976e4f9454f6a82099)\n"
     ]
    },
    {
     "data": {
      "application/vnd.jupyter.widget-view+json": {
       "model_id": "34ffdda4e1dd4a648e223ce2781e3a0b",
       "version_major": 2,
       "version_minor": 0
      },
      "text/plain": [
       "  0%|          | 0/3 [00:00<?, ?it/s]"
      ]
     },
     "metadata": {},
     "output_type": "display_data"
    }
   ],
   "source": [
    "### WRITE YOUR ANSWER HERE (Code for 6d; feel free to use multiple cells and copy code from above) ###\n",
    "# Train the classifier with frozen parameters\n",
    "from sklearn.metrics import accuracy_score\n",
    "\n",
    "dataset = load_dataset(\"poem_sentiment\")\n",
    "\n",
    "poem_train_dataset = dataset[\"train\"]\n",
    "poem_val_dataset = dataset[\"validation\"]\n",
    "poem_test_dataset = dataset[\"test\"]\n",
    "poem_train_labels = poem_train_dataset[\"label\"]\n",
    "poem_val_labels = poem_val_dataset[\"label\"]\n",
    "poem_test_labels = poem_test_dataset[\"label\"]\n"
   ]
  },
  {
   "cell_type": "code",
   "execution_count": 32,
   "id": "72271f9c",
   "metadata": {},
   "outputs": [
    {
     "name": "stderr",
     "output_type": "stream",
     "text": [
      "Found cached dataset poem_sentiment (/home/vishal/.cache/huggingface/datasets/poem_sentiment/default/1.0.0/4e44428256d42cdde0be6b3db1baa587195e91847adabf976e4f9454f6a82099)\n"
     ]
    },
    {
     "data": {
      "application/vnd.jupyter.widget-view+json": {
       "model_id": "962c93b3a8794d8bb57ddac21140c367",
       "version_major": 2,
       "version_minor": 0
      },
      "text/plain": [
       "  0%|          | 0/3 [00:00<?, ?it/s]"
      ]
     },
     "metadata": {},
     "output_type": "display_data"
    },
    {
     "name": "stderr",
     "output_type": "stream",
     "text": [
      "Asking to truncate to max_length but no maximum length is provided and the model has no predefined maximum length. Default to no truncation.\n",
      "Some weights of the model checkpoint at bert-base-uncased were not used when initializing BertForSequenceClassification: ['cls.seq_relationship.weight', 'cls.predictions.transform.LayerNorm.bias', 'cls.predictions.transform.dense.bias', 'cls.predictions.bias', 'cls.predictions.transform.LayerNorm.weight', 'cls.predictions.transform.dense.weight', 'cls.predictions.decoder.weight', 'cls.seq_relationship.bias']\n",
      "- This IS expected if you are initializing BertForSequenceClassification from the checkpoint of a model trained on another task or with another architecture (e.g. initializing a BertForSequenceClassification model from a BertForPreTraining model).\n",
      "- This IS NOT expected if you are initializing BertForSequenceClassification from the checkpoint of a model that you expect to be exactly identical (initializing a BertForSequenceClassification model from a BertForSequenceClassification model).\n",
      "Some weights of BertForSequenceClassification were not initialized from the model checkpoint at bert-base-uncased and are newly initialized: ['classifier.weight', 'classifier.bias']\n",
      "You should probably TRAIN this model on a down-stream task to be able to use it for predictions and inference.\n",
      "/home/vishal/.local/lib/python3.10/site-packages/transformers/optimization.py:391: FutureWarning: This implementation of AdamW is deprecated and will be removed in a future version. Use the PyTorch implementation torch.optim.AdamW instead, or set `no_deprecation_warning=True` to disable this warning\n",
      "  warnings.warn(\n"
     ]
    },
    {
     "data": {
      "text/html": [
       "\n",
       "    <div>\n",
       "      \n",
       "      <progress value='1120' max='1120' style='width:300px; height:20px; vertical-align: middle;'></progress>\n",
       "      [1120/1120 00:39, Epoch 10/10]\n",
       "    </div>\n",
       "    <table border=\"1\" class=\"dataframe\">\n",
       "  <thead>\n",
       " <tr style=\"text-align: left;\">\n",
       "      <th>Step</th>\n",
       "      <th>Training Loss</th>\n",
       "    </tr>\n",
       "  </thead>\n",
       "  <tbody>\n",
       "    <tr>\n",
       "      <td>50</td>\n",
       "      <td>1.259700</td>\n",
       "    </tr>\n",
       "    <tr>\n",
       "      <td>100</td>\n",
       "      <td>1.059100</td>\n",
       "    </tr>\n",
       "    <tr>\n",
       "      <td>150</td>\n",
       "      <td>1.028300</td>\n",
       "    </tr>\n",
       "    <tr>\n",
       "      <td>200</td>\n",
       "      <td>1.059800</td>\n",
       "    </tr>\n",
       "    <tr>\n",
       "      <td>250</td>\n",
       "      <td>1.073300</td>\n",
       "    </tr>\n",
       "    <tr>\n",
       "      <td>300</td>\n",
       "      <td>1.091200</td>\n",
       "    </tr>\n",
       "    <tr>\n",
       "      <td>350</td>\n",
       "      <td>1.025200</td>\n",
       "    </tr>\n",
       "    <tr>\n",
       "      <td>400</td>\n",
       "      <td>1.060200</td>\n",
       "    </tr>\n",
       "    <tr>\n",
       "      <td>450</td>\n",
       "      <td>1.030900</td>\n",
       "    </tr>\n",
       "    <tr>\n",
       "      <td>500</td>\n",
       "      <td>1.074300</td>\n",
       "    </tr>\n",
       "    <tr>\n",
       "      <td>550</td>\n",
       "      <td>1.037500</td>\n",
       "    </tr>\n",
       "    <tr>\n",
       "      <td>600</td>\n",
       "      <td>1.051600</td>\n",
       "    </tr>\n",
       "    <tr>\n",
       "      <td>650</td>\n",
       "      <td>0.995300</td>\n",
       "    </tr>\n",
       "    <tr>\n",
       "      <td>700</td>\n",
       "      <td>1.023800</td>\n",
       "    </tr>\n",
       "    <tr>\n",
       "      <td>750</td>\n",
       "      <td>1.054200</td>\n",
       "    </tr>\n",
       "    <tr>\n",
       "      <td>800</td>\n",
       "      <td>1.079000</td>\n",
       "    </tr>\n",
       "    <tr>\n",
       "      <td>850</td>\n",
       "      <td>1.003900</td>\n",
       "    </tr>\n",
       "    <tr>\n",
       "      <td>900</td>\n",
       "      <td>1.058200</td>\n",
       "    </tr>\n",
       "    <tr>\n",
       "      <td>950</td>\n",
       "      <td>1.054700</td>\n",
       "    </tr>\n",
       "    <tr>\n",
       "      <td>1000</td>\n",
       "      <td>1.029700</td>\n",
       "    </tr>\n",
       "    <tr>\n",
       "      <td>1050</td>\n",
       "      <td>1.105400</td>\n",
       "    </tr>\n",
       "    <tr>\n",
       "      <td>1100</td>\n",
       "      <td>1.027900</td>\n",
       "    </tr>\n",
       "  </tbody>\n",
       "</table><p>"
      ],
      "text/plain": [
       "<IPython.core.display.HTML object>"
      ]
     },
     "metadata": {},
     "output_type": "display_data"
    },
    {
     "data": {
      "text/html": [
       "\n",
       "    <div>\n",
       "      \n",
       "      <progress value='11' max='14' style='width:300px; height:20px; vertical-align: middle;'></progress>\n",
       "      [11/14 00:00 < 00:00, 26.33 it/s]\n",
       "    </div>\n",
       "    "
      ],
      "text/plain": [
       "<IPython.core.display.HTML object>"
      ]
     },
     "metadata": {},
     "output_type": "display_data"
    },
    {
     "name": "stdout",
     "output_type": "stream",
     "text": [
      "Accuracy on validation set (frozen parameters): 0.6571428571428571\n"
     ]
    },
    {
     "name": "stderr",
     "output_type": "stream",
     "text": [
      "/home/vishal/.local/lib/python3.10/site-packages/transformers/optimization.py:391: FutureWarning: This implementation of AdamW is deprecated and will be removed in a future version. Use the PyTorch implementation torch.optim.AdamW instead, or set `no_deprecation_warning=True` to disable this warning\n",
      "  warnings.warn(\n"
     ]
    },
    {
     "data": {
      "text/html": [
       "\n",
       "    <div>\n",
       "      \n",
       "      <progress value='445' max='1120' style='width:300px; height:20px; vertical-align: middle;'></progress>\n",
       "      [ 445/1120 01:23 < 02:07, 5.29 it/s, Epoch 3.96/10]\n",
       "    </div>\n",
       "    <table border=\"1\" class=\"dataframe\">\n",
       "  <thead>\n",
       " <tr style=\"text-align: left;\">\n",
       "      <th>Step</th>\n",
       "      <th>Training Loss</th>\n",
       "    </tr>\n",
       "  </thead>\n",
       "  <tbody>\n",
       "    <tr>\n",
       "      <td>50</td>\n",
       "      <td>0.941800</td>\n",
       "    </tr>\n",
       "    <tr>\n",
       "      <td>100</td>\n",
       "      <td>0.798400</td>\n",
       "    </tr>\n",
       "    <tr>\n",
       "      <td>150</td>\n",
       "      <td>0.455700</td>\n",
       "    </tr>\n",
       "    <tr>\n",
       "      <td>200</td>\n",
       "      <td>0.365800</td>\n",
       "    </tr>\n",
       "    <tr>\n",
       "      <td>250</td>\n",
       "      <td>0.338200</td>\n",
       "    </tr>\n",
       "    <tr>\n",
       "      <td>300</td>\n",
       "      <td>0.211200</td>\n",
       "    </tr>\n",
       "    <tr>\n",
       "      <td>350</td>\n",
       "      <td>0.210200</td>\n",
       "    </tr>\n",
       "    <tr>\n",
       "      <td>400</td>\n",
       "      <td>0.119500</td>\n",
       "    </tr>\n",
       "  </tbody>\n",
       "</table><p>"
      ],
      "text/plain": [
       "<IPython.core.display.HTML object>"
      ]
     },
     "metadata": {},
     "output_type": "display_data"
    },
    {
     "data": {
      "text/html": [
       "\n",
       "    <div>\n",
       "      \n",
       "      <progress value='10' max='14' style='width:300px; height:20px; vertical-align: middle;'></progress>\n",
       "      [10/14 00:00 < 00:00, 23.90 it/s]\n",
       "    </div>\n",
       "    "
      ],
      "text/plain": [
       "<IPython.core.display.HTML object>"
      ]
     },
     "metadata": {},
     "output_type": "display_data"
    },
    {
     "data": {
      "text/html": [
       "\n",
       "    <div>\n",
       "      \n",
       "      <progress value='10' max='14' style='width:300px; height:20px; vertical-align: middle;'></progress>\n",
       "      [10/14 00:00 < 00:00, 23.90 it/s]\n",
       "    </div>\n",
       "    "
      ],
      "text/plain": [
       "<IPython.core.display.HTML object>"
      ]
     },
     "metadata": {},
     "output_type": "display_data"
    },
    {
     "name": "stdout",
     "output_type": "stream",
     "text": [
      "Accuracy on test set (unfrozen parameters): 0.8666666666666667\n"
     ]
    }
   ],
   "source": [
    "import numpy as np\n",
    "import torch\n",
    "from transformers import AutoTokenizer, AutoModelForSequenceClassification, Trainer, TrainingArguments\n",
    "from datasets import load_dataset\n",
    "from torch.optim import AdamW\n",
    "\n",
    "# load dataset\n",
    "dataset = load_dataset(\"poem_sentiment\")\n",
    "train_dataset = dataset[\"train\"]\n",
    "val_dataset = dataset[\"validation\"]\n",
    "test_dataset = dataset[\"test\"]\n",
    "\n",
    "# load tokenizer and encode dataset\n",
    "tokenizer = AutoTokenizer.from_pretrained(\"huawei-noah/TinyBERT_General_4L_312D\")\n",
    "train_encodings = tokenizer(train_dataset[\"verse_text\"], truncation=True, padding=True)\n",
    "val_encodings = tokenizer(val_dataset[\"verse_text\"], truncation=True, padding=True)\n",
    "test_encodings = tokenizer(test_dataset[\"verse_text\"], truncation=True, padding=True)\n",
    "\n",
    "# create PyTorch dataset\n",
    "class PoemSentimentDataset(torch.utils.data.Dataset):\n",
    "    def __init__(self, encodings, labels):\n",
    "        self.encodings = encodings\n",
    "        self.labels = labels\n",
    "\n",
    "    def __getitem__(self, idx):\n",
    "        item = {key: torch.tensor(val[idx]) for key, val in self.encodings.items()}\n",
    "        item[\"labels\"] = torch.tensor(self.labels[idx])\n",
    "        return item\n",
    "\n",
    "    def __len__(self):\n",
    "        return len(self.labels)\n",
    "    \n",
    "# evaluate model on validation set\n",
    "def compute_metrics(pred):\n",
    "    labels = pred.label_ids\n",
    "    preds = pred.predictions.argmax(-1)\n",
    "    acc = (preds == labels).mean()\n",
    "    return {\"accuracy\": acc}\n",
    "\n",
    "train_dataset = PoemSentimentDataset(train_encodings, train_dataset[\"label\"])\n",
    "val_dataset = PoemSentimentDataset(val_encodings, val_dataset[\"label\"])\n",
    "test_dataset = PoemSentimentDataset(test_encodings, test_dataset[\"label\"])\n",
    "\n",
    "# load pre-trained model and freeze parameters\n",
    "model = AutoModelForSequenceClassification.from_pretrained(\"bert-base-uncased\", num_labels=4)\n",
    "for param in model.bert.parameters():\n",
    "    param.requires_grad = False\n",
    "\n",
    "# set up training arguments\n",
    "training_args = TrainingArguments(\n",
    "    output_dir=\"./transformer_checkpoints\",\n",
    "    num_train_epochs=10,\n",
    "    per_device_train_batch_size=8,\n",
    "    logging_steps=50,\n",
    ")\n",
    "\n",
    "# set up trainer and fine-tune model\n",
    "trainer = Trainer(\n",
    "    model=model,\n",
    "    args=training_args,\n",
    "    train_dataset=train_dataset,\n",
    "    eval_dataset=val_dataset,\n",
    ")\n",
    "trainer.train()\n",
    "\n",
    "trainer = Trainer(model=model, compute_metrics=compute_metrics)\n",
    "val_results = trainer.predict(val_dataset)\n",
    "print(\"Accuracy on validation set (frozen parameters):\", val_results.metrics[\"test_accuracy\"])\n",
    "\n",
    "\n",
    "\n",
    "# unfreeze parameters and fine-tune model\n",
    "for param in model.bert.parameters():\n",
    "    param.requires_grad = True\n",
    "\n",
    "training_args2 = TrainingArguments(\n",
    "    output_dir=\"./transformer_checkpoints\",\n",
    "    num_train_epochs=10,\n",
    "    per_device_train_batch_size=8,\n",
    "    logging_steps=50,\n",
    ")\n",
    "\n",
    "trainer2 = Trainer(\n",
    "    model=model,\n",
    "    args=training_args2,\n",
    "    train_dataset=train_dataset,\n",
    "    eval_dataset=val_dataset,\n",
    ")\n",
    "trainer2.train()\n",
    "trainer2 = Trainer(model=model, compute_metrics=compute_metrics)\n",
    "val_results2 = trainer2.predict(val_dataset)\n",
    "\n",
    "\n",
    "val_results = trainer2.predict(val_dataset)\n",
    "print(\"Accuracy on test set (unfrozen parameters):\", val_results2.metrics[\"test_accuracy\"])\n"
   ]
  },
  {
   "attachments": {},
   "cell_type": "markdown",
   "id": "48f1661d-a203-42ee-8681-025f2bdfe661",
   "metadata": {},
   "source": [
    "**TO-DO 6e:** Did your sentiment classifier make use of any kind of model transfer or transfer learning? If so, what kinds of transfer were used and what benefit do they provide? **(4 marks)**\n",
    "\n",
    "WRITE YOUR ANSWER HERE:\n",
    "<br>\n",
    "<span style=\"color:red\">\n",
    "Yes, the sentiment classifier made use of a model transfer learning by fine-tuning pre-trained transformer models. Firstly, the code uses a pre-trained transformer model using the `AutoModelForSequenceClassification` method. The pre-trained transformer model used in this code is `bert-base-uncased`. Additionally, my code also uses `TinyBERT_General_4L_312D` tokenizer to encode the poem datset. \n",
    "<br>\n",
    "By using pre-trained transformer models and fine-tuning them on a smaller datsaset, my code benefits from transfer learning, allowing the model to leverage the knowledge learned from a large corpus of text data and adapt it to the specific task of sentiment analysis of poems.\n",
    "<br>\n",
    "Using differnt ore-trained models also affects accuracy of the algorithm.\n",
    "</span>\n",
    "\n",
    "---\n",
    "\n",
    "**TO-DO 6f:** Use your model to compute the probability of sentiment for a sentence of your choosing. Comment your code and print the sentence with its probability distribution. Label the values so that we know which class they refer to. **(4 marks)**\n",
    "\n",
    "Hint: you could use a poem generator, such as [this one](https://www.poemofquotes.com/tools/poetry-generator/ai-poem-generator), to generate a test sentence. "
   ]
  },
  {
   "cell_type": "code",
   "execution_count": 39,
   "id": "11fcdc69-ce30-4eb3-afc5-4eeba41b40db",
   "metadata": {},
   "outputs": [
    {
     "name": "stdout",
     "output_type": "stream",
     "text": [
      "Sentence: Springs magic Flowers blooming Birds singing Nature coming alive All living things growing Living life Growing stronger Spring, I love you!\n",
      "Probabilities Distribution: \n",
      "negative: 0.00013046922686044127\n",
      "positive: 0.9994756579399109\n",
      "no_impact: 0.00011731424456229433\n",
      "mixed: 0.00027657923055812716\n"
     ]
    }
   ],
   "source": [
    "# WRITE YOUR ANSWER HERE   \n",
    "device = torch.device(\"cuda:0\" if torch.cuda.is_available() else \"cpu\")\n",
    "\n",
    "sentence = \"Springs magic \\\n",
    "Flowers blooming \\\n",
    "Birds singing \\\n",
    "Nature coming alive \\\n",
    "All living things growing \\\n",
    "Living life \\\n",
    "Growing stronger \\\n",
    "Spring, I love you!\"\n",
    "\n",
    "inputs = tokenizer(sentence, padding=True, truncation=True, return_tensors='pt')\n",
    "inputs.to(device)\n",
    "model.to(device)\n",
    "outputs = model(**inputs)\n",
    "\n",
    "probs = torch.nn.functional.softmax(outputs.logits, dim=-1)\n",
    "\n",
    "print(f\"Sentence: {sentence}\")\n",
    "print(f\"Probabilities Distribution: \")\n",
    "for i, label in enumerate(dataset[\"train\"].features[\"label\"].names):\n",
    "    print(f\"{label}: {probs[0, i].item()}\")\n"
   ]
  },
  {
   "cell_type": "markdown",
   "id": "26bb0d80-4624-4690-a94d-b9f3c1a60d7f",
   "metadata": {},
   "source": [
    "# 7. OPTIONAL: More on Transformers\n",
    "\n",
    "There are many great resources out there to show you how to use this kind of model in practice:\n",
    "* An extensive online course is provided by HuggingFace: https://huggingface.co/course/chapter1/1. The pages linked from the HuggingFace course website have an 'open in Colab' button on the top right. You can open the notebook and run it on a Google server there to access GPUs.\n",
    "* Chapters that may be particularly useful: \n",
    "   * Transformers, what can they do? https://huggingface.co/course/chapter1/3?fw=pt\n",
    "   * Using Transformers: https://huggingface.co/course/chapter2/2?fw=pt\n",
    "* They provide information on fine-tuning the transformer models here: https://huggingface.co/docs/transformers/training. Fine-tuning updates the weights inside the pretrained network and requires extensive GPU or TPU computing. \n",
    "* Text Generation: https://colab.research.google.com/github/huggingface/blog/blob/master/notebooks/02_how_to_generate.ipynb. This topic goes way beyond data analytics on this unit and shows you another powerful feature of pretrained transformers.\n",
    "\n",
    "\n"
   ]
  },
  {
   "cell_type": "code",
   "execution_count": null,
   "id": "c1e18f91-4107-437a-b939-caf4c321e7bf",
   "metadata": {},
   "outputs": [],
   "source": []
  }
 ],
 "metadata": {
  "kernelspec": {
   "display_name": "Python 3",
   "language": "python",
   "name": "python3"
  },
  "language_info": {
   "codemirror_mode": {
    "name": "ipython",
    "version": 3
   },
   "file_extension": ".py",
   "mimetype": "text/x-python",
   "name": "python",
   "nbconvert_exporter": "python",
   "pygments_lexer": "ipython3",
   "version": "3.10.9"
  }
 },
 "nbformat": 4,
 "nbformat_minor": 5
}
